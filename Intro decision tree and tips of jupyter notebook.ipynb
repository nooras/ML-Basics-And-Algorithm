{
 "cells": [
  {
   "cell_type": "markdown",
   "metadata": {},
   "source": [
    "# Decision tree\n",
    "- It is a flowchart like tree structure.\n",
    "- Internal node represent feature, branch represent a decison rule and each leaf node represent the outcome\n",
    "- Topmost node known as root node.\n",
    "- It partitions the tree in recursively manner call recusrive partitioning.\n",
    "- Book : An introduction to statistical learning.\n",
    "- Decision tree : 1. CART(Classification and Regression Tree) 2. ID3 (Iterative Dichomister 3)"
   ]
  },
  {
   "cell_type": "markdown",
   "metadata": {},
   "source": [
    "- Run : Shift + Enter \n",
    "- Markdown : Click cell + M\n",
    "- Code : click cell + Y\n",
    "- Executed but not moved to next cell : Ctrl + Enter\n",
    "- Enter into command mode : press escape\n",
    "- Above : A\n",
    "- Below : B"
   ]
  },
  {
   "cell_type": "code",
   "execution_count": null,
   "metadata": {},
   "outputs": [],
   "source": []
  }
 ],
 "metadata": {
  "kernelspec": {
   "display_name": "Python 3",
   "language": "python",
   "name": "python3"
  },
  "language_info": {
   "codemirror_mode": {
    "name": "ipython",
    "version": 3
   },
   "file_extension": ".py",
   "mimetype": "text/x-python",
   "name": "python",
   "nbconvert_exporter": "python",
   "pygments_lexer": "ipython3",
   "version": "3.6.5"
  }
 },
 "nbformat": 4,
 "nbformat_minor": 2
}
