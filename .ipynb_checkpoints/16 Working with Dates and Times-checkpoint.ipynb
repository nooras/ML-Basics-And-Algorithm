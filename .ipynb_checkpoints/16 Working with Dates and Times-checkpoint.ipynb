{
 "cells": [
  {
   "cell_type": "code",
   "execution_count": 65,
   "metadata": {},
   "outputs": [
    {
     "name": "stdout",
     "output_type": "stream",
     "text": [
      "Collecting pandas-datareader\n",
      "\u001b[?25l  Downloading https://files.pythonhosted.org/packages/14/52/accb990baebe0063977f26e02df36aa7eb4015ed4e86f828cd76273cd6f1/pandas_datareader-0.8.1-py2.py3-none-any.whl (107kB)\n",
      "\u001b[K    100% |████████████████████████████████| 112kB 1.1MB/s ta 0:00:01\n",
      "\u001b[?25hRequirement already satisfied: pandas>=0.21 in /home/ansari/anaconda3/lib/python3.6/site-packages (from pandas-datareader) (0.23.0)\n",
      "Requirement already satisfied: lxml in /home/ansari/anaconda3/lib/python3.6/site-packages (from pandas-datareader) (4.2.1)\n",
      "Requirement already satisfied: requests>=2.3.0 in /home/ansari/anaconda3/lib/python3.6/site-packages (from pandas-datareader) (2.18.4)\n",
      "Requirement already satisfied: python-dateutil>=2.5.0 in /home/ansari/anaconda3/lib/python3.6/site-packages (from pandas>=0.21->pandas-datareader) (2.7.3)\n",
      "Requirement already satisfied: pytz>=2011k in /home/ansari/anaconda3/lib/python3.6/site-packages (from pandas>=0.21->pandas-datareader) (2018.4)\n",
      "Requirement already satisfied: numpy>=1.9.0 in /home/ansari/anaconda3/lib/python3.6/site-packages (from pandas>=0.21->pandas-datareader) (1.14.3)\n",
      "Requirement already satisfied: chardet<3.1.0,>=3.0.2 in /home/ansari/anaconda3/lib/python3.6/site-packages (from requests>=2.3.0->pandas-datareader) (3.0.4)\n",
      "Requirement already satisfied: idna<2.7,>=2.5 in /home/ansari/anaconda3/lib/python3.6/site-packages (from requests>=2.3.0->pandas-datareader) (2.6)\n",
      "Requirement already satisfied: urllib3<1.23,>=1.21.1 in /home/ansari/anaconda3/lib/python3.6/site-packages (from requests>=2.3.0->pandas-datareader) (1.22)\n",
      "Requirement already satisfied: certifi>=2017.4.17 in /home/ansari/anaconda3/lib/python3.6/site-packages (from requests>=2.3.0->pandas-datareader) (2018.4.16)\n",
      "Requirement already satisfied: six>=1.5 in /home/ansari/anaconda3/lib/python3.6/site-packages (from python-dateutil>=2.5.0->pandas>=0.21->pandas-datareader) (1.11.0)\n",
      "Installing collected packages: pandas-datareader\n",
      "Successfully installed pandas-datareader-0.8.1\n",
      "\u001b[33mYou are using pip version 19.0.3, however version 20.0.2 is available.\n",
      "You should consider upgrading via the 'pip install --upgrade pip' command.\u001b[0m\n"
     ]
    }
   ],
   "source": [
    "!pip install pandas-datareader"
   ]
  },
  {
   "cell_type": "code",
   "execution_count": 1,
   "metadata": {},
   "outputs": [],
   "source": [
    "import pandas as pd\n",
    "import datetime as dt"
   ]
  },
  {
   "cell_type": "code",
   "execution_count": 2,
   "metadata": {},
   "outputs": [],
   "source": [
    "some = dt.date(2010, 4, 12)"
   ]
  },
  {
   "cell_type": "code",
   "execution_count": 3,
   "metadata": {},
   "outputs": [
    {
     "data": {
      "text/plain": [
       "2010"
      ]
     },
     "execution_count": 3,
     "metadata": {},
     "output_type": "execute_result"
    }
   ],
   "source": [
    "some.year"
   ]
  },
  {
   "cell_type": "code",
   "execution_count": 4,
   "metadata": {},
   "outputs": [
    {
     "data": {
      "text/plain": [
       "4"
      ]
     },
     "execution_count": 4,
     "metadata": {},
     "output_type": "execute_result"
    }
   ],
   "source": [
    "some.month"
   ]
  },
  {
   "cell_type": "code",
   "execution_count": 5,
   "metadata": {},
   "outputs": [
    {
     "data": {
      "text/plain": [
       "12"
      ]
     },
     "execution_count": 5,
     "metadata": {},
     "output_type": "execute_result"
    }
   ],
   "source": [
    "some.day"
   ]
  },
  {
   "cell_type": "code",
   "execution_count": 6,
   "metadata": {},
   "outputs": [
    {
     "data": {
      "text/plain": [
       "datetime.datetime(2010, 1, 10, 0, 0)"
      ]
     },
     "execution_count": 6,
     "metadata": {},
     "output_type": "execute_result"
    }
   ],
   "source": [
    "dt.datetime(2010, 1, 10)"
   ]
  },
  {
   "cell_type": "code",
   "execution_count": 7,
   "metadata": {},
   "outputs": [
    {
     "data": {
      "text/plain": [
       "'2010-04-12'"
      ]
     },
     "execution_count": 7,
     "metadata": {},
     "output_type": "execute_result"
    }
   ],
   "source": [
    "str(some)"
   ]
  },
  {
   "cell_type": "code",
   "execution_count": 8,
   "metadata": {},
   "outputs": [
    {
     "data": {
      "text/plain": [
       "'2010-01-10 05:05:10'"
      ]
     },
     "execution_count": 8,
     "metadata": {},
     "output_type": "execute_result"
    }
   ],
   "source": [
    "str(dt.datetime(2010, 1, 10, 5, 5, 10))"
   ]
  },
  {
   "cell_type": "markdown",
   "metadata": {},
   "source": [
    "## Pandas Timestamp Object"
   ]
  },
  {
   "cell_type": "code",
   "execution_count": 9,
   "metadata": {},
   "outputs": [
    {
     "data": {
      "text/plain": [
       "Timestamp('2010-01-10 00:00:00')"
      ]
     },
     "execution_count": 9,
     "metadata": {},
     "output_type": "execute_result"
    }
   ],
   "source": [
    "pd.Timestamp(dt.datetime(2010, 1, 10))"
   ]
  },
  {
   "cell_type": "code",
   "execution_count": 10,
   "metadata": {},
   "outputs": [
    {
     "data": {
      "text/plain": [
       "Timestamp('2013-11-04 00:00:00')"
      ]
     },
     "execution_count": 10,
     "metadata": {},
     "output_type": "execute_result"
    }
   ],
   "source": [
    "pd.Timestamp('2013, 11, 04')"
   ]
  },
  {
   "cell_type": "code",
   "execution_count": 11,
   "metadata": {},
   "outputs": [
    {
     "data": {
      "text/plain": [
       "Timestamp('2010-02-03 00:00:00')"
      ]
     },
     "execution_count": 11,
     "metadata": {},
     "output_type": "execute_result"
    }
   ],
   "source": [
    "pd.Timestamp('2010-2-3')\n"
   ]
  },
  {
   "cell_type": "code",
   "execution_count": 12,
   "metadata": {},
   "outputs": [
    {
     "data": {
      "text/plain": [
       "Timestamp('2020-12-02 00:00:00')"
      ]
     },
     "execution_count": 12,
     "metadata": {},
     "output_type": "execute_result"
    }
   ],
   "source": [
    "pd.Timestamp('12/2/2020')"
   ]
  },
  {
   "cell_type": "code",
   "execution_count": 13,
   "metadata": {},
   "outputs": [
    {
     "data": {
      "text/plain": [
       "Timestamp('2020-03-21 18:02:20')"
      ]
     },
     "execution_count": 13,
     "metadata": {},
     "output_type": "execute_result"
    }
   ],
   "source": [
    "pd.Timestamp('2020-03-21 18:02:20')"
   ]
  },
  {
   "cell_type": "markdown",
   "metadata": {},
   "source": [
    "## Pandas DateTimeIndex Object"
   ]
  },
  {
   "cell_type": "code",
   "execution_count": 14,
   "metadata": {},
   "outputs": [],
   "source": [
    "dates = ['2016/01/02', '2016-04-12', '2019-03-20']"
   ]
  },
  {
   "cell_type": "code",
   "execution_count": 15,
   "metadata": {},
   "outputs": [
    {
     "data": {
      "text/plain": [
       "DatetimeIndex(['2016-01-02', '2016-04-12', '2019-03-20'], dtype='datetime64[ns]', freq=None)"
      ]
     },
     "execution_count": 15,
     "metadata": {},
     "output_type": "execute_result"
    }
   ],
   "source": [
    "pd.DatetimeIndex(dates)"
   ]
  },
  {
   "cell_type": "code",
   "execution_count": 16,
   "metadata": {},
   "outputs": [
    {
     "data": {
      "text/plain": [
       "DatetimeIndex(['2016-01-10', '2016-01-10', '2016-01-10'], dtype='datetime64[ns]', freq=None)"
      ]
     },
     "execution_count": 16,
     "metadata": {},
     "output_type": "execute_result"
    }
   ],
   "source": [
    "dat = [dt.date(2016, 1, 10), dt.date(2016, 1, 10), dt.date(2016, 1, 10)]\n",
    "pd.DatetimeIndex(dat)"
   ]
  },
  {
   "cell_type": "code",
   "execution_count": 17,
   "metadata": {},
   "outputs": [
    {
     "data": {
      "text/plain": [
       "2016-01-10    100\n",
       "2016-01-10    200\n",
       "2016-01-10    300\n",
       "dtype: int64"
      ]
     },
     "execution_count": 17,
     "metadata": {},
     "output_type": "execute_result"
    }
   ],
   "source": [
    "value = [100, 200, 300]\n",
    "pd.Series(data=value, index=dat)"
   ]
  },
  {
   "cell_type": "markdown",
   "metadata": {},
   "source": [
    "## pd.to_datetime() Method"
   ]
  },
  {
   "cell_type": "code",
   "execution_count": 18,
   "metadata": {},
   "outputs": [
    {
     "data": {
      "text/plain": [
       "Timestamp('2016-01-10 00:00:00')"
      ]
     },
     "execution_count": 18,
     "metadata": {},
     "output_type": "execute_result"
    }
   ],
   "source": [
    "pd.to_datetime('2001-01-16')\n",
    "pd.to_datetime(dt.date(2016, 1, 10))"
   ]
  },
  {
   "cell_type": "code",
   "execution_count": 19,
   "metadata": {},
   "outputs": [
    {
     "data": {
      "text/plain": [
       "DatetimeIndex(['2015-01-03', '2014-02-08', '2016-01-01', '1996-07-04'], dtype='datetime64[ns]', freq=None)"
      ]
     },
     "execution_count": 19,
     "metadata": {},
     "output_type": "execute_result"
    }
   ],
   "source": [
    "pd.to_datetime(['2015-01-03', '2014/02/08', '2016', 'July 4th, 1996'])"
   ]
  },
  {
   "cell_type": "code",
   "execution_count": 20,
   "metadata": {},
   "outputs": [
    {
     "data": {
      "text/plain": [
       "0        2015-01-03\n",
       "1        2014/02/08\n",
       "2              2016\n",
       "3    July 4th, 1996\n",
       "dtype: object"
      ]
     },
     "execution_count": 20,
     "metadata": {},
     "output_type": "execute_result"
    }
   ],
   "source": [
    "times = pd.Series(['2015-01-03', '2014/02/08', '2016', 'July 4th, 1996'])\n",
    "times"
   ]
  },
  {
   "cell_type": "code",
   "execution_count": 21,
   "metadata": {},
   "outputs": [
    {
     "data": {
      "text/plain": [
       "0   2015-01-03\n",
       "1   2014-02-08\n",
       "2   2016-01-01\n",
       "3   1996-07-04\n",
       "dtype: datetime64[ns]"
      ]
     },
     "execution_count": 21,
     "metadata": {},
     "output_type": "execute_result"
    }
   ],
   "source": [
    "pd.to_datetime(times)"
   ]
  },
  {
   "cell_type": "code",
   "execution_count": 22,
   "metadata": {},
   "outputs": [],
   "source": [
    "data = pd.Series(['July 4th, 1996', '10/01/1991', 'Hello', '2015-02-31'])"
   ]
  },
  {
   "cell_type": "code",
   "execution_count": 23,
   "metadata": {},
   "outputs": [
    {
     "data": {
      "text/plain": [
       "0   1996-07-04\n",
       "1   1991-10-01\n",
       "2          NaT\n",
       "3          NaT\n",
       "dtype: datetime64[ns]"
      ]
     },
     "execution_count": 23,
     "metadata": {},
     "output_type": "execute_result"
    }
   ],
   "source": [
    "pd.to_datetime(data, errors='coerce')"
   ]
  },
  {
   "cell_type": "markdown",
   "metadata": {},
   "source": [
    "## Create range of dates with pd.date_range() Method"
   ]
  },
  {
   "cell_type": "code",
   "execution_count": 24,
   "metadata": {},
   "outputs": [],
   "source": [
    "times = pd.date_range('2016-02-01','2016-03-01', freq='D')"
   ]
  },
  {
   "cell_type": "code",
   "execution_count": 25,
   "metadata": {},
   "outputs": [
    {
     "data": {
      "text/plain": [
       "pandas.core.indexes.datetimes.DatetimeIndex"
      ]
     },
     "execution_count": 25,
     "metadata": {},
     "output_type": "execute_result"
    }
   ],
   "source": [
    "type(times)"
   ]
  },
  {
   "cell_type": "code",
   "execution_count": 26,
   "metadata": {},
   "outputs": [
    {
     "data": {
      "text/plain": [
       "Timestamp('2016-02-01 00:00:00', freq='D')"
      ]
     },
     "execution_count": 26,
     "metadata": {},
     "output_type": "execute_result"
    }
   ],
   "source": [
    "times[0]"
   ]
  },
  {
   "cell_type": "code",
   "execution_count": 27,
   "metadata": {},
   "outputs": [
    {
     "data": {
      "text/plain": [
       "pandas._libs.tslibs.timestamps.Timestamp"
      ]
     },
     "execution_count": 27,
     "metadata": {},
     "output_type": "execute_result"
    }
   ],
   "source": [
    "type(times[0])"
   ]
  },
  {
   "cell_type": "code",
   "execution_count": 28,
   "metadata": {},
   "outputs": [],
   "source": [
    "times = pd.date_range('2016-02-01','2016-03-01', freq='5D')"
   ]
  },
  {
   "cell_type": "code",
   "execution_count": 29,
   "metadata": {},
   "outputs": [
    {
     "data": {
      "text/plain": [
       "DatetimeIndex(['2016-02-01', '2016-02-06', '2016-02-11', '2016-02-16',\n",
       "               '2016-02-21', '2016-02-26'],\n",
       "              dtype='datetime64[ns]', freq='5D')"
      ]
     },
     "execution_count": 29,
     "metadata": {},
     "output_type": "execute_result"
    }
   ],
   "source": [
    "times"
   ]
  },
  {
   "cell_type": "code",
   "execution_count": 30,
   "metadata": {},
   "outputs": [],
   "source": [
    "times = pd.date_range('2016-02-01','2016-03-01', freq='W')"
   ]
  },
  {
   "cell_type": "code",
   "execution_count": 31,
   "metadata": {},
   "outputs": [
    {
     "data": {
      "text/plain": [
       "DatetimeIndex(['2016-02-07', '2016-02-14', '2016-02-21', '2016-02-28'], dtype='datetime64[ns]', freq='W-SUN')"
      ]
     },
     "execution_count": 31,
     "metadata": {},
     "output_type": "execute_result"
    }
   ],
   "source": [
    "times"
   ]
  },
  {
   "cell_type": "code",
   "execution_count": 32,
   "metadata": {},
   "outputs": [],
   "source": [
    "times = pd.date_range('2016-02-01','2016-03-01', freq='H')"
   ]
  },
  {
   "cell_type": "code",
   "execution_count": 33,
   "metadata": {},
   "outputs": [
    {
     "data": {
      "text/plain": [
       "DatetimeIndex(['2016-02-01 00:00:00', '2016-02-01 01:00:00',\n",
       "               '2016-02-01 02:00:00', '2016-02-01 03:00:00',\n",
       "               '2016-02-01 04:00:00', '2016-02-01 05:00:00',\n",
       "               '2016-02-01 06:00:00', '2016-02-01 07:00:00',\n",
       "               '2016-02-01 08:00:00', '2016-02-01 09:00:00',\n",
       "               ...\n",
       "               '2016-02-29 15:00:00', '2016-02-29 16:00:00',\n",
       "               '2016-02-29 17:00:00', '2016-02-29 18:00:00',\n",
       "               '2016-02-29 19:00:00', '2016-02-29 20:00:00',\n",
       "               '2016-02-29 21:00:00', '2016-02-29 22:00:00',\n",
       "               '2016-02-29 23:00:00', '2016-03-01 00:00:00'],\n",
       "              dtype='datetime64[ns]', length=697, freq='H')"
      ]
     },
     "execution_count": 33,
     "metadata": {},
     "output_type": "execute_result"
    }
   ],
   "source": [
    "times"
   ]
  },
  {
   "cell_type": "code",
   "execution_count": 34,
   "metadata": {},
   "outputs": [],
   "source": [
    "times = pd.date_range('2016-02-01','2016-03-01', freq='MS')"
   ]
  },
  {
   "cell_type": "code",
   "execution_count": 35,
   "metadata": {},
   "outputs": [
    {
     "data": {
      "text/plain": [
       "DatetimeIndex(['2016-02-01', '2016-03-01'], dtype='datetime64[ns]', freq='MS')"
      ]
     },
     "execution_count": 35,
     "metadata": {},
     "output_type": "execute_result"
    }
   ],
   "source": [
    "times"
   ]
  },
  {
   "cell_type": "code",
   "execution_count": 36,
   "metadata": {},
   "outputs": [],
   "source": [
    "times = pd.date_range('2016-02-01','2016-03-01', freq='A')"
   ]
  },
  {
   "cell_type": "code",
   "execution_count": 37,
   "metadata": {},
   "outputs": [
    {
     "data": {
      "text/plain": [
       "DatetimeIndex([], dtype='datetime64[ns]', freq='A-DEC')"
      ]
     },
     "execution_count": 37,
     "metadata": {},
     "output_type": "execute_result"
    }
   ],
   "source": [
    "times"
   ]
  },
  {
   "cell_type": "code",
   "execution_count": 38,
   "metadata": {},
   "outputs": [],
   "source": [
    "times = pd.date_range(start='2016-02-01', periods=25, freq='D')"
   ]
  },
  {
   "cell_type": "code",
   "execution_count": 39,
   "metadata": {},
   "outputs": [
    {
     "data": {
      "text/plain": [
       "DatetimeIndex(['2016-02-01', '2016-02-02', '2016-02-03', '2016-02-04',\n",
       "               '2016-02-05', '2016-02-06', '2016-02-07', '2016-02-08',\n",
       "               '2016-02-09', '2016-02-10', '2016-02-11', '2016-02-12',\n",
       "               '2016-02-13', '2016-02-14', '2016-02-15', '2016-02-16',\n",
       "               '2016-02-17', '2016-02-18', '2016-02-19', '2016-02-20',\n",
       "               '2016-02-21', '2016-02-22', '2016-02-23', '2016-02-24',\n",
       "               '2016-02-25'],\n",
       "              dtype='datetime64[ns]', freq='D')"
      ]
     },
     "execution_count": 39,
     "metadata": {},
     "output_type": "execute_result"
    }
   ],
   "source": [
    "times"
   ]
  },
  {
   "cell_type": "code",
   "execution_count": 40,
   "metadata": {},
   "outputs": [
    {
     "data": {
      "text/plain": [
       "25"
      ]
     },
     "execution_count": 40,
     "metadata": {},
     "output_type": "execute_result"
    }
   ],
   "source": [
    "len(times)"
   ]
  },
  {
   "cell_type": "code",
   "execution_count": 41,
   "metadata": {},
   "outputs": [
    {
     "data": {
      "text/plain": [
       "DatetimeIndex(['2016-02-01', '2016-02-02', '2016-02-03', '2016-02-04',\n",
       "               '2016-02-05', '2016-02-06', '2016-02-07', '2016-02-08',\n",
       "               '2016-02-09', '2016-02-10', '2016-02-11', '2016-02-12',\n",
       "               '2016-02-13', '2016-02-14', '2016-02-15', '2016-02-16',\n",
       "               '2016-02-17', '2016-02-18', '2016-02-19', '2016-02-20',\n",
       "               '2016-02-21', '2016-02-22', '2016-02-23', '2016-02-24',\n",
       "               '2016-02-25', '2016-02-26', '2016-02-27', '2016-02-28',\n",
       "               '2016-02-29', '2016-03-01', '2016-03-02', '2016-03-03',\n",
       "               '2016-03-04', '2016-03-05', '2016-03-06', '2016-03-07',\n",
       "               '2016-03-08', '2016-03-09', '2016-03-10', '2016-03-11',\n",
       "               '2016-03-12', '2016-03-13', '2016-03-14', '2016-03-15',\n",
       "               '2016-03-16', '2016-03-17', '2016-03-18', '2016-03-19',\n",
       "               '2016-03-20', '2016-03-21'],\n",
       "              dtype='datetime64[ns]', freq='D')"
      ]
     },
     "execution_count": 41,
     "metadata": {},
     "output_type": "execute_result"
    }
   ],
   "source": [
    "times = pd.date_range(start='2016-02-01', periods=50, freq='D')\n",
    "times"
   ]
  },
  {
   "cell_type": "code",
   "execution_count": 42,
   "metadata": {},
   "outputs": [
    {
     "data": {
      "text/plain": [
       "DatetimeIndex(['2016-02-01', '2016-02-02', '2016-02-03', '2016-02-04',\n",
       "               '2016-02-05', '2016-02-08', '2016-02-09', '2016-02-10',\n",
       "               '2016-02-11', '2016-02-12', '2016-02-15', '2016-02-16',\n",
       "               '2016-02-17', '2016-02-18', '2016-02-19', '2016-02-22',\n",
       "               '2016-02-23', '2016-02-24', '2016-02-25', '2016-02-26',\n",
       "               '2016-02-29', '2016-03-01', '2016-03-02', '2016-03-03',\n",
       "               '2016-03-04'],\n",
       "              dtype='datetime64[ns]', freq='B')"
      ]
     },
     "execution_count": 42,
     "metadata": {},
     "output_type": "execute_result"
    }
   ],
   "source": [
    "times = pd.date_range(start='2016-02-01', periods=25, freq='B')\n",
    "times"
   ]
  },
  {
   "cell_type": "code",
   "execution_count": 43,
   "metadata": {},
   "outputs": [
    {
     "data": {
      "text/plain": [
       "DatetimeIndex(['2016-02-07', '2016-02-14', '2016-02-21', '2016-02-28',\n",
       "               '2016-03-06', '2016-03-13', '2016-03-20', '2016-03-27',\n",
       "               '2016-04-03', '2016-04-10', '2016-04-17', '2016-04-24',\n",
       "               '2016-05-01', '2016-05-08', '2016-05-15', '2016-05-22',\n",
       "               '2016-05-29', '2016-06-05', '2016-06-12', '2016-06-19',\n",
       "               '2016-06-26', '2016-07-03', '2016-07-10', '2016-07-17',\n",
       "               '2016-07-24'],\n",
       "              dtype='datetime64[ns]', freq='W-SUN')"
      ]
     },
     "execution_count": 43,
     "metadata": {},
     "output_type": "execute_result"
    }
   ],
   "source": [
    "times = pd.date_range(start='2016-02-01', periods=25, freq='W')\n",
    "times"
   ]
  },
  {
   "cell_type": "code",
   "execution_count": 44,
   "metadata": {},
   "outputs": [
    {
     "data": {
      "text/plain": [
       "DatetimeIndex(['2016-02-07', '2016-02-14', '2016-02-21', '2016-02-28',\n",
       "               '2016-03-06', '2016-03-13', '2016-03-20', '2016-03-27',\n",
       "               '2016-04-03', '2016-04-10', '2016-04-17', '2016-04-24',\n",
       "               '2016-05-01', '2016-05-08', '2016-05-15', '2016-05-22',\n",
       "               '2016-05-29', '2016-06-05', '2016-06-12', '2016-06-19',\n",
       "               '2016-06-26', '2016-07-03', '2016-07-10', '2016-07-17',\n",
       "               '2016-07-24'],\n",
       "              dtype='datetime64[ns]', freq='W-SUN')"
      ]
     },
     "execution_count": 44,
     "metadata": {},
     "output_type": "execute_result"
    }
   ],
   "source": [
    "times = pd.date_range(start='2016-02-01', periods=25, freq='W-SUN')\n",
    "times"
   ]
  },
  {
   "cell_type": "code",
   "execution_count": 45,
   "metadata": {},
   "outputs": [
    {
     "data": {
      "text/plain": [
       "DatetimeIndex(['2016-02-01 00:00:00', '2016-02-01 06:00:00',\n",
       "               '2016-02-01 12:00:00', '2016-02-01 18:00:00',\n",
       "               '2016-02-02 00:00:00', '2016-02-02 06:00:00',\n",
       "               '2016-02-02 12:00:00', '2016-02-02 18:00:00',\n",
       "               '2016-02-03 00:00:00', '2016-02-03 06:00:00',\n",
       "               '2016-02-03 12:00:00', '2016-02-03 18:00:00',\n",
       "               '2016-02-04 00:00:00', '2016-02-04 06:00:00',\n",
       "               '2016-02-04 12:00:00', '2016-02-04 18:00:00',\n",
       "               '2016-02-05 00:00:00', '2016-02-05 06:00:00',\n",
       "               '2016-02-05 12:00:00', '2016-02-05 18:00:00',\n",
       "               '2016-02-06 00:00:00', '2016-02-06 06:00:00',\n",
       "               '2016-02-06 12:00:00', '2016-02-06 18:00:00',\n",
       "               '2016-02-07 00:00:00'],\n",
       "              dtype='datetime64[ns]', freq='6H')"
      ]
     },
     "execution_count": 45,
     "metadata": {},
     "output_type": "execute_result"
    }
   ],
   "source": [
    "times = pd.date_range(start='2016-02-01', periods=25, freq='6H')\n",
    "times"
   ]
  },
  {
   "cell_type": "code",
   "execution_count": 46,
   "metadata": {},
   "outputs": [
    {
     "data": {
      "text/plain": [
       "DatetimeIndex(['2015-12-29', '2015-12-30', '2015-12-31', '2016-01-01',\n",
       "               '2016-01-04', '2016-01-05', '2016-01-06', '2016-01-07',\n",
       "               '2016-01-08', '2016-01-11', '2016-01-12', '2016-01-13',\n",
       "               '2016-01-14', '2016-01-15', '2016-01-18', '2016-01-19',\n",
       "               '2016-01-20', '2016-01-21', '2016-01-22', '2016-01-25',\n",
       "               '2016-01-26', '2016-01-27', '2016-01-28', '2016-01-29',\n",
       "               '2016-02-01'],\n",
       "              dtype='datetime64[ns]', freq='B')"
      ]
     },
     "execution_count": 46,
     "metadata": {},
     "output_type": "execute_result"
    }
   ],
   "source": [
    "times = pd.date_range(end='2016-02-01', periods=25, freq='B')\n",
    "times"
   ]
  },
  {
   "cell_type": "code",
   "execution_count": 47,
   "metadata": {},
   "outputs": [
    {
     "data": {
      "text/plain": [
       "DatetimeIndex(['2015-08-16', '2015-08-23', '2015-08-30', '2015-09-06',\n",
       "               '2015-09-13', '2015-09-20', '2015-09-27', '2015-10-04',\n",
       "               '2015-10-11', '2015-10-18', '2015-10-25', '2015-11-01',\n",
       "               '2015-11-08', '2015-11-15', '2015-11-22', '2015-11-29',\n",
       "               '2015-12-06', '2015-12-13', '2015-12-20', '2015-12-27',\n",
       "               '2016-01-03', '2016-01-10', '2016-01-17', '2016-01-24',\n",
       "               '2016-01-31'],\n",
       "              dtype='datetime64[ns]', freq='W-SUN')"
      ]
     },
     "execution_count": 47,
     "metadata": {},
     "output_type": "execute_result"
    }
   ],
   "source": [
    "times = pd.date_range(end='2016-02-01', periods=25, freq='W-SUN')\n",
    "times"
   ]
  },
  {
   "cell_type": "code",
   "execution_count": 48,
   "metadata": {},
   "outputs": [
    {
     "data": {
      "text/plain": [
       "0   2015-08-16\n",
       "1   2015-08-23\n",
       "2   2015-08-30\n",
       "3   2015-09-06\n",
       "4   2015-09-13\n",
       "dtype: datetime64[ns]"
      ]
     },
     "execution_count": 48,
     "metadata": {},
     "output_type": "execute_result"
    }
   ],
   "source": [
    "s = pd.Series(times)\n",
    "s.head()"
   ]
  },
  {
   "cell_type": "markdown",
   "metadata": {},
   "source": [
    "## .dt "
   ]
  },
  {
   "cell_type": "code",
   "execution_count": 49,
   "metadata": {},
   "outputs": [
    {
     "data": {
      "text/plain": [
       "0     16\n",
       "1     23\n",
       "2     30\n",
       "3      6\n",
       "4     13\n",
       "5     20\n",
       "6     27\n",
       "7      4\n",
       "8     11\n",
       "9     18\n",
       "10    25\n",
       "11     1\n",
       "12     8\n",
       "13    15\n",
       "14    22\n",
       "15    29\n",
       "16     6\n",
       "17    13\n",
       "18    20\n",
       "19    27\n",
       "20     3\n",
       "21    10\n",
       "22    17\n",
       "23    24\n",
       "24    31\n",
       "dtype: int64"
      ]
     },
     "execution_count": 49,
     "metadata": {},
     "output_type": "execute_result"
    }
   ],
   "source": [
    "s.dt.day"
   ]
  },
  {
   "cell_type": "code",
   "execution_count": 50,
   "metadata": {},
   "outputs": [
    {
     "data": {
      "text/plain": [
       "0     2015-08-16\n",
       "1     2015-08-23\n",
       "2     2015-08-30\n",
       "3     2015-09-06\n",
       "4     2015-09-13\n",
       "5     2015-09-20\n",
       "6     2015-09-27\n",
       "7     2015-10-04\n",
       "8     2015-10-11\n",
       "9     2015-10-18\n",
       "10    2015-10-25\n",
       "11    2015-11-01\n",
       "12    2015-11-08\n",
       "13    2015-11-15\n",
       "14    2015-11-22\n",
       "15    2015-11-29\n",
       "16    2015-12-06\n",
       "17    2015-12-13\n",
       "18    2015-12-20\n",
       "19    2015-12-27\n",
       "20    2016-01-03\n",
       "21    2016-01-10\n",
       "22    2016-01-17\n",
       "23    2016-01-24\n",
       "24    2016-01-31\n",
       "dtype: object"
      ]
     },
     "execution_count": 50,
     "metadata": {},
     "output_type": "execute_result"
    }
   ],
   "source": [
    "s.dt.date"
   ]
  },
  {
   "cell_type": "code",
   "execution_count": 51,
   "metadata": {},
   "outputs": [
    {
     "data": {
      "text/plain": [
       "0      8\n",
       "1      8\n",
       "2      8\n",
       "3      9\n",
       "4      9\n",
       "5      9\n",
       "6      9\n",
       "7     10\n",
       "8     10\n",
       "9     10\n",
       "10    10\n",
       "11    11\n",
       "12    11\n",
       "13    11\n",
       "14    11\n",
       "15    11\n",
       "16    12\n",
       "17    12\n",
       "18    12\n",
       "19    12\n",
       "20     1\n",
       "21     1\n",
       "22     1\n",
       "23     1\n",
       "24     1\n",
       "dtype: int64"
      ]
     },
     "execution_count": 51,
     "metadata": {},
     "output_type": "execute_result"
    }
   ],
   "source": [
    "s.dt.month"
   ]
  },
  {
   "cell_type": "code",
   "execution_count": 52,
   "metadata": {},
   "outputs": [
    {
     "data": {
      "text/plain": [
       "0     Sunday\n",
       "1     Sunday\n",
       "2     Sunday\n",
       "3     Sunday\n",
       "4     Sunday\n",
       "5     Sunday\n",
       "6     Sunday\n",
       "7     Sunday\n",
       "8     Sunday\n",
       "9     Sunday\n",
       "10    Sunday\n",
       "11    Sunday\n",
       "12    Sunday\n",
       "13    Sunday\n",
       "14    Sunday\n",
       "15    Sunday\n",
       "16    Sunday\n",
       "17    Sunday\n",
       "18    Sunday\n",
       "19    Sunday\n",
       "20    Sunday\n",
       "21    Sunday\n",
       "22    Sunday\n",
       "23    Sunday\n",
       "24    Sunday\n",
       "dtype: object"
      ]
     },
     "execution_count": 52,
     "metadata": {},
     "output_type": "execute_result"
    }
   ],
   "source": [
    "s.dt.weekday_name"
   ]
  },
  {
   "cell_type": "code",
   "execution_count": 53,
   "metadata": {},
   "outputs": [
    {
     "data": {
      "text/plain": [
       "<bound method PandasDelegate._add_delegate_accessors.<locals>._create_delegator_method.<locals>.f of <pandas.core.indexes.accessors.DatetimeProperties object at 0x7f9fdc6ba898>>"
      ]
     },
     "execution_count": 53,
     "metadata": {},
     "output_type": "execute_result"
    }
   ],
   "source": [
    "s.dt.day_name"
   ]
  },
  {
   "cell_type": "code",
   "execution_count": 54,
   "metadata": {},
   "outputs": [
    {
     "data": {
      "text/plain": [
       "Series([], dtype: datetime64[ns])"
      ]
     },
     "execution_count": 54,
     "metadata": {},
     "output_type": "execute_result"
    }
   ],
   "source": [
    "mask = s.dt.is_quarter_start\n",
    "s[mask]"
   ]
  },
  {
   "cell_type": "code",
   "execution_count": 55,
   "metadata": {},
   "outputs": [
    {
     "data": {
      "text/plain": [
       "24   2016-01-31\n",
       "dtype: datetime64[ns]"
      ]
     },
     "execution_count": 55,
     "metadata": {},
     "output_type": "execute_result"
    }
   ],
   "source": [
    "mask = s.dt.is_month_end\n",
    "s[mask]"
   ]
  },
  {
   "cell_type": "code",
   "execution_count": 56,
   "metadata": {},
   "outputs": [
    {
     "data": {
      "text/plain": [
       "11   2015-11-01\n",
       "dtype: datetime64[ns]"
      ]
     },
     "execution_count": 56,
     "metadata": {},
     "output_type": "execute_result"
    }
   ],
   "source": [
    "mask = s.dt.is_month_start\n",
    "s[mask]"
   ]
  },
  {
   "cell_type": "markdown",
   "metadata": {},
   "source": [
    "## import financial dataset with pandas_datareader Library"
   ]
  },
  {
   "cell_type": "code",
   "execution_count": 57,
   "metadata": {},
   "outputs": [],
   "source": [
    "from pandas_datareader import data\n",
    "import datetime as dt"
   ]
  },
  {
   "cell_type": "code",
   "execution_count": 58,
   "metadata": {},
   "outputs": [
    {
     "data": {
      "text/html": [
       "<div>\n",
       "<style scoped>\n",
       "    .dataframe tbody tr th:only-of-type {\n",
       "        vertical-align: middle;\n",
       "    }\n",
       "\n",
       "    .dataframe tbody tr th {\n",
       "        vertical-align: top;\n",
       "    }\n",
       "\n",
       "    .dataframe thead tr th {\n",
       "        text-align: left;\n",
       "    }\n",
       "\n",
       "    .dataframe thead tr:last-of-type th {\n",
       "        text-align: right;\n",
       "    }\n",
       "</style>\n",
       "<table border=\"1\" class=\"dataframe\">\n",
       "  <thead>\n",
       "    <tr>\n",
       "      <th>Attributes</th>\n",
       "      <th>Adj Close</th>\n",
       "      <th>Close</th>\n",
       "      <th>High</th>\n",
       "      <th>Low</th>\n",
       "      <th>Open</th>\n",
       "      <th>Volume</th>\n",
       "    </tr>\n",
       "    <tr>\n",
       "      <th>Symbols</th>\n",
       "      <th>MSFT</th>\n",
       "      <th>MSFT</th>\n",
       "      <th>MSFT</th>\n",
       "      <th>MSFT</th>\n",
       "      <th>MSFT</th>\n",
       "      <th>MSFT</th>\n",
       "    </tr>\n",
       "    <tr>\n",
       "      <th>Date</th>\n",
       "      <th></th>\n",
       "      <th></th>\n",
       "      <th></th>\n",
       "      <th></th>\n",
       "      <th></th>\n",
       "      <th></th>\n",
       "    </tr>\n",
       "  </thead>\n",
       "  <tbody>\n",
       "    <tr>\n",
       "      <th>2010-02-01</th>\n",
       "      <td>22.300581</td>\n",
       "      <td>28.410000</td>\n",
       "      <td>28.480000</td>\n",
       "      <td>27.920000</td>\n",
       "      <td>28.389999</td>\n",
       "      <td>85931100.0</td>\n",
       "    </tr>\n",
       "    <tr>\n",
       "      <th>2010-02-02</th>\n",
       "      <td>22.339828</td>\n",
       "      <td>28.459999</td>\n",
       "      <td>28.500000</td>\n",
       "      <td>28.139999</td>\n",
       "      <td>28.370001</td>\n",
       "      <td>54413700.0</td>\n",
       "    </tr>\n",
       "    <tr>\n",
       "      <th>2010-02-03</th>\n",
       "      <td>22.473269</td>\n",
       "      <td>28.629999</td>\n",
       "      <td>28.790001</td>\n",
       "      <td>28.120001</td>\n",
       "      <td>28.260000</td>\n",
       "      <td>61397900.0</td>\n",
       "    </tr>\n",
       "    <tr>\n",
       "      <th>2010-02-04</th>\n",
       "      <td>21.853163</td>\n",
       "      <td>27.840000</td>\n",
       "      <td>28.500000</td>\n",
       "      <td>27.809999</td>\n",
       "      <td>28.379999</td>\n",
       "      <td>77850000.0</td>\n",
       "    </tr>\n",
       "    <tr>\n",
       "      <th>2010-02-05</th>\n",
       "      <td>21.994453</td>\n",
       "      <td>28.020000</td>\n",
       "      <td>28.280001</td>\n",
       "      <td>27.570000</td>\n",
       "      <td>28.000000</td>\n",
       "      <td>80960100.0</td>\n",
       "    </tr>\n",
       "  </tbody>\n",
       "</table>\n",
       "</div>"
      ],
      "text/plain": [
       "Attributes  Adj Close      Close       High        Low       Open      Volume\n",
       "Symbols          MSFT       MSFT       MSFT       MSFT       MSFT        MSFT\n",
       "Date                                                                         \n",
       "2010-02-01  22.300581  28.410000  28.480000  27.920000  28.389999  85931100.0\n",
       "2010-02-02  22.339828  28.459999  28.500000  28.139999  28.370001  54413700.0\n",
       "2010-02-03  22.473269  28.629999  28.790001  28.120001  28.260000  61397900.0\n",
       "2010-02-04  21.853163  27.840000  28.500000  27.809999  28.379999  77850000.0\n",
       "2010-02-05  21.994453  28.020000  28.280001  27.570000  28.000000  80960100.0"
      ]
     },
     "execution_count": 58,
     "metadata": {},
     "output_type": "execute_result"
    }
   ],
   "source": [
    "company = ['MSFT']\n",
    "start = '2010-02-01'\n",
    "end = '2017-12-31'\n",
    "stock = data.DataReader(name=company, data_source='yahoo', start=start, end=end)\n",
    "stock.head()"
   ]
  },
  {
   "cell_type": "code",
   "execution_count": 59,
   "metadata": {},
   "outputs": [
    {
     "name": "stdout",
     "output_type": "stream",
     "text": [
      "0.8.1\n"
     ]
    }
   ],
   "source": [
    "import pandas_datareader\n",
    "print(pandas_datareader.__version__)"
   ]
  },
  {
   "cell_type": "code",
   "execution_count": 60,
   "metadata": {},
   "outputs": [
    {
     "data": {
      "text/plain": [
       "MultiIndex(levels=[['Adj Close', 'Close', 'High', 'Low', 'Open', 'Volume'], ['MSFT']],\n",
       "           labels=[[0, 1, 2, 3, 4, 5], [0, 0, 0, 0, 0, 0]],\n",
       "           names=['Attributes', 'Symbols'])"
      ]
     },
     "execution_count": 60,
     "metadata": {},
     "output_type": "execute_result"
    }
   ],
   "source": [
    "stock.columns"
   ]
  },
  {
   "cell_type": "code",
   "execution_count": 61,
   "metadata": {},
   "outputs": [
    {
     "data": {
      "text/plain": [
       "array([[2.23005810e+01, 2.84099998e+01, 2.84799995e+01, 2.79200001e+01,\n",
       "        2.83899994e+01, 8.59311000e+07],\n",
       "       [2.23398285e+01, 2.84599991e+01, 2.85000000e+01, 2.81399994e+01,\n",
       "        2.83700008e+01, 5.44137000e+07],\n",
       "       [2.24732685e+01, 2.86299992e+01, 2.87900009e+01, 2.81200008e+01,\n",
       "        2.82600002e+01, 6.13979000e+07],\n",
       "       ...,\n",
       "       [8.27977448e+01, 8.57099991e+01, 8.59800034e+01, 8.52200012e+01,\n",
       "        8.56500015e+01, 1.46780000e+07],\n",
       "       [8.28074112e+01, 8.57200012e+01, 8.59300003e+01, 8.55500031e+01,\n",
       "        8.59000015e+01, 1.05943000e+07],\n",
       "       [8.26335449e+01, 8.55400009e+01, 8.60500031e+01, 8.55000000e+01,\n",
       "        8.56299973e+01, 1.87174000e+07]])"
      ]
     },
     "execution_count": 61,
     "metadata": {},
     "output_type": "execute_result"
    }
   ],
   "source": [
    "stock.values"
   ]
  },
  {
   "cell_type": "code",
   "execution_count": 62,
   "metadata": {},
   "outputs": [
    {
     "data": {
      "text/plain": [
       "DatetimeIndex(['2010-02-01', '2010-02-02', '2010-02-03', '2010-02-04',\n",
       "               '2010-02-05', '2010-02-08', '2010-02-09', '2010-02-10',\n",
       "               '2010-02-11', '2010-02-12',\n",
       "               ...\n",
       "               '2017-12-15', '2017-12-18', '2017-12-19', '2017-12-20',\n",
       "               '2017-12-21', '2017-12-22', '2017-12-26', '2017-12-27',\n",
       "               '2017-12-28', '2017-12-29'],\n",
       "              dtype='datetime64[ns]', name='Date', length=1994, freq=None)"
      ]
     },
     "execution_count": 62,
     "metadata": {},
     "output_type": "execute_result"
    }
   ],
   "source": [
    "stock.index"
   ]
  },
  {
   "cell_type": "code",
   "execution_count": 63,
   "metadata": {},
   "outputs": [
    {
     "data": {
      "text/plain": [
       "Timestamp('2010-02-01 00:00:00')"
      ]
     },
     "execution_count": 63,
     "metadata": {},
     "output_type": "execute_result"
    }
   ],
   "source": [
    "stock.index[0]"
   ]
  },
  {
   "cell_type": "code",
   "execution_count": 64,
   "metadata": {},
   "outputs": [
    {
     "data": {
      "text/plain": [
       "[DatetimeIndex(['2010-02-01', '2010-02-02', '2010-02-03', '2010-02-04',\n",
       "                '2010-02-05', '2010-02-08', '2010-02-09', '2010-02-10',\n",
       "                '2010-02-11', '2010-02-12',\n",
       "                ...\n",
       "                '2017-12-15', '2017-12-18', '2017-12-19', '2017-12-20',\n",
       "                '2017-12-21', '2017-12-22', '2017-12-26', '2017-12-27',\n",
       "                '2017-12-28', '2017-12-29'],\n",
       "               dtype='datetime64[ns]', name='Date', length=1994, freq=None),\n",
       " MultiIndex(levels=[['Adj Close', 'Close', 'High', 'Low', 'Open', 'Volume'], ['MSFT']],\n",
       "            labels=[[0, 1, 2, 3, 4, 5], [0, 0, 0, 0, 0, 0]],\n",
       "            names=['Attributes', 'Symbols'])]"
      ]
     },
     "execution_count": 64,
     "metadata": {},
     "output_type": "execute_result"
    }
   ],
   "source": [
    "stock.axes"
   ]
  },
  {
   "cell_type": "markdown",
   "metadata": {},
   "source": [
    "## Selecting from a Dataframe with a DateTimeIndexx"
   ]
  },
  {
   "cell_type": "code",
   "execution_count": 65,
   "metadata": {},
   "outputs": [
    {
     "data": {
      "text/html": [
       "<div>\n",
       "<style scoped>\n",
       "    .dataframe tbody tr th:only-of-type {\n",
       "        vertical-align: middle;\n",
       "    }\n",
       "\n",
       "    .dataframe tbody tr th {\n",
       "        vertical-align: top;\n",
       "    }\n",
       "\n",
       "    .dataframe thead tr th {\n",
       "        text-align: left;\n",
       "    }\n",
       "\n",
       "    .dataframe thead tr:last-of-type th {\n",
       "        text-align: right;\n",
       "    }\n",
       "</style>\n",
       "<table border=\"1\" class=\"dataframe\">\n",
       "  <thead>\n",
       "    <tr>\n",
       "      <th>Attributes</th>\n",
       "      <th>Adj Close</th>\n",
       "      <th>Close</th>\n",
       "      <th>High</th>\n",
       "      <th>Low</th>\n",
       "      <th>Open</th>\n",
       "      <th>Volume</th>\n",
       "    </tr>\n",
       "    <tr>\n",
       "      <th>Symbols</th>\n",
       "      <th>MSFT</th>\n",
       "      <th>MSFT</th>\n",
       "      <th>MSFT</th>\n",
       "      <th>MSFT</th>\n",
       "      <th>MSFT</th>\n",
       "      <th>MSFT</th>\n",
       "    </tr>\n",
       "    <tr>\n",
       "      <th>Date</th>\n",
       "      <th></th>\n",
       "      <th></th>\n",
       "      <th></th>\n",
       "      <th></th>\n",
       "      <th></th>\n",
       "      <th></th>\n",
       "    </tr>\n",
       "  </thead>\n",
       "  <tbody>\n",
       "    <tr>\n",
       "      <th>2010-02-01</th>\n",
       "      <td>22.300581</td>\n",
       "      <td>28.410000</td>\n",
       "      <td>28.480000</td>\n",
       "      <td>27.920000</td>\n",
       "      <td>28.389999</td>\n",
       "      <td>85931100.0</td>\n",
       "    </tr>\n",
       "    <tr>\n",
       "      <th>2010-02-02</th>\n",
       "      <td>22.339828</td>\n",
       "      <td>28.459999</td>\n",
       "      <td>28.500000</td>\n",
       "      <td>28.139999</td>\n",
       "      <td>28.370001</td>\n",
       "      <td>54413700.0</td>\n",
       "    </tr>\n",
       "    <tr>\n",
       "      <th>2010-02-03</th>\n",
       "      <td>22.473269</td>\n",
       "      <td>28.629999</td>\n",
       "      <td>28.790001</td>\n",
       "      <td>28.120001</td>\n",
       "      <td>28.260000</td>\n",
       "      <td>61397900.0</td>\n",
       "    </tr>\n",
       "    <tr>\n",
       "      <th>2010-02-04</th>\n",
       "      <td>21.853163</td>\n",
       "      <td>27.840000</td>\n",
       "      <td>28.500000</td>\n",
       "      <td>27.809999</td>\n",
       "      <td>28.379999</td>\n",
       "      <td>77850000.0</td>\n",
       "    </tr>\n",
       "    <tr>\n",
       "      <th>2010-02-05</th>\n",
       "      <td>21.994453</td>\n",
       "      <td>28.020000</td>\n",
       "      <td>28.280001</td>\n",
       "      <td>27.570000</td>\n",
       "      <td>28.000000</td>\n",
       "      <td>80960100.0</td>\n",
       "    </tr>\n",
       "  </tbody>\n",
       "</table>\n",
       "</div>"
      ],
      "text/plain": [
       "Attributes  Adj Close      Close       High        Low       Open      Volume\n",
       "Symbols          MSFT       MSFT       MSFT       MSFT       MSFT        MSFT\n",
       "Date                                                                         \n",
       "2010-02-01  22.300581  28.410000  28.480000  27.920000  28.389999  85931100.0\n",
       "2010-02-02  22.339828  28.459999  28.500000  28.139999  28.370001  54413700.0\n",
       "2010-02-03  22.473269  28.629999  28.790001  28.120001  28.260000  61397900.0\n",
       "2010-02-04  21.853163  27.840000  28.500000  27.809999  28.379999  77850000.0\n",
       "2010-02-05  21.994453  28.020000  28.280001  27.570000  28.000000  80960100.0"
      ]
     },
     "execution_count": 65,
     "metadata": {},
     "output_type": "execute_result"
    }
   ],
   "source": [
    "stock = data.DataReader(name=company, data_source='yahoo', start=start, end=end)\n",
    "stock.head()"
   ]
  },
  {
   "cell_type": "code",
   "execution_count": 66,
   "metadata": {},
   "outputs": [
    {
     "data": {
      "text/plain": [
       "Attributes  Symbols\n",
       "Adj Close   MSFT       2.230058e+01\n",
       "Close       MSFT       2.841000e+01\n",
       "High        MSFT       2.848000e+01\n",
       "Low         MSFT       2.792000e+01\n",
       "Open        MSFT       2.839000e+01\n",
       "Volume      MSFT       8.593110e+07\n",
       "Name: 2010-02-01 00:00:00, dtype: float64"
      ]
     },
     "execution_count": 66,
     "metadata": {},
     "output_type": "execute_result"
    }
   ],
   "source": [
    "stock.loc['2010-02-01']"
   ]
  },
  {
   "cell_type": "code",
   "execution_count": 67,
   "metadata": {},
   "outputs": [
    {
     "data": {
      "text/plain": [
       "Attributes  Symbols\n",
       "Adj Close   MSFT       2.086595e+01\n",
       "Close       MSFT       2.620000e+01\n",
       "High        MSFT       2.650000e+01\n",
       "Low         MSFT       2.617000e+01\n",
       "Open        MSFT       2.633000e+01\n",
       "Volume      MSFT       5.179460e+07\n",
       "Name: 2010-11-15 00:00:00, dtype: float64"
      ]
     },
     "execution_count": 67,
     "metadata": {},
     "output_type": "execute_result"
    }
   ],
   "source": [
    "stock.iloc[200]"
   ]
  },
  {
   "cell_type": "code",
   "execution_count": 68,
   "metadata": {},
   "outputs": [],
   "source": [
    "birth = pd.date_range(start='1991-04-12', end='2017-12-31', freq=pd.DateOffset(years=1))"
   ]
  },
  {
   "cell_type": "code",
   "execution_count": 69,
   "metadata": {},
   "outputs": [],
   "source": [
    "mask = stock.index.isin(birth)"
   ]
  },
  {
   "cell_type": "code",
   "execution_count": 70,
   "metadata": {},
   "outputs": [
    {
     "data": {
      "text/html": [
       "<div>\n",
       "<style scoped>\n",
       "    .dataframe tbody tr th:only-of-type {\n",
       "        vertical-align: middle;\n",
       "    }\n",
       "\n",
       "    .dataframe tbody tr th {\n",
       "        vertical-align: top;\n",
       "    }\n",
       "\n",
       "    .dataframe thead tr th {\n",
       "        text-align: left;\n",
       "    }\n",
       "\n",
       "    .dataframe thead tr:last-of-type th {\n",
       "        text-align: right;\n",
       "    }\n",
       "</style>\n",
       "<table border=\"1\" class=\"dataframe\">\n",
       "  <thead>\n",
       "    <tr>\n",
       "      <th>Attributes</th>\n",
       "      <th>Adj Close</th>\n",
       "      <th>Close</th>\n",
       "      <th>High</th>\n",
       "      <th>Low</th>\n",
       "      <th>Open</th>\n",
       "      <th>Volume</th>\n",
       "    </tr>\n",
       "    <tr>\n",
       "      <th>Symbols</th>\n",
       "      <th>MSFT</th>\n",
       "      <th>MSFT</th>\n",
       "      <th>MSFT</th>\n",
       "      <th>MSFT</th>\n",
       "      <th>MSFT</th>\n",
       "      <th>MSFT</th>\n",
       "    </tr>\n",
       "    <tr>\n",
       "      <th>Date</th>\n",
       "      <th></th>\n",
       "      <th></th>\n",
       "      <th></th>\n",
       "      <th></th>\n",
       "      <th></th>\n",
       "      <th></th>\n",
       "    </tr>\n",
       "  </thead>\n",
       "  <tbody>\n",
       "    <tr>\n",
       "      <th>2010-04-12</th>\n",
       "      <td>23.911137</td>\n",
       "      <td>30.320000</td>\n",
       "      <td>30.490000</td>\n",
       "      <td>30.209999</td>\n",
       "      <td>30.250000</td>\n",
       "      <td>37068800.0</td>\n",
       "    </tr>\n",
       "    <tr>\n",
       "      <th>2011-04-12</th>\n",
       "      <td>20.666864</td>\n",
       "      <td>25.639999</td>\n",
       "      <td>25.850000</td>\n",
       "      <td>25.549999</td>\n",
       "      <td>25.830000</td>\n",
       "      <td>36920400.0</td>\n",
       "    </tr>\n",
       "    <tr>\n",
       "      <th>2012-04-12</th>\n",
       "      <td>25.651670</td>\n",
       "      <td>30.980000</td>\n",
       "      <td>31.040001</td>\n",
       "      <td>30.420000</td>\n",
       "      <td>30.480000</td>\n",
       "      <td>38304000.0</td>\n",
       "    </tr>\n",
       "    <tr>\n",
       "      <th>2013-04-12</th>\n",
       "      <td>24.553804</td>\n",
       "      <td>28.790001</td>\n",
       "      <td>29.020000</td>\n",
       "      <td>28.660000</td>\n",
       "      <td>28.850000</td>\n",
       "      <td>62886300.0</td>\n",
       "    </tr>\n",
       "    <tr>\n",
       "      <th>2016-04-12</th>\n",
       "      <td>50.621754</td>\n",
       "      <td>54.650002</td>\n",
       "      <td>54.779999</td>\n",
       "      <td>53.759998</td>\n",
       "      <td>54.369999</td>\n",
       "      <td>24944300.0</td>\n",
       "    </tr>\n",
       "    <tr>\n",
       "      <th>2017-04-12</th>\n",
       "      <td>62.011013</td>\n",
       "      <td>65.230003</td>\n",
       "      <td>65.510002</td>\n",
       "      <td>65.110001</td>\n",
       "      <td>65.419998</td>\n",
       "      <td>17108500.0</td>\n",
       "    </tr>\n",
       "  </tbody>\n",
       "</table>\n",
       "</div>"
      ],
      "text/plain": [
       "Attributes  Adj Close      Close       High        Low       Open      Volume\n",
       "Symbols          MSFT       MSFT       MSFT       MSFT       MSFT        MSFT\n",
       "Date                                                                         \n",
       "2010-04-12  23.911137  30.320000  30.490000  30.209999  30.250000  37068800.0\n",
       "2011-04-12  20.666864  25.639999  25.850000  25.549999  25.830000  36920400.0\n",
       "2012-04-12  25.651670  30.980000  31.040001  30.420000  30.480000  38304000.0\n",
       "2013-04-12  24.553804  28.790001  29.020000  28.660000  28.850000  62886300.0\n",
       "2016-04-12  50.621754  54.650002  54.779999  53.759998  54.369999  24944300.0\n",
       "2017-04-12  62.011013  65.230003  65.510002  65.110001  65.419998  17108500.0"
      ]
     },
     "execution_count": 70,
     "metadata": {},
     "output_type": "execute_result"
    }
   ],
   "source": [
    "stock.loc[mask]"
   ]
  },
  {
   "cell_type": "markdown",
   "metadata": {},
   "source": [
    "## Timestamp Object Attributes"
   ]
  },
  {
   "cell_type": "code",
   "execution_count": 71,
   "metadata": {},
   "outputs": [
    {
     "data": {
      "text/plain": [
       "DatetimeIndex(['2010-02-01', '2010-02-02', '2010-02-03', '2010-02-04',\n",
       "               '2010-02-05', '2010-02-08', '2010-02-09', '2010-02-10',\n",
       "               '2010-02-11', '2010-02-12',\n",
       "               ...\n",
       "               '2017-12-15', '2017-12-18', '2017-12-19', '2017-12-20',\n",
       "               '2017-12-21', '2017-12-22', '2017-12-26', '2017-12-27',\n",
       "               '2017-12-28', '2017-12-29'],\n",
       "              dtype='datetime64[ns]', name='Date', length=1994, freq=None)"
      ]
     },
     "execution_count": 71,
     "metadata": {},
     "output_type": "execute_result"
    }
   ],
   "source": [
    "stock.index"
   ]
  },
  {
   "cell_type": "code",
   "execution_count": 72,
   "metadata": {},
   "outputs": [
    {
     "data": {
      "text/plain": [
       "Timestamp('2012-01-25 00:00:00')"
      ]
     },
     "execution_count": 72,
     "metadata": {},
     "output_type": "execute_result"
    }
   ],
   "source": [
    "someday = stock.index[500]\n",
    "someday"
   ]
  },
  {
   "cell_type": "code",
   "execution_count": 73,
   "metadata": {},
   "outputs": [
    {
     "data": {
      "text/plain": [
       "25"
      ]
     },
     "execution_count": 73,
     "metadata": {},
     "output_type": "execute_result"
    }
   ],
   "source": [
    "someday.day"
   ]
  },
  {
   "cell_type": "code",
   "execution_count": 74,
   "metadata": {},
   "outputs": [
    {
     "data": {
      "text/plain": [
       "1"
      ]
     },
     "execution_count": 74,
     "metadata": {},
     "output_type": "execute_result"
    }
   ],
   "source": [
    "someday.month"
   ]
  },
  {
   "cell_type": "code",
   "execution_count": 75,
   "metadata": {},
   "outputs": [
    {
     "data": {
      "text/plain": [
       "2012"
      ]
     },
     "execution_count": 75,
     "metadata": {},
     "output_type": "execute_result"
    }
   ],
   "source": [
    "someday.year"
   ]
  },
  {
   "cell_type": "code",
   "execution_count": 76,
   "metadata": {},
   "outputs": [
    {
     "name": "stderr",
     "output_type": "stream",
     "text": [
      "/home/ansari/anaconda3/lib/python3.6/site-packages/ipykernel_launcher.py:1: FutureWarning: `weekday_name` is deprecated and will be removed in a future version. Use `day_name` instead\n",
      "  \"\"\"Entry point for launching an IPython kernel.\n"
     ]
    },
    {
     "data": {
      "text/plain": [
       "'Wednesday'"
      ]
     },
     "execution_count": 76,
     "metadata": {},
     "output_type": "execute_result"
    }
   ],
   "source": [
    "someday.weekday_name"
   ]
  },
  {
   "cell_type": "code",
   "execution_count": 77,
   "metadata": {},
   "outputs": [
    {
     "data": {
      "text/plain": [
       "False"
      ]
     },
     "execution_count": 77,
     "metadata": {},
     "output_type": "execute_result"
    }
   ],
   "source": [
    "someday.is_month_start"
   ]
  },
  {
   "cell_type": "code",
   "execution_count": 78,
   "metadata": {},
   "outputs": [],
   "source": [
    "stock.insert(0,'ay of Week', stock.index.weekday_name)"
   ]
  },
  {
   "cell_type": "code",
   "execution_count": 79,
   "metadata": {},
   "outputs": [
    {
     "data": {
      "text/html": [
       "<div>\n",
       "<style scoped>\n",
       "    .dataframe tbody tr th:only-of-type {\n",
       "        vertical-align: middle;\n",
       "    }\n",
       "\n",
       "    .dataframe tbody tr th {\n",
       "        vertical-align: top;\n",
       "    }\n",
       "\n",
       "    .dataframe thead tr th {\n",
       "        text-align: left;\n",
       "    }\n",
       "\n",
       "    .dataframe thead tr:last-of-type th {\n",
       "        text-align: right;\n",
       "    }\n",
       "</style>\n",
       "<table border=\"1\" class=\"dataframe\">\n",
       "  <thead>\n",
       "    <tr>\n",
       "      <th>Attributes</th>\n",
       "      <th>ay of Week</th>\n",
       "      <th>Adj Close</th>\n",
       "      <th>Close</th>\n",
       "      <th>High</th>\n",
       "      <th>Low</th>\n",
       "      <th>Open</th>\n",
       "      <th>Volume</th>\n",
       "    </tr>\n",
       "    <tr>\n",
       "      <th>Symbols</th>\n",
       "      <th></th>\n",
       "      <th>MSFT</th>\n",
       "      <th>MSFT</th>\n",
       "      <th>MSFT</th>\n",
       "      <th>MSFT</th>\n",
       "      <th>MSFT</th>\n",
       "      <th>MSFT</th>\n",
       "    </tr>\n",
       "    <tr>\n",
       "      <th>Date</th>\n",
       "      <th></th>\n",
       "      <th></th>\n",
       "      <th></th>\n",
       "      <th></th>\n",
       "      <th></th>\n",
       "      <th></th>\n",
       "      <th></th>\n",
       "    </tr>\n",
       "  </thead>\n",
       "  <tbody>\n",
       "    <tr>\n",
       "      <th>2010-02-01</th>\n",
       "      <td>Monday</td>\n",
       "      <td>22.300581</td>\n",
       "      <td>28.410000</td>\n",
       "      <td>28.480000</td>\n",
       "      <td>27.920000</td>\n",
       "      <td>28.389999</td>\n",
       "      <td>85931100.0</td>\n",
       "    </tr>\n",
       "    <tr>\n",
       "      <th>2010-02-02</th>\n",
       "      <td>Tuesday</td>\n",
       "      <td>22.339828</td>\n",
       "      <td>28.459999</td>\n",
       "      <td>28.500000</td>\n",
       "      <td>28.139999</td>\n",
       "      <td>28.370001</td>\n",
       "      <td>54413700.0</td>\n",
       "    </tr>\n",
       "    <tr>\n",
       "      <th>2010-02-03</th>\n",
       "      <td>Wednesday</td>\n",
       "      <td>22.473269</td>\n",
       "      <td>28.629999</td>\n",
       "      <td>28.790001</td>\n",
       "      <td>28.120001</td>\n",
       "      <td>28.260000</td>\n",
       "      <td>61397900.0</td>\n",
       "    </tr>\n",
       "  </tbody>\n",
       "</table>\n",
       "</div>"
      ],
      "text/plain": [
       "Attributes ay of Week  Adj Close      Close       High        Low       Open  \\\n",
       "Symbols                     MSFT       MSFT       MSFT       MSFT       MSFT   \n",
       "Date                                                                           \n",
       "2010-02-01     Monday  22.300581  28.410000  28.480000  27.920000  28.389999   \n",
       "2010-02-02    Tuesday  22.339828  28.459999  28.500000  28.139999  28.370001   \n",
       "2010-02-03  Wednesday  22.473269  28.629999  28.790001  28.120001  28.260000   \n",
       "\n",
       "Attributes      Volume  \n",
       "Symbols           MSFT  \n",
       "Date                    \n",
       "2010-02-01  85931100.0  \n",
       "2010-02-02  54413700.0  \n",
       "2010-02-03  61397900.0  "
      ]
     },
     "execution_count": 79,
     "metadata": {},
     "output_type": "execute_result"
    }
   ],
   "source": [
    "stock.head(3)"
   ]
  },
  {
   "cell_type": "code",
   "execution_count": 80,
   "metadata": {},
   "outputs": [],
   "source": [
    "stock.insert(1,'Is start of Month', stock.index.is_month_start)"
   ]
  },
  {
   "cell_type": "code",
   "execution_count": 81,
   "metadata": {},
   "outputs": [
    {
     "data": {
      "text/html": [
       "<div>\n",
       "<style scoped>\n",
       "    .dataframe tbody tr th:only-of-type {\n",
       "        vertical-align: middle;\n",
       "    }\n",
       "\n",
       "    .dataframe tbody tr th {\n",
       "        vertical-align: top;\n",
       "    }\n",
       "\n",
       "    .dataframe thead tr th {\n",
       "        text-align: left;\n",
       "    }\n",
       "\n",
       "    .dataframe thead tr:last-of-type th {\n",
       "        text-align: right;\n",
       "    }\n",
       "</style>\n",
       "<table border=\"1\" class=\"dataframe\">\n",
       "  <thead>\n",
       "    <tr>\n",
       "      <th>Attributes</th>\n",
       "      <th>ay of Week</th>\n",
       "      <th>Is start of Month</th>\n",
       "      <th>Adj Close</th>\n",
       "      <th>Close</th>\n",
       "      <th>High</th>\n",
       "      <th>Low</th>\n",
       "      <th>Open</th>\n",
       "      <th>Volume</th>\n",
       "    </tr>\n",
       "    <tr>\n",
       "      <th>Symbols</th>\n",
       "      <th></th>\n",
       "      <th></th>\n",
       "      <th>MSFT</th>\n",
       "      <th>MSFT</th>\n",
       "      <th>MSFT</th>\n",
       "      <th>MSFT</th>\n",
       "      <th>MSFT</th>\n",
       "      <th>MSFT</th>\n",
       "    </tr>\n",
       "    <tr>\n",
       "      <th>Date</th>\n",
       "      <th></th>\n",
       "      <th></th>\n",
       "      <th></th>\n",
       "      <th></th>\n",
       "      <th></th>\n",
       "      <th></th>\n",
       "      <th></th>\n",
       "      <th></th>\n",
       "    </tr>\n",
       "  </thead>\n",
       "  <tbody>\n",
       "    <tr>\n",
       "      <th>2010-02-01</th>\n",
       "      <td>Monday</td>\n",
       "      <td>True</td>\n",
       "      <td>22.300581</td>\n",
       "      <td>28.410000</td>\n",
       "      <td>28.480000</td>\n",
       "      <td>27.920000</td>\n",
       "      <td>28.389999</td>\n",
       "      <td>85931100.0</td>\n",
       "    </tr>\n",
       "    <tr>\n",
       "      <th>2010-02-02</th>\n",
       "      <td>Tuesday</td>\n",
       "      <td>False</td>\n",
       "      <td>22.339828</td>\n",
       "      <td>28.459999</td>\n",
       "      <td>28.500000</td>\n",
       "      <td>28.139999</td>\n",
       "      <td>28.370001</td>\n",
       "      <td>54413700.0</td>\n",
       "    </tr>\n",
       "    <tr>\n",
       "      <th>2010-02-03</th>\n",
       "      <td>Wednesday</td>\n",
       "      <td>False</td>\n",
       "      <td>22.473269</td>\n",
       "      <td>28.629999</td>\n",
       "      <td>28.790001</td>\n",
       "      <td>28.120001</td>\n",
       "      <td>28.260000</td>\n",
       "      <td>61397900.0</td>\n",
       "    </tr>\n",
       "    <tr>\n",
       "      <th>2010-02-04</th>\n",
       "      <td>Thursday</td>\n",
       "      <td>False</td>\n",
       "      <td>21.853163</td>\n",
       "      <td>27.840000</td>\n",
       "      <td>28.500000</td>\n",
       "      <td>27.809999</td>\n",
       "      <td>28.379999</td>\n",
       "      <td>77850000.0</td>\n",
       "    </tr>\n",
       "    <tr>\n",
       "      <th>2010-02-05</th>\n",
       "      <td>Friday</td>\n",
       "      <td>False</td>\n",
       "      <td>21.994453</td>\n",
       "      <td>28.020000</td>\n",
       "      <td>28.280001</td>\n",
       "      <td>27.570000</td>\n",
       "      <td>28.000000</td>\n",
       "      <td>80960100.0</td>\n",
       "    </tr>\n",
       "    <tr>\n",
       "      <th>2010-02-08</th>\n",
       "      <td>Monday</td>\n",
       "      <td>False</td>\n",
       "      <td>21.758957</td>\n",
       "      <td>27.719999</td>\n",
       "      <td>28.080000</td>\n",
       "      <td>27.570000</td>\n",
       "      <td>28.010000</td>\n",
       "      <td>52820600.0</td>\n",
       "    </tr>\n",
       "    <tr>\n",
       "      <th>2010-02-09</th>\n",
       "      <td>Tuesday</td>\n",
       "      <td>False</td>\n",
       "      <td>21.986599</td>\n",
       "      <td>28.010000</td>\n",
       "      <td>28.340000</td>\n",
       "      <td>27.750000</td>\n",
       "      <td>27.969999</td>\n",
       "      <td>59195800.0</td>\n",
       "    </tr>\n",
       "    <tr>\n",
       "      <th>2010-02-10</th>\n",
       "      <td>Wednesday</td>\n",
       "      <td>False</td>\n",
       "      <td>21.970903</td>\n",
       "      <td>27.990000</td>\n",
       "      <td>28.240000</td>\n",
       "      <td>27.840000</td>\n",
       "      <td>28.030001</td>\n",
       "      <td>48591300.0</td>\n",
       "    </tr>\n",
       "    <tr>\n",
       "      <th>2010-02-11</th>\n",
       "      <td>Thursday</td>\n",
       "      <td>False</td>\n",
       "      <td>22.072945</td>\n",
       "      <td>28.120001</td>\n",
       "      <td>28.400000</td>\n",
       "      <td>27.700001</td>\n",
       "      <td>27.930000</td>\n",
       "      <td>65993700.0</td>\n",
       "    </tr>\n",
       "    <tr>\n",
       "      <th>2010-02-12</th>\n",
       "      <td>Friday</td>\n",
       "      <td>False</td>\n",
       "      <td>21.923805</td>\n",
       "      <td>27.930000</td>\n",
       "      <td>28.059999</td>\n",
       "      <td>27.580000</td>\n",
       "      <td>27.809999</td>\n",
       "      <td>81117200.0</td>\n",
       "    </tr>\n",
       "    <tr>\n",
       "      <th>2010-02-16</th>\n",
       "      <td>Tuesday</td>\n",
       "      <td>False</td>\n",
       "      <td>22.357546</td>\n",
       "      <td>28.350000</td>\n",
       "      <td>28.370001</td>\n",
       "      <td>28.020000</td>\n",
       "      <td>28.129999</td>\n",
       "      <td>51935600.0</td>\n",
       "    </tr>\n",
       "    <tr>\n",
       "      <th>2010-02-17</th>\n",
       "      <td>Wednesday</td>\n",
       "      <td>False</td>\n",
       "      <td>22.546816</td>\n",
       "      <td>28.590000</td>\n",
       "      <td>28.650000</td>\n",
       "      <td>28.360001</td>\n",
       "      <td>28.530001</td>\n",
       "      <td>45882900.0</td>\n",
       "    </tr>\n",
       "    <tr>\n",
       "      <th>2010-02-18</th>\n",
       "      <td>Thursday</td>\n",
       "      <td>False</td>\n",
       "      <td>22.846493</td>\n",
       "      <td>28.969999</td>\n",
       "      <td>29.030001</td>\n",
       "      <td>28.510000</td>\n",
       "      <td>28.590000</td>\n",
       "      <td>42856500.0</td>\n",
       "    </tr>\n",
       "    <tr>\n",
       "      <th>2010-02-19</th>\n",
       "      <td>Friday</td>\n",
       "      <td>False</td>\n",
       "      <td>22.688766</td>\n",
       "      <td>28.770000</td>\n",
       "      <td>28.920000</td>\n",
       "      <td>28.690001</td>\n",
       "      <td>28.790001</td>\n",
       "      <td>44451800.0</td>\n",
       "    </tr>\n",
       "    <tr>\n",
       "      <th>2010-02-22</th>\n",
       "      <td>Monday</td>\n",
       "      <td>False</td>\n",
       "      <td>22.657217</td>\n",
       "      <td>28.730000</td>\n",
       "      <td>28.940001</td>\n",
       "      <td>28.650000</td>\n",
       "      <td>28.840000</td>\n",
       "      <td>36707100.0</td>\n",
       "    </tr>\n",
       "    <tr>\n",
       "      <th>2010-02-23</th>\n",
       "      <td>Tuesday</td>\n",
       "      <td>False</td>\n",
       "      <td>22.341770</td>\n",
       "      <td>28.330000</td>\n",
       "      <td>28.830000</td>\n",
       "      <td>28.090000</td>\n",
       "      <td>28.680000</td>\n",
       "      <td>52266200.0</td>\n",
       "    </tr>\n",
       "    <tr>\n",
       "      <th>2010-02-24</th>\n",
       "      <td>Wednesday</td>\n",
       "      <td>False</td>\n",
       "      <td>22.578362</td>\n",
       "      <td>28.629999</td>\n",
       "      <td>28.790001</td>\n",
       "      <td>28.379999</td>\n",
       "      <td>28.520000</td>\n",
       "      <td>43165900.0</td>\n",
       "    </tr>\n",
       "    <tr>\n",
       "      <th>2010-02-25</th>\n",
       "      <td>Thursday</td>\n",
       "      <td>False</td>\n",
       "      <td>22.554699</td>\n",
       "      <td>28.600000</td>\n",
       "      <td>28.650000</td>\n",
       "      <td>28.020000</td>\n",
       "      <td>28.270000</td>\n",
       "      <td>48735300.0</td>\n",
       "    </tr>\n",
       "    <tr>\n",
       "      <th>2010-02-26</th>\n",
       "      <td>Friday</td>\n",
       "      <td>False</td>\n",
       "      <td>22.609909</td>\n",
       "      <td>28.670000</td>\n",
       "      <td>28.850000</td>\n",
       "      <td>28.510000</td>\n",
       "      <td>28.650000</td>\n",
       "      <td>40370600.0</td>\n",
       "    </tr>\n",
       "    <tr>\n",
       "      <th>2010-03-01</th>\n",
       "      <td>Monday</td>\n",
       "      <td>True</td>\n",
       "      <td>22.885929</td>\n",
       "      <td>29.020000</td>\n",
       "      <td>29.049999</td>\n",
       "      <td>28.530001</td>\n",
       "      <td>28.770000</td>\n",
       "      <td>43805400.0</td>\n",
       "    </tr>\n",
       "    <tr>\n",
       "      <th>2010-03-02</th>\n",
       "      <td>Tuesday</td>\n",
       "      <td>False</td>\n",
       "      <td>22.444300</td>\n",
       "      <td>28.459999</td>\n",
       "      <td>29.299999</td>\n",
       "      <td>28.240000</td>\n",
       "      <td>29.080000</td>\n",
       "      <td>93123900.0</td>\n",
       "    </tr>\n",
       "    <tr>\n",
       "      <th>2010-03-03</th>\n",
       "      <td>Wednesday</td>\n",
       "      <td>False</td>\n",
       "      <td>22.444300</td>\n",
       "      <td>28.459999</td>\n",
       "      <td>28.610001</td>\n",
       "      <td>28.350000</td>\n",
       "      <td>28.510000</td>\n",
       "      <td>48442100.0</td>\n",
       "    </tr>\n",
       "    <tr>\n",
       "      <th>2010-03-04</th>\n",
       "      <td>Thursday</td>\n",
       "      <td>False</td>\n",
       "      <td>22.578362</td>\n",
       "      <td>28.629999</td>\n",
       "      <td>28.650000</td>\n",
       "      <td>28.270000</td>\n",
       "      <td>28.459999</td>\n",
       "      <td>42890600.0</td>\n",
       "    </tr>\n",
       "    <tr>\n",
       "      <th>2010-03-05</th>\n",
       "      <td>Friday</td>\n",
       "      <td>False</td>\n",
       "      <td>22.546816</td>\n",
       "      <td>28.590000</td>\n",
       "      <td>28.680000</td>\n",
       "      <td>28.420000</td>\n",
       "      <td>28.660000</td>\n",
       "      <td>56001800.0</td>\n",
       "    </tr>\n",
       "    <tr>\n",
       "      <th>2010-03-08</th>\n",
       "      <td>Monday</td>\n",
       "      <td>False</td>\n",
       "      <td>22.578362</td>\n",
       "      <td>28.629999</td>\n",
       "      <td>28.930000</td>\n",
       "      <td>28.500000</td>\n",
       "      <td>28.520000</td>\n",
       "      <td>39414500.0</td>\n",
       "    </tr>\n",
       "    <tr>\n",
       "      <th>2010-03-09</th>\n",
       "      <td>Tuesday</td>\n",
       "      <td>False</td>\n",
       "      <td>22.712425</td>\n",
       "      <td>28.799999</td>\n",
       "      <td>29.110001</td>\n",
       "      <td>28.549999</td>\n",
       "      <td>28.559999</td>\n",
       "      <td>50271600.0</td>\n",
       "    </tr>\n",
       "    <tr>\n",
       "      <th>2010-03-10</th>\n",
       "      <td>Wednesday</td>\n",
       "      <td>False</td>\n",
       "      <td>22.846493</td>\n",
       "      <td>28.969999</td>\n",
       "      <td>29.110001</td>\n",
       "      <td>28.799999</td>\n",
       "      <td>28.860001</td>\n",
       "      <td>44891400.0</td>\n",
       "    </tr>\n",
       "    <tr>\n",
       "      <th>2010-03-11</th>\n",
       "      <td>Thursday</td>\n",
       "      <td>False</td>\n",
       "      <td>23.012110</td>\n",
       "      <td>29.180000</td>\n",
       "      <td>29.190001</td>\n",
       "      <td>28.850000</td>\n",
       "      <td>28.889999</td>\n",
       "      <td>35349700.0</td>\n",
       "    </tr>\n",
       "    <tr>\n",
       "      <th>2010-03-12</th>\n",
       "      <td>Friday</td>\n",
       "      <td>False</td>\n",
       "      <td>23.083084</td>\n",
       "      <td>29.270000</td>\n",
       "      <td>29.379999</td>\n",
       "      <td>29.040001</td>\n",
       "      <td>29.320000</td>\n",
       "      <td>31700200.0</td>\n",
       "    </tr>\n",
       "    <tr>\n",
       "      <th>2010-03-15</th>\n",
       "      <td>Monday</td>\n",
       "      <td>False</td>\n",
       "      <td>23.098850</td>\n",
       "      <td>29.290001</td>\n",
       "      <td>29.370001</td>\n",
       "      <td>29.010000</td>\n",
       "      <td>29.180000</td>\n",
       "      <td>37512000.0</td>\n",
       "    </tr>\n",
       "    <tr>\n",
       "      <th>...</th>\n",
       "      <td>...</td>\n",
       "      <td>...</td>\n",
       "      <td>...</td>\n",
       "      <td>...</td>\n",
       "      <td>...</td>\n",
       "      <td>...</td>\n",
       "      <td>...</td>\n",
       "      <td>...</td>\n",
       "    </tr>\n",
       "    <tr>\n",
       "      <th>2017-11-16</th>\n",
       "      <td>Thursday</td>\n",
       "      <td>False</td>\n",
       "      <td>80.373032</td>\n",
       "      <td>83.199997</td>\n",
       "      <td>83.419998</td>\n",
       "      <td>82.940002</td>\n",
       "      <td>83.099998</td>\n",
       "      <td>20962800.0</td>\n",
       "    </tr>\n",
       "    <tr>\n",
       "      <th>2017-11-17</th>\n",
       "      <td>Friday</td>\n",
       "      <td>False</td>\n",
       "      <td>79.600227</td>\n",
       "      <td>82.400002</td>\n",
       "      <td>83.120003</td>\n",
       "      <td>82.239998</td>\n",
       "      <td>83.120003</td>\n",
       "      <td>22079000.0</td>\n",
       "    </tr>\n",
       "    <tr>\n",
       "      <th>2017-11-20</th>\n",
       "      <td>Monday</td>\n",
       "      <td>False</td>\n",
       "      <td>79.725800</td>\n",
       "      <td>82.529999</td>\n",
       "      <td>82.589996</td>\n",
       "      <td>82.250000</td>\n",
       "      <td>82.400002</td>\n",
       "      <td>16315000.0</td>\n",
       "    </tr>\n",
       "    <tr>\n",
       "      <th>2017-11-21</th>\n",
       "      <td>Tuesday</td>\n",
       "      <td>False</td>\n",
       "      <td>80.875366</td>\n",
       "      <td>83.720001</td>\n",
       "      <td>83.839996</td>\n",
       "      <td>82.739998</td>\n",
       "      <td>82.739998</td>\n",
       "      <td>21237500.0</td>\n",
       "    </tr>\n",
       "    <tr>\n",
       "      <th>2017-11-22</th>\n",
       "      <td>Wednesday</td>\n",
       "      <td>False</td>\n",
       "      <td>80.286110</td>\n",
       "      <td>83.110001</td>\n",
       "      <td>83.900002</td>\n",
       "      <td>83.040001</td>\n",
       "      <td>83.830002</td>\n",
       "      <td>20553100.0</td>\n",
       "    </tr>\n",
       "    <tr>\n",
       "      <th>2017-11-24</th>\n",
       "      <td>Friday</td>\n",
       "      <td>False</td>\n",
       "      <td>80.430992</td>\n",
       "      <td>83.260002</td>\n",
       "      <td>83.430000</td>\n",
       "      <td>82.779999</td>\n",
       "      <td>83.010002</td>\n",
       "      <td>7425600.0</td>\n",
       "    </tr>\n",
       "    <tr>\n",
       "      <th>2017-11-27</th>\n",
       "      <td>Monday</td>\n",
       "      <td>False</td>\n",
       "      <td>81.020279</td>\n",
       "      <td>83.870003</td>\n",
       "      <td>83.980003</td>\n",
       "      <td>83.300003</td>\n",
       "      <td>83.309998</td>\n",
       "      <td>18265200.0</td>\n",
       "    </tr>\n",
       "    <tr>\n",
       "      <th>2017-11-28</th>\n",
       "      <td>Tuesday</td>\n",
       "      <td>False</td>\n",
       "      <td>81.995956</td>\n",
       "      <td>84.879997</td>\n",
       "      <td>85.059998</td>\n",
       "      <td>84.019997</td>\n",
       "      <td>84.070000</td>\n",
       "      <td>21926000.0</td>\n",
       "    </tr>\n",
       "    <tr>\n",
       "      <th>2017-11-29</th>\n",
       "      <td>Wednesday</td>\n",
       "      <td>False</td>\n",
       "      <td>80.508278</td>\n",
       "      <td>83.339996</td>\n",
       "      <td>84.919998</td>\n",
       "      <td>83.180000</td>\n",
       "      <td>84.709999</td>\n",
       "      <td>27381100.0</td>\n",
       "    </tr>\n",
       "    <tr>\n",
       "      <th>2017-11-30</th>\n",
       "      <td>Thursday</td>\n",
       "      <td>False</td>\n",
       "      <td>81.310074</td>\n",
       "      <td>84.169998</td>\n",
       "      <td>84.519997</td>\n",
       "      <td>83.339996</td>\n",
       "      <td>83.510002</td>\n",
       "      <td>33054600.0</td>\n",
       "    </tr>\n",
       "    <tr>\n",
       "      <th>2017-12-01</th>\n",
       "      <td>Friday</td>\n",
       "      <td>True</td>\n",
       "      <td>81.397026</td>\n",
       "      <td>84.260002</td>\n",
       "      <td>84.809998</td>\n",
       "      <td>83.220001</td>\n",
       "      <td>83.599998</td>\n",
       "      <td>29532100.0</td>\n",
       "    </tr>\n",
       "    <tr>\n",
       "      <th>2017-12-04</th>\n",
       "      <td>Monday</td>\n",
       "      <td>False</td>\n",
       "      <td>78.325081</td>\n",
       "      <td>81.080002</td>\n",
       "      <td>84.430000</td>\n",
       "      <td>80.699997</td>\n",
       "      <td>84.419998</td>\n",
       "      <td>39094900.0</td>\n",
       "    </tr>\n",
       "    <tr>\n",
       "      <th>2017-12-05</th>\n",
       "      <td>Tuesday</td>\n",
       "      <td>False</td>\n",
       "      <td>78.817734</td>\n",
       "      <td>81.589996</td>\n",
       "      <td>82.680000</td>\n",
       "      <td>80.980003</td>\n",
       "      <td>81.339996</td>\n",
       "      <td>26152300.0</td>\n",
       "    </tr>\n",
       "    <tr>\n",
       "      <th>2017-12-06</th>\n",
       "      <td>Wednesday</td>\n",
       "      <td>False</td>\n",
       "      <td>79.967300</td>\n",
       "      <td>82.779999</td>\n",
       "      <td>83.139999</td>\n",
       "      <td>81.430000</td>\n",
       "      <td>81.550003</td>\n",
       "      <td>26162100.0</td>\n",
       "    </tr>\n",
       "    <tr>\n",
       "      <th>2017-12-07</th>\n",
       "      <td>Thursday</td>\n",
       "      <td>False</td>\n",
       "      <td>79.687149</td>\n",
       "      <td>82.489998</td>\n",
       "      <td>82.800003</td>\n",
       "      <td>82.000000</td>\n",
       "      <td>82.540001</td>\n",
       "      <td>23184500.0</td>\n",
       "    </tr>\n",
       "    <tr>\n",
       "      <th>2017-12-08</th>\n",
       "      <td>Friday</td>\n",
       "      <td>False</td>\n",
       "      <td>81.300423</td>\n",
       "      <td>84.160004</td>\n",
       "      <td>84.580002</td>\n",
       "      <td>83.330002</td>\n",
       "      <td>83.629997</td>\n",
       "      <td>24489100.0</td>\n",
       "    </tr>\n",
       "    <tr>\n",
       "      <th>2017-12-11</th>\n",
       "      <td>Monday</td>\n",
       "      <td>False</td>\n",
       "      <td>82.334061</td>\n",
       "      <td>85.230003</td>\n",
       "      <td>85.370003</td>\n",
       "      <td>84.120003</td>\n",
       "      <td>84.290001</td>\n",
       "      <td>22857900.0</td>\n",
       "    </tr>\n",
       "    <tr>\n",
       "      <th>2017-12-12</th>\n",
       "      <td>Tuesday</td>\n",
       "      <td>False</td>\n",
       "      <td>82.672165</td>\n",
       "      <td>85.580002</td>\n",
       "      <td>86.050003</td>\n",
       "      <td>85.080002</td>\n",
       "      <td>85.309998</td>\n",
       "      <td>23924100.0</td>\n",
       "    </tr>\n",
       "    <tr>\n",
       "      <th>2017-12-13</th>\n",
       "      <td>Wednesday</td>\n",
       "      <td>False</td>\n",
       "      <td>82.449982</td>\n",
       "      <td>85.349998</td>\n",
       "      <td>86.000000</td>\n",
       "      <td>85.169998</td>\n",
       "      <td>85.739998</td>\n",
       "      <td>22062700.0</td>\n",
       "    </tr>\n",
       "    <tr>\n",
       "      <th>2017-12-14</th>\n",
       "      <td>Thursday</td>\n",
       "      <td>False</td>\n",
       "      <td>81.812401</td>\n",
       "      <td>84.690002</td>\n",
       "      <td>85.870003</td>\n",
       "      <td>84.529999</td>\n",
       "      <td>85.430000</td>\n",
       "      <td>19306000.0</td>\n",
       "    </tr>\n",
       "    <tr>\n",
       "      <th>2017-12-15</th>\n",
       "      <td>Friday</td>\n",
       "      <td>False</td>\n",
       "      <td>83.899017</td>\n",
       "      <td>86.849998</td>\n",
       "      <td>87.089996</td>\n",
       "      <td>84.879997</td>\n",
       "      <td>85.260002</td>\n",
       "      <td>53936700.0</td>\n",
       "    </tr>\n",
       "    <tr>\n",
       "      <th>2017-12-18</th>\n",
       "      <td>Monday</td>\n",
       "      <td>False</td>\n",
       "      <td>83.444984</td>\n",
       "      <td>86.379997</td>\n",
       "      <td>87.500000</td>\n",
       "      <td>86.230003</td>\n",
       "      <td>87.120003</td>\n",
       "      <td>22283800.0</td>\n",
       "    </tr>\n",
       "    <tr>\n",
       "      <th>2017-12-19</th>\n",
       "      <td>Tuesday</td>\n",
       "      <td>False</td>\n",
       "      <td>82.913681</td>\n",
       "      <td>85.830002</td>\n",
       "      <td>86.349998</td>\n",
       "      <td>85.269997</td>\n",
       "      <td>86.349998</td>\n",
       "      <td>23524800.0</td>\n",
       "    </tr>\n",
       "    <tr>\n",
       "      <th>2017-12-20</th>\n",
       "      <td>Wednesday</td>\n",
       "      <td>False</td>\n",
       "      <td>82.614212</td>\n",
       "      <td>85.519997</td>\n",
       "      <td>86.300003</td>\n",
       "      <td>84.709999</td>\n",
       "      <td>86.199997</td>\n",
       "      <td>23674900.0</td>\n",
       "    </tr>\n",
       "    <tr>\n",
       "      <th>2017-12-21</th>\n",
       "      <td>Thursday</td>\n",
       "      <td>False</td>\n",
       "      <td>82.594894</td>\n",
       "      <td>85.500000</td>\n",
       "      <td>86.099998</td>\n",
       "      <td>85.400002</td>\n",
       "      <td>86.050003</td>\n",
       "      <td>17990700.0</td>\n",
       "    </tr>\n",
       "    <tr>\n",
       "      <th>2017-12-22</th>\n",
       "      <td>Friday</td>\n",
       "      <td>False</td>\n",
       "      <td>82.604538</td>\n",
       "      <td>85.510002</td>\n",
       "      <td>85.629997</td>\n",
       "      <td>84.919998</td>\n",
       "      <td>85.400002</td>\n",
       "      <td>14145800.0</td>\n",
       "    </tr>\n",
       "    <tr>\n",
       "      <th>2017-12-26</th>\n",
       "      <td>Tuesday</td>\n",
       "      <td>False</td>\n",
       "      <td>82.498283</td>\n",
       "      <td>85.400002</td>\n",
       "      <td>85.529999</td>\n",
       "      <td>85.029999</td>\n",
       "      <td>85.309998</td>\n",
       "      <td>9891200.0</td>\n",
       "    </tr>\n",
       "    <tr>\n",
       "      <th>2017-12-27</th>\n",
       "      <td>Wednesday</td>\n",
       "      <td>False</td>\n",
       "      <td>82.797745</td>\n",
       "      <td>85.709999</td>\n",
       "      <td>85.980003</td>\n",
       "      <td>85.220001</td>\n",
       "      <td>85.650002</td>\n",
       "      <td>14678000.0</td>\n",
       "    </tr>\n",
       "    <tr>\n",
       "      <th>2017-12-28</th>\n",
       "      <td>Thursday</td>\n",
       "      <td>False</td>\n",
       "      <td>82.807411</td>\n",
       "      <td>85.720001</td>\n",
       "      <td>85.930000</td>\n",
       "      <td>85.550003</td>\n",
       "      <td>85.900002</td>\n",
       "      <td>10594300.0</td>\n",
       "    </tr>\n",
       "    <tr>\n",
       "      <th>2017-12-29</th>\n",
       "      <td>Friday</td>\n",
       "      <td>False</td>\n",
       "      <td>82.633545</td>\n",
       "      <td>85.540001</td>\n",
       "      <td>86.050003</td>\n",
       "      <td>85.500000</td>\n",
       "      <td>85.629997</td>\n",
       "      <td>18717400.0</td>\n",
       "    </tr>\n",
       "  </tbody>\n",
       "</table>\n",
       "<p>1994 rows × 8 columns</p>\n",
       "</div>"
      ],
      "text/plain": [
       "Attributes ay of Week Is start of Month  Adj Close      Close       High  \\\n",
       "Symbols                                       MSFT       MSFT       MSFT   \n",
       "Date                                                                       \n",
       "2010-02-01     Monday              True  22.300581  28.410000  28.480000   \n",
       "2010-02-02    Tuesday             False  22.339828  28.459999  28.500000   \n",
       "2010-02-03  Wednesday             False  22.473269  28.629999  28.790001   \n",
       "2010-02-04   Thursday             False  21.853163  27.840000  28.500000   \n",
       "2010-02-05     Friday             False  21.994453  28.020000  28.280001   \n",
       "2010-02-08     Monday             False  21.758957  27.719999  28.080000   \n",
       "2010-02-09    Tuesday             False  21.986599  28.010000  28.340000   \n",
       "2010-02-10  Wednesday             False  21.970903  27.990000  28.240000   \n",
       "2010-02-11   Thursday             False  22.072945  28.120001  28.400000   \n",
       "2010-02-12     Friday             False  21.923805  27.930000  28.059999   \n",
       "2010-02-16    Tuesday             False  22.357546  28.350000  28.370001   \n",
       "2010-02-17  Wednesday             False  22.546816  28.590000  28.650000   \n",
       "2010-02-18   Thursday             False  22.846493  28.969999  29.030001   \n",
       "2010-02-19     Friday             False  22.688766  28.770000  28.920000   \n",
       "2010-02-22     Monday             False  22.657217  28.730000  28.940001   \n",
       "2010-02-23    Tuesday             False  22.341770  28.330000  28.830000   \n",
       "2010-02-24  Wednesday             False  22.578362  28.629999  28.790001   \n",
       "2010-02-25   Thursday             False  22.554699  28.600000  28.650000   \n",
       "2010-02-26     Friday             False  22.609909  28.670000  28.850000   \n",
       "2010-03-01     Monday              True  22.885929  29.020000  29.049999   \n",
       "2010-03-02    Tuesday             False  22.444300  28.459999  29.299999   \n",
       "2010-03-03  Wednesday             False  22.444300  28.459999  28.610001   \n",
       "2010-03-04   Thursday             False  22.578362  28.629999  28.650000   \n",
       "2010-03-05     Friday             False  22.546816  28.590000  28.680000   \n",
       "2010-03-08     Monday             False  22.578362  28.629999  28.930000   \n",
       "2010-03-09    Tuesday             False  22.712425  28.799999  29.110001   \n",
       "2010-03-10  Wednesday             False  22.846493  28.969999  29.110001   \n",
       "2010-03-11   Thursday             False  23.012110  29.180000  29.190001   \n",
       "2010-03-12     Friday             False  23.083084  29.270000  29.379999   \n",
       "2010-03-15     Monday             False  23.098850  29.290001  29.370001   \n",
       "...               ...               ...        ...        ...        ...   \n",
       "2017-11-16   Thursday             False  80.373032  83.199997  83.419998   \n",
       "2017-11-17     Friday             False  79.600227  82.400002  83.120003   \n",
       "2017-11-20     Monday             False  79.725800  82.529999  82.589996   \n",
       "2017-11-21    Tuesday             False  80.875366  83.720001  83.839996   \n",
       "2017-11-22  Wednesday             False  80.286110  83.110001  83.900002   \n",
       "2017-11-24     Friday             False  80.430992  83.260002  83.430000   \n",
       "2017-11-27     Monday             False  81.020279  83.870003  83.980003   \n",
       "2017-11-28    Tuesday             False  81.995956  84.879997  85.059998   \n",
       "2017-11-29  Wednesday             False  80.508278  83.339996  84.919998   \n",
       "2017-11-30   Thursday             False  81.310074  84.169998  84.519997   \n",
       "2017-12-01     Friday              True  81.397026  84.260002  84.809998   \n",
       "2017-12-04     Monday             False  78.325081  81.080002  84.430000   \n",
       "2017-12-05    Tuesday             False  78.817734  81.589996  82.680000   \n",
       "2017-12-06  Wednesday             False  79.967300  82.779999  83.139999   \n",
       "2017-12-07   Thursday             False  79.687149  82.489998  82.800003   \n",
       "2017-12-08     Friday             False  81.300423  84.160004  84.580002   \n",
       "2017-12-11     Monday             False  82.334061  85.230003  85.370003   \n",
       "2017-12-12    Tuesday             False  82.672165  85.580002  86.050003   \n",
       "2017-12-13  Wednesday             False  82.449982  85.349998  86.000000   \n",
       "2017-12-14   Thursday             False  81.812401  84.690002  85.870003   \n",
       "2017-12-15     Friday             False  83.899017  86.849998  87.089996   \n",
       "2017-12-18     Monday             False  83.444984  86.379997  87.500000   \n",
       "2017-12-19    Tuesday             False  82.913681  85.830002  86.349998   \n",
       "2017-12-20  Wednesday             False  82.614212  85.519997  86.300003   \n",
       "2017-12-21   Thursday             False  82.594894  85.500000  86.099998   \n",
       "2017-12-22     Friday             False  82.604538  85.510002  85.629997   \n",
       "2017-12-26    Tuesday             False  82.498283  85.400002  85.529999   \n",
       "2017-12-27  Wednesday             False  82.797745  85.709999  85.980003   \n",
       "2017-12-28   Thursday             False  82.807411  85.720001  85.930000   \n",
       "2017-12-29     Friday             False  82.633545  85.540001  86.050003   \n",
       "\n",
       "Attributes        Low       Open      Volume  \n",
       "Symbols          MSFT       MSFT        MSFT  \n",
       "Date                                          \n",
       "2010-02-01  27.920000  28.389999  85931100.0  \n",
       "2010-02-02  28.139999  28.370001  54413700.0  \n",
       "2010-02-03  28.120001  28.260000  61397900.0  \n",
       "2010-02-04  27.809999  28.379999  77850000.0  \n",
       "2010-02-05  27.570000  28.000000  80960100.0  \n",
       "2010-02-08  27.570000  28.010000  52820600.0  \n",
       "2010-02-09  27.750000  27.969999  59195800.0  \n",
       "2010-02-10  27.840000  28.030001  48591300.0  \n",
       "2010-02-11  27.700001  27.930000  65993700.0  \n",
       "2010-02-12  27.580000  27.809999  81117200.0  \n",
       "2010-02-16  28.020000  28.129999  51935600.0  \n",
       "2010-02-17  28.360001  28.530001  45882900.0  \n",
       "2010-02-18  28.510000  28.590000  42856500.0  \n",
       "2010-02-19  28.690001  28.790001  44451800.0  \n",
       "2010-02-22  28.650000  28.840000  36707100.0  \n",
       "2010-02-23  28.090000  28.680000  52266200.0  \n",
       "2010-02-24  28.379999  28.520000  43165900.0  \n",
       "2010-02-25  28.020000  28.270000  48735300.0  \n",
       "2010-02-26  28.510000  28.650000  40370600.0  \n",
       "2010-03-01  28.530001  28.770000  43805400.0  \n",
       "2010-03-02  28.240000  29.080000  93123900.0  \n",
       "2010-03-03  28.350000  28.510000  48442100.0  \n",
       "2010-03-04  28.270000  28.459999  42890600.0  \n",
       "2010-03-05  28.420000  28.660000  56001800.0  \n",
       "2010-03-08  28.500000  28.520000  39414500.0  \n",
       "2010-03-09  28.549999  28.559999  50271600.0  \n",
       "2010-03-10  28.799999  28.860001  44891400.0  \n",
       "2010-03-11  28.850000  28.889999  35349700.0  \n",
       "2010-03-12  29.040001  29.320000  31700200.0  \n",
       "2010-03-15  29.010000  29.180000  37512000.0  \n",
       "...               ...        ...         ...  \n",
       "2017-11-16  82.940002  83.099998  20962800.0  \n",
       "2017-11-17  82.239998  83.120003  22079000.0  \n",
       "2017-11-20  82.250000  82.400002  16315000.0  \n",
       "2017-11-21  82.739998  82.739998  21237500.0  \n",
       "2017-11-22  83.040001  83.830002  20553100.0  \n",
       "2017-11-24  82.779999  83.010002   7425600.0  \n",
       "2017-11-27  83.300003  83.309998  18265200.0  \n",
       "2017-11-28  84.019997  84.070000  21926000.0  \n",
       "2017-11-29  83.180000  84.709999  27381100.0  \n",
       "2017-11-30  83.339996  83.510002  33054600.0  \n",
       "2017-12-01  83.220001  83.599998  29532100.0  \n",
       "2017-12-04  80.699997  84.419998  39094900.0  \n",
       "2017-12-05  80.980003  81.339996  26152300.0  \n",
       "2017-12-06  81.430000  81.550003  26162100.0  \n",
       "2017-12-07  82.000000  82.540001  23184500.0  \n",
       "2017-12-08  83.330002  83.629997  24489100.0  \n",
       "2017-12-11  84.120003  84.290001  22857900.0  \n",
       "2017-12-12  85.080002  85.309998  23924100.0  \n",
       "2017-12-13  85.169998  85.739998  22062700.0  \n",
       "2017-12-14  84.529999  85.430000  19306000.0  \n",
       "2017-12-15  84.879997  85.260002  53936700.0  \n",
       "2017-12-18  86.230003  87.120003  22283800.0  \n",
       "2017-12-19  85.269997  86.349998  23524800.0  \n",
       "2017-12-20  84.709999  86.199997  23674900.0  \n",
       "2017-12-21  85.400002  86.050003  17990700.0  \n",
       "2017-12-22  84.919998  85.400002  14145800.0  \n",
       "2017-12-26  85.029999  85.309998   9891200.0  \n",
       "2017-12-27  85.220001  85.650002  14678000.0  \n",
       "2017-12-28  85.550003  85.900002  10594300.0  \n",
       "2017-12-29  85.500000  85.629997  18717400.0  \n",
       "\n",
       "[1994 rows x 8 columns]"
      ]
     },
     "execution_count": 81,
     "metadata": {},
     "output_type": "execute_result"
    }
   ],
   "source": [
    "stock"
   ]
  },
  {
   "cell_type": "code",
   "execution_count": 82,
   "metadata": {},
   "outputs": [
    {
     "data": {
      "text/html": [
       "<div>\n",
       "<style scoped>\n",
       "    .dataframe tbody tr th:only-of-type {\n",
       "        vertical-align: middle;\n",
       "    }\n",
       "\n",
       "    .dataframe tbody tr th {\n",
       "        vertical-align: top;\n",
       "    }\n",
       "\n",
       "    .dataframe thead tr th {\n",
       "        text-align: left;\n",
       "    }\n",
       "\n",
       "    .dataframe thead tr:last-of-type th {\n",
       "        text-align: right;\n",
       "    }\n",
       "</style>\n",
       "<table border=\"1\" class=\"dataframe\">\n",
       "  <thead>\n",
       "    <tr>\n",
       "      <th>Attributes</th>\n",
       "      <th>ay of Week</th>\n",
       "      <th>Is start of Month</th>\n",
       "      <th>Adj Close</th>\n",
       "      <th>Close</th>\n",
       "      <th>High</th>\n",
       "      <th>Low</th>\n",
       "      <th>Open</th>\n",
       "      <th>Volume</th>\n",
       "    </tr>\n",
       "    <tr>\n",
       "      <th>Symbols</th>\n",
       "      <th></th>\n",
       "      <th></th>\n",
       "      <th>MSFT</th>\n",
       "      <th>MSFT</th>\n",
       "      <th>MSFT</th>\n",
       "      <th>MSFT</th>\n",
       "      <th>MSFT</th>\n",
       "      <th>MSFT</th>\n",
       "    </tr>\n",
       "    <tr>\n",
       "      <th>Date</th>\n",
       "      <th></th>\n",
       "      <th></th>\n",
       "      <th></th>\n",
       "      <th></th>\n",
       "      <th></th>\n",
       "      <th></th>\n",
       "      <th></th>\n",
       "      <th></th>\n",
       "    </tr>\n",
       "  </thead>\n",
       "  <tbody>\n",
       "    <tr>\n",
       "      <th>2010-02-01</th>\n",
       "      <td>Monday</td>\n",
       "      <td>True</td>\n",
       "      <td>22.300581</td>\n",
       "      <td>28.410000</td>\n",
       "      <td>28.480000</td>\n",
       "      <td>27.920000</td>\n",
       "      <td>28.389999</td>\n",
       "      <td>85931100.0</td>\n",
       "    </tr>\n",
       "    <tr>\n",
       "      <th>2010-03-01</th>\n",
       "      <td>Monday</td>\n",
       "      <td>True</td>\n",
       "      <td>22.885929</td>\n",
       "      <td>29.020000</td>\n",
       "      <td>29.049999</td>\n",
       "      <td>28.530001</td>\n",
       "      <td>28.770000</td>\n",
       "      <td>43805400.0</td>\n",
       "    </tr>\n",
       "    <tr>\n",
       "      <th>2010-04-01</th>\n",
       "      <td>Thursday</td>\n",
       "      <td>True</td>\n",
       "      <td>22.996336</td>\n",
       "      <td>29.160000</td>\n",
       "      <td>29.540001</td>\n",
       "      <td>28.620001</td>\n",
       "      <td>29.350000</td>\n",
       "      <td>74768100.0</td>\n",
       "    </tr>\n",
       "    <tr>\n",
       "      <th>2010-06-01</th>\n",
       "      <td>Tuesday</td>\n",
       "      <td>True</td>\n",
       "      <td>20.509659</td>\n",
       "      <td>25.889999</td>\n",
       "      <td>26.309999</td>\n",
       "      <td>25.520000</td>\n",
       "      <td>25.530001</td>\n",
       "      <td>76152400.0</td>\n",
       "    </tr>\n",
       "    <tr>\n",
       "      <th>2010-07-01</th>\n",
       "      <td>Thursday</td>\n",
       "      <td>True</td>\n",
       "      <td>18.346998</td>\n",
       "      <td>23.160000</td>\n",
       "      <td>23.320000</td>\n",
       "      <td>22.730000</td>\n",
       "      <td>23.090000</td>\n",
       "      <td>92239400.0</td>\n",
       "    </tr>\n",
       "    <tr>\n",
       "      <th>2010-09-01</th>\n",
       "      <td>Wednesday</td>\n",
       "      <td>True</td>\n",
       "      <td>19.034208</td>\n",
       "      <td>23.900000</td>\n",
       "      <td>23.950001</td>\n",
       "      <td>23.540001</td>\n",
       "      <td>23.670000</td>\n",
       "      <td>65235900.0</td>\n",
       "    </tr>\n",
       "    <tr>\n",
       "      <th>2010-10-01</th>\n",
       "      <td>Friday</td>\n",
       "      <td>True</td>\n",
       "      <td>19.416481</td>\n",
       "      <td>24.379999</td>\n",
       "      <td>24.820000</td>\n",
       "      <td>24.299999</td>\n",
       "      <td>24.770000</td>\n",
       "      <td>62672300.0</td>\n",
       "    </tr>\n",
       "    <tr>\n",
       "      <th>2010-11-01</th>\n",
       "      <td>Monday</td>\n",
       "      <td>True</td>\n",
       "      <td>21.463259</td>\n",
       "      <td>26.950001</td>\n",
       "      <td>27.219999</td>\n",
       "      <td>26.700001</td>\n",
       "      <td>26.879999</td>\n",
       "      <td>61912100.0</td>\n",
       "    </tr>\n",
       "    <tr>\n",
       "      <th>2010-12-01</th>\n",
       "      <td>Wednesday</td>\n",
       "      <td>True</td>\n",
       "      <td>20.865950</td>\n",
       "      <td>26.040001</td>\n",
       "      <td>26.250000</td>\n",
       "      <td>25.559999</td>\n",
       "      <td>25.570000</td>\n",
       "      <td>74123500.0</td>\n",
       "    </tr>\n",
       "    <tr>\n",
       "      <th>2011-02-01</th>\n",
       "      <td>Tuesday</td>\n",
       "      <td>True</td>\n",
       "      <td>22.428497</td>\n",
       "      <td>27.990000</td>\n",
       "      <td>28.059999</td>\n",
       "      <td>27.610001</td>\n",
       "      <td>27.799999</td>\n",
       "      <td>62810700.0</td>\n",
       "    </tr>\n",
       "    <tr>\n",
       "      <th>2011-03-01</th>\n",
       "      <td>Tuesday</td>\n",
       "      <td>True</td>\n",
       "      <td>21.086014</td>\n",
       "      <td>26.160000</td>\n",
       "      <td>26.780001</td>\n",
       "      <td>26.150000</td>\n",
       "      <td>26.600000</td>\n",
       "      <td>60055000.0</td>\n",
       "    </tr>\n",
       "    <tr>\n",
       "      <th>2011-04-01</th>\n",
       "      <td>Friday</td>\n",
       "      <td>True</td>\n",
       "      <td>20.537905</td>\n",
       "      <td>25.480000</td>\n",
       "      <td>25.530001</td>\n",
       "      <td>25.309999</td>\n",
       "      <td>25.530001</td>\n",
       "      <td>63114200.0</td>\n",
       "    </tr>\n",
       "    <tr>\n",
       "      <th>2011-06-01</th>\n",
       "      <td>Wednesday</td>\n",
       "      <td>True</td>\n",
       "      <td>19.820629</td>\n",
       "      <td>24.430000</td>\n",
       "      <td>25.100000</td>\n",
       "      <td>24.370001</td>\n",
       "      <td>24.990000</td>\n",
       "      <td>74033500.0</td>\n",
       "    </tr>\n",
       "    <tr>\n",
       "      <th>2011-07-01</th>\n",
       "      <td>Friday</td>\n",
       "      <td>True</td>\n",
       "      <td>21.110630</td>\n",
       "      <td>26.020000</td>\n",
       "      <td>26.170000</td>\n",
       "      <td>25.840000</td>\n",
       "      <td>25.930000</td>\n",
       "      <td>52906200.0</td>\n",
       "    </tr>\n",
       "    <tr>\n",
       "      <th>2011-08-01</th>\n",
       "      <td>Monday</td>\n",
       "      <td>True</td>\n",
       "      <td>22.124784</td>\n",
       "      <td>27.270000</td>\n",
       "      <td>27.690001</td>\n",
       "      <td>26.750000</td>\n",
       "      <td>27.510000</td>\n",
       "      <td>61838400.0</td>\n",
       "    </tr>\n",
       "    <tr>\n",
       "      <th>2011-09-01</th>\n",
       "      <td>Thursday</td>\n",
       "      <td>True</td>\n",
       "      <td>21.399008</td>\n",
       "      <td>26.209999</td>\n",
       "      <td>26.860001</td>\n",
       "      <td>26.209999</td>\n",
       "      <td>26.459999</td>\n",
       "      <td>60510800.0</td>\n",
       "    </tr>\n",
       "    <tr>\n",
       "      <th>2011-11-01</th>\n",
       "      <td>Tuesday</td>\n",
       "      <td>True</td>\n",
       "      <td>21.219385</td>\n",
       "      <td>25.990000</td>\n",
       "      <td>26.320000</td>\n",
       "      <td>25.860001</td>\n",
       "      <td>26.190001</td>\n",
       "      <td>61182600.0</td>\n",
       "    </tr>\n",
       "    <tr>\n",
       "      <th>2011-12-01</th>\n",
       "      <td>Thursday</td>\n",
       "      <td>True</td>\n",
       "      <td>20.795128</td>\n",
       "      <td>25.280001</td>\n",
       "      <td>25.629999</td>\n",
       "      <td>25.200001</td>\n",
       "      <td>25.559999</td>\n",
       "      <td>48545400.0</td>\n",
       "    </tr>\n",
       "    <tr>\n",
       "      <th>2012-02-01</th>\n",
       "      <td>Wednesday</td>\n",
       "      <td>True</td>\n",
       "      <td>24.587280</td>\n",
       "      <td>29.889999</td>\n",
       "      <td>30.049999</td>\n",
       "      <td>29.760000</td>\n",
       "      <td>29.790001</td>\n",
       "      <td>67409900.0</td>\n",
       "    </tr>\n",
       "    <tr>\n",
       "      <th>2012-03-01</th>\n",
       "      <td>Thursday</td>\n",
       "      <td>True</td>\n",
       "      <td>26.736357</td>\n",
       "      <td>32.290001</td>\n",
       "      <td>32.389999</td>\n",
       "      <td>31.850000</td>\n",
       "      <td>31.930000</td>\n",
       "      <td>77344100.0</td>\n",
       "    </tr>\n",
       "    <tr>\n",
       "      <th>2012-05-01</th>\n",
       "      <td>Tuesday</td>\n",
       "      <td>True</td>\n",
       "      <td>26.504519</td>\n",
       "      <td>32.009998</td>\n",
       "      <td>32.340000</td>\n",
       "      <td>31.950001</td>\n",
       "      <td>32.049999</td>\n",
       "      <td>43832300.0</td>\n",
       "    </tr>\n",
       "    <tr>\n",
       "      <th>2012-06-01</th>\n",
       "      <td>Friday</td>\n",
       "      <td>True</td>\n",
       "      <td>23.711386</td>\n",
       "      <td>28.450001</td>\n",
       "      <td>28.959999</td>\n",
       "      <td>28.440001</td>\n",
       "      <td>28.760000</td>\n",
       "      <td>56634300.0</td>\n",
       "    </tr>\n",
       "    <tr>\n",
       "      <th>2012-08-01</th>\n",
       "      <td>Wednesday</td>\n",
       "      <td>True</td>\n",
       "      <td>24.511488</td>\n",
       "      <td>29.410000</td>\n",
       "      <td>29.650000</td>\n",
       "      <td>29.209999</td>\n",
       "      <td>29.590000</td>\n",
       "      <td>31721800.0</td>\n",
       "    </tr>\n",
       "    <tr>\n",
       "      <th>2012-10-01</th>\n",
       "      <td>Monday</td>\n",
       "      <td>True</td>\n",
       "      <td>24.740990</td>\n",
       "      <td>29.490000</td>\n",
       "      <td>29.980000</td>\n",
       "      <td>29.420000</td>\n",
       "      <td>29.809999</td>\n",
       "      <td>54042700.0</td>\n",
       "    </tr>\n",
       "    <tr>\n",
       "      <th>2012-11-01</th>\n",
       "      <td>Thursday</td>\n",
       "      <td>True</td>\n",
       "      <td>24.766155</td>\n",
       "      <td>29.520000</td>\n",
       "      <td>29.559999</td>\n",
       "      <td>28.820000</td>\n",
       "      <td>28.840000</td>\n",
       "      <td>72047900.0</td>\n",
       "    </tr>\n",
       "    <tr>\n",
       "      <th>2013-02-01</th>\n",
       "      <td>Friday</td>\n",
       "      <td>True</td>\n",
       "      <td>23.624756</td>\n",
       "      <td>27.930000</td>\n",
       "      <td>28.049999</td>\n",
       "      <td>27.549999</td>\n",
       "      <td>27.670000</td>\n",
       "      <td>55565900.0</td>\n",
       "    </tr>\n",
       "    <tr>\n",
       "      <th>2013-03-01</th>\n",
       "      <td>Friday</td>\n",
       "      <td>True</td>\n",
       "      <td>23.837404</td>\n",
       "      <td>27.950001</td>\n",
       "      <td>27.980000</td>\n",
       "      <td>27.520000</td>\n",
       "      <td>27.719999</td>\n",
       "      <td>34849700.0</td>\n",
       "    </tr>\n",
       "    <tr>\n",
       "      <th>2013-04-01</th>\n",
       "      <td>Monday</td>\n",
       "      <td>True</td>\n",
       "      <td>24.400293</td>\n",
       "      <td>28.610001</td>\n",
       "      <td>28.660000</td>\n",
       "      <td>28.360001</td>\n",
       "      <td>28.639999</td>\n",
       "      <td>29201100.0</td>\n",
       "    </tr>\n",
       "    <tr>\n",
       "      <th>2013-05-01</th>\n",
       "      <td>Wednesday</td>\n",
       "      <td>True</td>\n",
       "      <td>27.905539</td>\n",
       "      <td>32.720001</td>\n",
       "      <td>33.080002</td>\n",
       "      <td>32.599998</td>\n",
       "      <td>32.930000</td>\n",
       "      <td>54330900.0</td>\n",
       "    </tr>\n",
       "    <tr>\n",
       "      <th>2013-07-01</th>\n",
       "      <td>Monday</td>\n",
       "      <td>True</td>\n",
       "      <td>29.509716</td>\n",
       "      <td>34.360001</td>\n",
       "      <td>34.990002</td>\n",
       "      <td>34.330002</td>\n",
       "      <td>34.750000</td>\n",
       "      <td>31055400.0</td>\n",
       "    </tr>\n",
       "    <tr>\n",
       "      <th>...</th>\n",
       "      <td>...</td>\n",
       "      <td>...</td>\n",
       "      <td>...</td>\n",
       "      <td>...</td>\n",
       "      <td>...</td>\n",
       "      <td>...</td>\n",
       "      <td>...</td>\n",
       "      <td>...</td>\n",
       "    </tr>\n",
       "    <tr>\n",
       "      <th>2014-04-01</th>\n",
       "      <td>Tuesday</td>\n",
       "      <td>True</td>\n",
       "      <td>36.366154</td>\n",
       "      <td>41.419998</td>\n",
       "      <td>41.590000</td>\n",
       "      <td>41.070000</td>\n",
       "      <td>41.150002</td>\n",
       "      <td>32605000.0</td>\n",
       "    </tr>\n",
       "    <tr>\n",
       "      <th>2014-05-01</th>\n",
       "      <td>Thursday</td>\n",
       "      <td>True</td>\n",
       "      <td>35.119415</td>\n",
       "      <td>40.000000</td>\n",
       "      <td>40.360001</td>\n",
       "      <td>39.950001</td>\n",
       "      <td>40.240002</td>\n",
       "      <td>28787400.0</td>\n",
       "    </tr>\n",
       "    <tr>\n",
       "      <th>2014-07-01</th>\n",
       "      <td>Tuesday</td>\n",
       "      <td>True</td>\n",
       "      <td>37.020580</td>\n",
       "      <td>41.869999</td>\n",
       "      <td>42.150002</td>\n",
       "      <td>41.689999</td>\n",
       "      <td>41.860001</td>\n",
       "      <td>26917000.0</td>\n",
       "    </tr>\n",
       "    <tr>\n",
       "      <th>2014-08-01</th>\n",
       "      <td>Friday</td>\n",
       "      <td>True</td>\n",
       "      <td>37.895912</td>\n",
       "      <td>42.860001</td>\n",
       "      <td>43.250000</td>\n",
       "      <td>42.599998</td>\n",
       "      <td>43.209999</td>\n",
       "      <td>31170300.0</td>\n",
       "    </tr>\n",
       "    <tr>\n",
       "      <th>2014-10-01</th>\n",
       "      <td>Wednesday</td>\n",
       "      <td>True</td>\n",
       "      <td>40.837303</td>\n",
       "      <td>45.900002</td>\n",
       "      <td>46.529999</td>\n",
       "      <td>45.849998</td>\n",
       "      <td>46.270000</td>\n",
       "      <td>38088400.0</td>\n",
       "    </tr>\n",
       "    <tr>\n",
       "      <th>2014-12-01</th>\n",
       "      <td>Monday</td>\n",
       "      <td>True</td>\n",
       "      <td>43.530121</td>\n",
       "      <td>48.619999</td>\n",
       "      <td>48.779999</td>\n",
       "      <td>47.709999</td>\n",
       "      <td>47.880001</td>\n",
       "      <td>31191600.0</td>\n",
       "    </tr>\n",
       "    <tr>\n",
       "      <th>2015-04-01</th>\n",
       "      <td>Wednesday</td>\n",
       "      <td>True</td>\n",
       "      <td>36.716602</td>\n",
       "      <td>40.720001</td>\n",
       "      <td>40.759998</td>\n",
       "      <td>40.310001</td>\n",
       "      <td>40.599998</td>\n",
       "      <td>36865300.0</td>\n",
       "    </tr>\n",
       "    <tr>\n",
       "      <th>2015-05-01</th>\n",
       "      <td>Friday</td>\n",
       "      <td>True</td>\n",
       "      <td>43.875984</td>\n",
       "      <td>48.660000</td>\n",
       "      <td>48.880001</td>\n",
       "      <td>48.400002</td>\n",
       "      <td>48.580002</td>\n",
       "      <td>38937300.0</td>\n",
       "    </tr>\n",
       "    <tr>\n",
       "      <th>2015-06-01</th>\n",
       "      <td>Monday</td>\n",
       "      <td>True</td>\n",
       "      <td>42.863331</td>\n",
       "      <td>47.230000</td>\n",
       "      <td>47.770000</td>\n",
       "      <td>46.619999</td>\n",
       "      <td>47.060001</td>\n",
       "      <td>28837300.0</td>\n",
       "    </tr>\n",
       "    <tr>\n",
       "      <th>2015-07-01</th>\n",
       "      <td>Wednesday</td>\n",
       "      <td>True</td>\n",
       "      <td>40.340359</td>\n",
       "      <td>44.450001</td>\n",
       "      <td>45.230000</td>\n",
       "      <td>44.099998</td>\n",
       "      <td>44.459999</td>\n",
       "      <td>28343900.0</td>\n",
       "    </tr>\n",
       "    <tr>\n",
       "      <th>2015-09-01</th>\n",
       "      <td>Tuesday</td>\n",
       "      <td>True</td>\n",
       "      <td>38.203796</td>\n",
       "      <td>41.820000</td>\n",
       "      <td>42.590000</td>\n",
       "      <td>41.660000</td>\n",
       "      <td>42.169998</td>\n",
       "      <td>49688900.0</td>\n",
       "    </tr>\n",
       "    <tr>\n",
       "      <th>2015-10-01</th>\n",
       "      <td>Thursday</td>\n",
       "      <td>True</td>\n",
       "      <td>40.752541</td>\n",
       "      <td>44.610001</td>\n",
       "      <td>44.750000</td>\n",
       "      <td>43.750000</td>\n",
       "      <td>44.750000</td>\n",
       "      <td>28657900.0</td>\n",
       "    </tr>\n",
       "    <tr>\n",
       "      <th>2015-12-01</th>\n",
       "      <td>Tuesday</td>\n",
       "      <td>True</td>\n",
       "      <td>50.785107</td>\n",
       "      <td>55.220001</td>\n",
       "      <td>55.230000</td>\n",
       "      <td>54.299999</td>\n",
       "      <td>54.410000</td>\n",
       "      <td>39952800.0</td>\n",
       "    </tr>\n",
       "    <tr>\n",
       "      <th>2016-02-01</th>\n",
       "      <td>Monday</td>\n",
       "      <td>True</td>\n",
       "      <td>50.316063</td>\n",
       "      <td>54.709999</td>\n",
       "      <td>55.090000</td>\n",
       "      <td>54.500000</td>\n",
       "      <td>54.880001</td>\n",
       "      <td>44208500.0</td>\n",
       "    </tr>\n",
       "    <tr>\n",
       "      <th>2016-03-01</th>\n",
       "      <td>Tuesday</td>\n",
       "      <td>True</td>\n",
       "      <td>48.704338</td>\n",
       "      <td>52.580002</td>\n",
       "      <td>52.590000</td>\n",
       "      <td>50.919998</td>\n",
       "      <td>50.970001</td>\n",
       "      <td>33024500.0</td>\n",
       "    </tr>\n",
       "    <tr>\n",
       "      <th>2016-04-01</th>\n",
       "      <td>Friday</td>\n",
       "      <td>True</td>\n",
       "      <td>51.473946</td>\n",
       "      <td>55.570000</td>\n",
       "      <td>55.610001</td>\n",
       "      <td>54.570000</td>\n",
       "      <td>55.049999</td>\n",
       "      <td>24399200.0</td>\n",
       "    </tr>\n",
       "    <tr>\n",
       "      <th>2016-06-01</th>\n",
       "      <td>Wednesday</td>\n",
       "      <td>True</td>\n",
       "      <td>49.296829</td>\n",
       "      <td>52.849998</td>\n",
       "      <td>52.950001</td>\n",
       "      <td>52.439999</td>\n",
       "      <td>52.439999</td>\n",
       "      <td>25324800.0</td>\n",
       "    </tr>\n",
       "    <tr>\n",
       "      <th>2016-07-01</th>\n",
       "      <td>Friday</td>\n",
       "      <td>True</td>\n",
       "      <td>47.720455</td>\n",
       "      <td>51.160000</td>\n",
       "      <td>51.720001</td>\n",
       "      <td>51.070000</td>\n",
       "      <td>51.130001</td>\n",
       "      <td>21400400.0</td>\n",
       "    </tr>\n",
       "    <tr>\n",
       "      <th>2016-08-01</th>\n",
       "      <td>Monday</td>\n",
       "      <td>True</td>\n",
       "      <td>52.776062</td>\n",
       "      <td>56.580002</td>\n",
       "      <td>56.750000</td>\n",
       "      <td>56.139999</td>\n",
       "      <td>56.599998</td>\n",
       "      <td>26003400.0</td>\n",
       "    </tr>\n",
       "    <tr>\n",
       "      <th>2016-09-01</th>\n",
       "      <td>Thursday</td>\n",
       "      <td>True</td>\n",
       "      <td>54.052967</td>\n",
       "      <td>57.590000</td>\n",
       "      <td>57.820000</td>\n",
       "      <td>57.009998</td>\n",
       "      <td>57.009998</td>\n",
       "      <td>26075400.0</td>\n",
       "    </tr>\n",
       "    <tr>\n",
       "      <th>2016-11-01</th>\n",
       "      <td>Tuesday</td>\n",
       "      <td>True</td>\n",
       "      <td>56.127235</td>\n",
       "      <td>59.799999</td>\n",
       "      <td>60.020000</td>\n",
       "      <td>59.250000</td>\n",
       "      <td>59.970001</td>\n",
       "      <td>24533000.0</td>\n",
       "    </tr>\n",
       "    <tr>\n",
       "      <th>2016-12-01</th>\n",
       "      <td>Thursday</td>\n",
       "      <td>True</td>\n",
       "      <td>55.939449</td>\n",
       "      <td>59.200001</td>\n",
       "      <td>60.150002</td>\n",
       "      <td>58.939999</td>\n",
       "      <td>60.110001</td>\n",
       "      <td>34542100.0</td>\n",
       "    </tr>\n",
       "    <tr>\n",
       "      <th>2017-02-01</th>\n",
       "      <td>Wednesday</td>\n",
       "      <td>True</td>\n",
       "      <td>60.078220</td>\n",
       "      <td>63.580002</td>\n",
       "      <td>64.620003</td>\n",
       "      <td>63.470001</td>\n",
       "      <td>64.360001</td>\n",
       "      <td>39671500.0</td>\n",
       "    </tr>\n",
       "    <tr>\n",
       "      <th>2017-03-01</th>\n",
       "      <td>Wednesday</td>\n",
       "      <td>True</td>\n",
       "      <td>61.735340</td>\n",
       "      <td>64.940002</td>\n",
       "      <td>64.989998</td>\n",
       "      <td>64.019997</td>\n",
       "      <td>64.129997</td>\n",
       "      <td>26937500.0</td>\n",
       "    </tr>\n",
       "    <tr>\n",
       "      <th>2017-05-01</th>\n",
       "      <td>Monday</td>\n",
       "      <td>True</td>\n",
       "      <td>65.984741</td>\n",
       "      <td>69.410004</td>\n",
       "      <td>69.550003</td>\n",
       "      <td>68.500000</td>\n",
       "      <td>68.680000</td>\n",
       "      <td>31954400.0</td>\n",
       "    </tr>\n",
       "    <tr>\n",
       "      <th>2017-06-01</th>\n",
       "      <td>Thursday</td>\n",
       "      <td>True</td>\n",
       "      <td>67.022667</td>\n",
       "      <td>70.099998</td>\n",
       "      <td>70.610001</td>\n",
       "      <td>69.449997</td>\n",
       "      <td>70.239998</td>\n",
       "      <td>21603600.0</td>\n",
       "    </tr>\n",
       "    <tr>\n",
       "      <th>2017-08-01</th>\n",
       "      <td>Tuesday</td>\n",
       "      <td>True</td>\n",
       "      <td>69.393814</td>\n",
       "      <td>72.580002</td>\n",
       "      <td>73.419998</td>\n",
       "      <td>72.489998</td>\n",
       "      <td>73.099998</td>\n",
       "      <td>22132300.0</td>\n",
       "    </tr>\n",
       "    <tr>\n",
       "      <th>2017-09-01</th>\n",
       "      <td>Friday</td>\n",
       "      <td>True</td>\n",
       "      <td>71.070747</td>\n",
       "      <td>73.940002</td>\n",
       "      <td>74.739998</td>\n",
       "      <td>73.639999</td>\n",
       "      <td>74.709999</td>\n",
       "      <td>21736200.0</td>\n",
       "    </tr>\n",
       "    <tr>\n",
       "      <th>2017-11-01</th>\n",
       "      <td>Wednesday</td>\n",
       "      <td>True</td>\n",
       "      <td>79.952187</td>\n",
       "      <td>83.180000</td>\n",
       "      <td>83.760002</td>\n",
       "      <td>82.879997</td>\n",
       "      <td>83.680000</td>\n",
       "      <td>22307400.0</td>\n",
       "    </tr>\n",
       "    <tr>\n",
       "      <th>2017-12-01</th>\n",
       "      <td>Friday</td>\n",
       "      <td>True</td>\n",
       "      <td>81.397026</td>\n",
       "      <td>84.260002</td>\n",
       "      <td>84.809998</td>\n",
       "      <td>83.220001</td>\n",
       "      <td>83.599998</td>\n",
       "      <td>29532100.0</td>\n",
       "    </tr>\n",
       "  </tbody>\n",
       "</table>\n",
       "<p>63 rows × 8 columns</p>\n",
       "</div>"
      ],
      "text/plain": [
       "Attributes ay of Week Is start of Month  Adj Close      Close       High  \\\n",
       "Symbols                                       MSFT       MSFT       MSFT   \n",
       "Date                                                                       \n",
       "2010-02-01     Monday              True  22.300581  28.410000  28.480000   \n",
       "2010-03-01     Monday              True  22.885929  29.020000  29.049999   \n",
       "2010-04-01   Thursday              True  22.996336  29.160000  29.540001   \n",
       "2010-06-01    Tuesday              True  20.509659  25.889999  26.309999   \n",
       "2010-07-01   Thursday              True  18.346998  23.160000  23.320000   \n",
       "2010-09-01  Wednesday              True  19.034208  23.900000  23.950001   \n",
       "2010-10-01     Friday              True  19.416481  24.379999  24.820000   \n",
       "2010-11-01     Monday              True  21.463259  26.950001  27.219999   \n",
       "2010-12-01  Wednesday              True  20.865950  26.040001  26.250000   \n",
       "2011-02-01    Tuesday              True  22.428497  27.990000  28.059999   \n",
       "2011-03-01    Tuesday              True  21.086014  26.160000  26.780001   \n",
       "2011-04-01     Friday              True  20.537905  25.480000  25.530001   \n",
       "2011-06-01  Wednesday              True  19.820629  24.430000  25.100000   \n",
       "2011-07-01     Friday              True  21.110630  26.020000  26.170000   \n",
       "2011-08-01     Monday              True  22.124784  27.270000  27.690001   \n",
       "2011-09-01   Thursday              True  21.399008  26.209999  26.860001   \n",
       "2011-11-01    Tuesday              True  21.219385  25.990000  26.320000   \n",
       "2011-12-01   Thursday              True  20.795128  25.280001  25.629999   \n",
       "2012-02-01  Wednesday              True  24.587280  29.889999  30.049999   \n",
       "2012-03-01   Thursday              True  26.736357  32.290001  32.389999   \n",
       "2012-05-01    Tuesday              True  26.504519  32.009998  32.340000   \n",
       "2012-06-01     Friday              True  23.711386  28.450001  28.959999   \n",
       "2012-08-01  Wednesday              True  24.511488  29.410000  29.650000   \n",
       "2012-10-01     Monday              True  24.740990  29.490000  29.980000   \n",
       "2012-11-01   Thursday              True  24.766155  29.520000  29.559999   \n",
       "2013-02-01     Friday              True  23.624756  27.930000  28.049999   \n",
       "2013-03-01     Friday              True  23.837404  27.950001  27.980000   \n",
       "2013-04-01     Monday              True  24.400293  28.610001  28.660000   \n",
       "2013-05-01  Wednesday              True  27.905539  32.720001  33.080002   \n",
       "2013-07-01     Monday              True  29.509716  34.360001  34.990002   \n",
       "...               ...               ...        ...        ...        ...   \n",
       "2014-04-01    Tuesday              True  36.366154  41.419998  41.590000   \n",
       "2014-05-01   Thursday              True  35.119415  40.000000  40.360001   \n",
       "2014-07-01    Tuesday              True  37.020580  41.869999  42.150002   \n",
       "2014-08-01     Friday              True  37.895912  42.860001  43.250000   \n",
       "2014-10-01  Wednesday              True  40.837303  45.900002  46.529999   \n",
       "2014-12-01     Monday              True  43.530121  48.619999  48.779999   \n",
       "2015-04-01  Wednesday              True  36.716602  40.720001  40.759998   \n",
       "2015-05-01     Friday              True  43.875984  48.660000  48.880001   \n",
       "2015-06-01     Monday              True  42.863331  47.230000  47.770000   \n",
       "2015-07-01  Wednesday              True  40.340359  44.450001  45.230000   \n",
       "2015-09-01    Tuesday              True  38.203796  41.820000  42.590000   \n",
       "2015-10-01   Thursday              True  40.752541  44.610001  44.750000   \n",
       "2015-12-01    Tuesday              True  50.785107  55.220001  55.230000   \n",
       "2016-02-01     Monday              True  50.316063  54.709999  55.090000   \n",
       "2016-03-01    Tuesday              True  48.704338  52.580002  52.590000   \n",
       "2016-04-01     Friday              True  51.473946  55.570000  55.610001   \n",
       "2016-06-01  Wednesday              True  49.296829  52.849998  52.950001   \n",
       "2016-07-01     Friday              True  47.720455  51.160000  51.720001   \n",
       "2016-08-01     Monday              True  52.776062  56.580002  56.750000   \n",
       "2016-09-01   Thursday              True  54.052967  57.590000  57.820000   \n",
       "2016-11-01    Tuesday              True  56.127235  59.799999  60.020000   \n",
       "2016-12-01   Thursday              True  55.939449  59.200001  60.150002   \n",
       "2017-02-01  Wednesday              True  60.078220  63.580002  64.620003   \n",
       "2017-03-01  Wednesday              True  61.735340  64.940002  64.989998   \n",
       "2017-05-01     Monday              True  65.984741  69.410004  69.550003   \n",
       "2017-06-01   Thursday              True  67.022667  70.099998  70.610001   \n",
       "2017-08-01    Tuesday              True  69.393814  72.580002  73.419998   \n",
       "2017-09-01     Friday              True  71.070747  73.940002  74.739998   \n",
       "2017-11-01  Wednesday              True  79.952187  83.180000  83.760002   \n",
       "2017-12-01     Friday              True  81.397026  84.260002  84.809998   \n",
       "\n",
       "Attributes        Low       Open      Volume  \n",
       "Symbols          MSFT       MSFT        MSFT  \n",
       "Date                                          \n",
       "2010-02-01  27.920000  28.389999  85931100.0  \n",
       "2010-03-01  28.530001  28.770000  43805400.0  \n",
       "2010-04-01  28.620001  29.350000  74768100.0  \n",
       "2010-06-01  25.520000  25.530001  76152400.0  \n",
       "2010-07-01  22.730000  23.090000  92239400.0  \n",
       "2010-09-01  23.540001  23.670000  65235900.0  \n",
       "2010-10-01  24.299999  24.770000  62672300.0  \n",
       "2010-11-01  26.700001  26.879999  61912100.0  \n",
       "2010-12-01  25.559999  25.570000  74123500.0  \n",
       "2011-02-01  27.610001  27.799999  62810700.0  \n",
       "2011-03-01  26.150000  26.600000  60055000.0  \n",
       "2011-04-01  25.309999  25.530001  63114200.0  \n",
       "2011-06-01  24.370001  24.990000  74033500.0  \n",
       "2011-07-01  25.840000  25.930000  52906200.0  \n",
       "2011-08-01  26.750000  27.510000  61838400.0  \n",
       "2011-09-01  26.209999  26.459999  60510800.0  \n",
       "2011-11-01  25.860001  26.190001  61182600.0  \n",
       "2011-12-01  25.200001  25.559999  48545400.0  \n",
       "2012-02-01  29.760000  29.790001  67409900.0  \n",
       "2012-03-01  31.850000  31.930000  77344100.0  \n",
       "2012-05-01  31.950001  32.049999  43832300.0  \n",
       "2012-06-01  28.440001  28.760000  56634300.0  \n",
       "2012-08-01  29.209999  29.590000  31721800.0  \n",
       "2012-10-01  29.420000  29.809999  54042700.0  \n",
       "2012-11-01  28.820000  28.840000  72047900.0  \n",
       "2013-02-01  27.549999  27.670000  55565900.0  \n",
       "2013-03-01  27.520000  27.719999  34849700.0  \n",
       "2013-04-01  28.360001  28.639999  29201100.0  \n",
       "2013-05-01  32.599998  32.930000  54330900.0  \n",
       "2013-07-01  34.330002  34.750000  31055400.0  \n",
       "...               ...        ...         ...  \n",
       "2014-04-01  41.070000  41.150002  32605000.0  \n",
       "2014-05-01  39.950001  40.240002  28787400.0  \n",
       "2014-07-01  41.689999  41.860001  26917000.0  \n",
       "2014-08-01  42.599998  43.209999  31170300.0  \n",
       "2014-10-01  45.849998  46.270000  38088400.0  \n",
       "2014-12-01  47.709999  47.880001  31191600.0  \n",
       "2015-04-01  40.310001  40.599998  36865300.0  \n",
       "2015-05-01  48.400002  48.580002  38937300.0  \n",
       "2015-06-01  46.619999  47.060001  28837300.0  \n",
       "2015-07-01  44.099998  44.459999  28343900.0  \n",
       "2015-09-01  41.660000  42.169998  49688900.0  \n",
       "2015-10-01  43.750000  44.750000  28657900.0  \n",
       "2015-12-01  54.299999  54.410000  39952800.0  \n",
       "2016-02-01  54.500000  54.880001  44208500.0  \n",
       "2016-03-01  50.919998  50.970001  33024500.0  \n",
       "2016-04-01  54.570000  55.049999  24399200.0  \n",
       "2016-06-01  52.439999  52.439999  25324800.0  \n",
       "2016-07-01  51.070000  51.130001  21400400.0  \n",
       "2016-08-01  56.139999  56.599998  26003400.0  \n",
       "2016-09-01  57.009998  57.009998  26075400.0  \n",
       "2016-11-01  59.250000  59.970001  24533000.0  \n",
       "2016-12-01  58.939999  60.110001  34542100.0  \n",
       "2017-02-01  63.470001  64.360001  39671500.0  \n",
       "2017-03-01  64.019997  64.129997  26937500.0  \n",
       "2017-05-01  68.500000  68.680000  31954400.0  \n",
       "2017-06-01  69.449997  70.239998  21603600.0  \n",
       "2017-08-01  72.489998  73.099998  22132300.0  \n",
       "2017-09-01  73.639999  74.709999  21736200.0  \n",
       "2017-11-01  82.879997  83.680000  22307400.0  \n",
       "2017-12-01  83.220001  83.599998  29532100.0  \n",
       "\n",
       "[63 rows x 8 columns]"
      ]
     },
     "execution_count": 82,
     "metadata": {},
     "output_type": "execute_result"
    }
   ],
   "source": [
    "stock[stock['Is start of Month']]"
   ]
  },
  {
   "cell_type": "markdown",
   "metadata": {},
   "source": [
    "## .truncate() Method"
   ]
  },
  {
   "cell_type": "code",
   "execution_count": 83,
   "metadata": {},
   "outputs": [
    {
     "data": {
      "text/html": [
       "<div>\n",
       "<style scoped>\n",
       "    .dataframe tbody tr th:only-of-type {\n",
       "        vertical-align: middle;\n",
       "    }\n",
       "\n",
       "    .dataframe tbody tr th {\n",
       "        vertical-align: top;\n",
       "    }\n",
       "\n",
       "    .dataframe thead tr th {\n",
       "        text-align: left;\n",
       "    }\n",
       "\n",
       "    .dataframe thead tr:last-of-type th {\n",
       "        text-align: right;\n",
       "    }\n",
       "</style>\n",
       "<table border=\"1\" class=\"dataframe\">\n",
       "  <thead>\n",
       "    <tr>\n",
       "      <th>Attributes</th>\n",
       "      <th>ay of Week</th>\n",
       "      <th>Is start of Month</th>\n",
       "      <th>Adj Close</th>\n",
       "      <th>Close</th>\n",
       "      <th>High</th>\n",
       "      <th>Low</th>\n",
       "      <th>Open</th>\n",
       "      <th>Volume</th>\n",
       "    </tr>\n",
       "    <tr>\n",
       "      <th>Symbols</th>\n",
       "      <th></th>\n",
       "      <th></th>\n",
       "      <th>MSFT</th>\n",
       "      <th>MSFT</th>\n",
       "      <th>MSFT</th>\n",
       "      <th>MSFT</th>\n",
       "      <th>MSFT</th>\n",
       "      <th>MSFT</th>\n",
       "    </tr>\n",
       "    <tr>\n",
       "      <th>Date</th>\n",
       "      <th></th>\n",
       "      <th></th>\n",
       "      <th></th>\n",
       "      <th></th>\n",
       "      <th></th>\n",
       "      <th></th>\n",
       "      <th></th>\n",
       "      <th></th>\n",
       "    </tr>\n",
       "  </thead>\n",
       "  <tbody>\n",
       "    <tr>\n",
       "      <th>2011-02-07</th>\n",
       "      <td>Monday</td>\n",
       "      <td>False</td>\n",
       "      <td>22.596769</td>\n",
       "      <td>28.200001</td>\n",
       "      <td>28.340000</td>\n",
       "      <td>27.790001</td>\n",
       "      <td>27.799999</td>\n",
       "      <td>68980900.0</td>\n",
       "    </tr>\n",
       "    <tr>\n",
       "      <th>2011-02-08</th>\n",
       "      <td>Tuesday</td>\n",
       "      <td>False</td>\n",
       "      <td>22.660870</td>\n",
       "      <td>28.280001</td>\n",
       "      <td>28.340000</td>\n",
       "      <td>28.049999</td>\n",
       "      <td>28.100000</td>\n",
       "      <td>34904200.0</td>\n",
       "    </tr>\n",
       "    <tr>\n",
       "      <th>2011-02-09</th>\n",
       "      <td>Wednesday</td>\n",
       "      <td>False</td>\n",
       "      <td>22.412468</td>\n",
       "      <td>27.969999</td>\n",
       "      <td>28.260000</td>\n",
       "      <td>27.910000</td>\n",
       "      <td>28.190001</td>\n",
       "      <td>52905100.0</td>\n",
       "    </tr>\n",
       "    <tr>\n",
       "      <th>2011-02-10</th>\n",
       "      <td>Thursday</td>\n",
       "      <td>False</td>\n",
       "      <td>22.035860</td>\n",
       "      <td>27.500000</td>\n",
       "      <td>27.940001</td>\n",
       "      <td>27.290001</td>\n",
       "      <td>27.930000</td>\n",
       "      <td>76672400.0</td>\n",
       "    </tr>\n",
       "    <tr>\n",
       "      <th>2011-02-11</th>\n",
       "      <td>Friday</td>\n",
       "      <td>False</td>\n",
       "      <td>21.835524</td>\n",
       "      <td>27.250000</td>\n",
       "      <td>27.809999</td>\n",
       "      <td>27.070000</td>\n",
       "      <td>27.760000</td>\n",
       "      <td>83939700.0</td>\n",
       "    </tr>\n",
       "    <tr>\n",
       "      <th>2011-02-14</th>\n",
       "      <td>Monday</td>\n",
       "      <td>False</td>\n",
       "      <td>21.819502</td>\n",
       "      <td>27.230000</td>\n",
       "      <td>27.270000</td>\n",
       "      <td>26.950001</td>\n",
       "      <td>27.209999</td>\n",
       "      <td>56766200.0</td>\n",
       "    </tr>\n",
       "    <tr>\n",
       "      <th>2011-02-15</th>\n",
       "      <td>Tuesday</td>\n",
       "      <td>False</td>\n",
       "      <td>21.730837</td>\n",
       "      <td>26.959999</td>\n",
       "      <td>27.330000</td>\n",
       "      <td>26.950001</td>\n",
       "      <td>27.040001</td>\n",
       "      <td>44116500.0</td>\n",
       "    </tr>\n",
       "    <tr>\n",
       "      <th>2011-02-16</th>\n",
       "      <td>Wednesday</td>\n",
       "      <td>False</td>\n",
       "      <td>21.779205</td>\n",
       "      <td>27.020000</td>\n",
       "      <td>27.070000</td>\n",
       "      <td>26.600000</td>\n",
       "      <td>27.049999</td>\n",
       "      <td>70817900.0</td>\n",
       "    </tr>\n",
       "    <tr>\n",
       "      <th>2011-02-17</th>\n",
       "      <td>Thursday</td>\n",
       "      <td>False</td>\n",
       "      <td>21.932344</td>\n",
       "      <td>27.209999</td>\n",
       "      <td>27.370001</td>\n",
       "      <td>26.910000</td>\n",
       "      <td>26.969999</td>\n",
       "      <td>57207300.0</td>\n",
       "    </tr>\n",
       "    <tr>\n",
       "      <th>2011-02-18</th>\n",
       "      <td>Friday</td>\n",
       "      <td>False</td>\n",
       "      <td>21.811447</td>\n",
       "      <td>27.059999</td>\n",
       "      <td>27.209999</td>\n",
       "      <td>26.990000</td>\n",
       "      <td>27.129999</td>\n",
       "      <td>68667800.0</td>\n",
       "    </tr>\n",
       "    <tr>\n",
       "      <th>2011-02-22</th>\n",
       "      <td>Tuesday</td>\n",
       "      <td>False</td>\n",
       "      <td>21.432606</td>\n",
       "      <td>26.590000</td>\n",
       "      <td>27.100000</td>\n",
       "      <td>26.520000</td>\n",
       "      <td>26.780001</td>\n",
       "      <td>60889000.0</td>\n",
       "    </tr>\n",
       "    <tr>\n",
       "      <th>2011-02-23</th>\n",
       "      <td>Wednesday</td>\n",
       "      <td>False</td>\n",
       "      <td>21.432606</td>\n",
       "      <td>26.590000</td>\n",
       "      <td>26.860001</td>\n",
       "      <td>26.430000</td>\n",
       "      <td>26.530001</td>\n",
       "      <td>60234100.0</td>\n",
       "    </tr>\n",
       "    <tr>\n",
       "      <th>2011-02-24</th>\n",
       "      <td>Thursday</td>\n",
       "      <td>False</td>\n",
       "      <td>21.577696</td>\n",
       "      <td>26.770000</td>\n",
       "      <td>27.059999</td>\n",
       "      <td>26.500000</td>\n",
       "      <td>26.639999</td>\n",
       "      <td>64494200.0</td>\n",
       "    </tr>\n",
       "    <tr>\n",
       "      <th>2011-02-25</th>\n",
       "      <td>Friday</td>\n",
       "      <td>False</td>\n",
       "      <td>21.400364</td>\n",
       "      <td>26.549999</td>\n",
       "      <td>26.950001</td>\n",
       "      <td>26.500000</td>\n",
       "      <td>26.910000</td>\n",
       "      <td>53006300.0</td>\n",
       "    </tr>\n",
       "    <tr>\n",
       "      <th>2011-02-28</th>\n",
       "      <td>Monday</td>\n",
       "      <td>False</td>\n",
       "      <td>21.424541</td>\n",
       "      <td>26.580000</td>\n",
       "      <td>26.860001</td>\n",
       "      <td>26.510000</td>\n",
       "      <td>26.690001</td>\n",
       "      <td>51379900.0</td>\n",
       "    </tr>\n",
       "  </tbody>\n",
       "</table>\n",
       "</div>"
      ],
      "text/plain": [
       "Attributes ay of Week Is start of Month  Adj Close      Close       High  \\\n",
       "Symbols                                       MSFT       MSFT       MSFT   \n",
       "Date                                                                       \n",
       "2011-02-07     Monday             False  22.596769  28.200001  28.340000   \n",
       "2011-02-08    Tuesday             False  22.660870  28.280001  28.340000   \n",
       "2011-02-09  Wednesday             False  22.412468  27.969999  28.260000   \n",
       "2011-02-10   Thursday             False  22.035860  27.500000  27.940001   \n",
       "2011-02-11     Friday             False  21.835524  27.250000  27.809999   \n",
       "2011-02-14     Monday             False  21.819502  27.230000  27.270000   \n",
       "2011-02-15    Tuesday             False  21.730837  26.959999  27.330000   \n",
       "2011-02-16  Wednesday             False  21.779205  27.020000  27.070000   \n",
       "2011-02-17   Thursday             False  21.932344  27.209999  27.370001   \n",
       "2011-02-18     Friday             False  21.811447  27.059999  27.209999   \n",
       "2011-02-22    Tuesday             False  21.432606  26.590000  27.100000   \n",
       "2011-02-23  Wednesday             False  21.432606  26.590000  26.860001   \n",
       "2011-02-24   Thursday             False  21.577696  26.770000  27.059999   \n",
       "2011-02-25     Friday             False  21.400364  26.549999  26.950001   \n",
       "2011-02-28     Monday             False  21.424541  26.580000  26.860001   \n",
       "\n",
       "Attributes        Low       Open      Volume  \n",
       "Symbols          MSFT       MSFT        MSFT  \n",
       "Date                                          \n",
       "2011-02-07  27.790001  27.799999  68980900.0  \n",
       "2011-02-08  28.049999  28.100000  34904200.0  \n",
       "2011-02-09  27.910000  28.190001  52905100.0  \n",
       "2011-02-10  27.290001  27.930000  76672400.0  \n",
       "2011-02-11  27.070000  27.760000  83939700.0  \n",
       "2011-02-14  26.950001  27.209999  56766200.0  \n",
       "2011-02-15  26.950001  27.040001  44116500.0  \n",
       "2011-02-16  26.600000  27.049999  70817900.0  \n",
       "2011-02-17  26.910000  26.969999  57207300.0  \n",
       "2011-02-18  26.990000  27.129999  68667800.0  \n",
       "2011-02-22  26.520000  26.780001  60889000.0  \n",
       "2011-02-23  26.430000  26.530001  60234100.0  \n",
       "2011-02-24  26.500000  26.639999  64494200.0  \n",
       "2011-02-25  26.500000  26.910000  53006300.0  \n",
       "2011-02-28  26.510000  26.690001  51379900.0  "
      ]
     },
     "execution_count": 83,
     "metadata": {},
     "output_type": "execute_result"
    }
   ],
   "source": [
    "stock.truncate(before='2011-02-05', after='2011-02-28')"
   ]
  },
  {
   "cell_type": "markdown",
   "metadata": {},
   "source": [
    "## pd.DateOffset Object"
   ]
  },
  {
   "cell_type": "code",
   "execution_count": 88,
   "metadata": {},
   "outputs": [
    {
     "data": {
      "text/html": [
       "<div>\n",
       "<style scoped>\n",
       "    .dataframe tbody tr th:only-of-type {\n",
       "        vertical-align: middle;\n",
       "    }\n",
       "\n",
       "    .dataframe tbody tr th {\n",
       "        vertical-align: top;\n",
       "    }\n",
       "\n",
       "    .dataframe thead th {\n",
       "        text-align: right;\n",
       "    }\n",
       "</style>\n",
       "<table border=\"1\" class=\"dataframe\">\n",
       "  <thead>\n",
       "    <tr style=\"text-align: right;\">\n",
       "      <th></th>\n",
       "      <th>High</th>\n",
       "      <th>Low</th>\n",
       "      <th>Open</th>\n",
       "      <th>Close</th>\n",
       "      <th>Volume</th>\n",
       "      <th>Adj Close</th>\n",
       "    </tr>\n",
       "    <tr>\n",
       "      <th>Date</th>\n",
       "      <th></th>\n",
       "      <th></th>\n",
       "      <th></th>\n",
       "      <th></th>\n",
       "      <th></th>\n",
       "      <th></th>\n",
       "    </tr>\n",
       "  </thead>\n",
       "  <tbody>\n",
       "    <tr>\n",
       "      <th>2003-08-14</th>\n",
       "      <td>15.15</td>\n",
       "      <td>14.65</td>\n",
       "      <td>15.15</td>\n",
       "      <td>14.90</td>\n",
       "      <td>1176700.0</td>\n",
       "      <td>3.951753</td>\n",
       "    </tr>\n",
       "    <tr>\n",
       "      <th>2003-08-15</th>\n",
       "      <td>15.25</td>\n",
       "      <td>14.95</td>\n",
       "      <td>15.00</td>\n",
       "      <td>15.25</td>\n",
       "      <td>259600.0</td>\n",
       "      <td>4.044582</td>\n",
       "    </tr>\n",
       "    <tr>\n",
       "      <th>2003-08-18</th>\n",
       "      <td>15.28</td>\n",
       "      <td>15.20</td>\n",
       "      <td>15.28</td>\n",
       "      <td>15.25</td>\n",
       "      <td>47900.0</td>\n",
       "      <td>4.044582</td>\n",
       "    </tr>\n",
       "  </tbody>\n",
       "</table>\n",
       "</div>"
      ],
      "text/plain": [
       "             High    Low   Open  Close     Volume  Adj Close\n",
       "Date                                                        \n",
       "2003-08-14  15.15  14.65  15.15  14.90  1176700.0   3.951753\n",
       "2003-08-15  15.25  14.95  15.00  15.25   259600.0   4.044582\n",
       "2003-08-18  15.28  15.20  15.28  15.25    47900.0   4.044582"
      ]
     },
     "execution_count": 88,
     "metadata": {},
     "output_type": "execute_result"
    }
   ],
   "source": [
    "stock = data.DataReader(name='GOOD', data_source='yahoo', start=dt.date(2000,1,1), end=dt.datetime.now())\n",
    "stock.head(3)"
   ]
  },
  {
   "cell_type": "code",
   "execution_count": null,
   "metadata": {},
   "outputs": [],
   "source": []
  },
  {
   "cell_type": "code",
   "execution_count": null,
   "metadata": {},
   "outputs": [],
   "source": []
  },
  {
   "cell_type": "code",
   "execution_count": null,
   "metadata": {},
   "outputs": [],
   "source": []
  },
  {
   "cell_type": "code",
   "execution_count": null,
   "metadata": {},
   "outputs": [],
   "source": []
  },
  {
   "cell_type": "code",
   "execution_count": null,
   "metadata": {},
   "outputs": [],
   "source": []
  }
 ],
 "metadata": {
  "kernelspec": {
   "display_name": "Python 3",
   "language": "python",
   "name": "python3"
  },
  "language_info": {
   "codemirror_mode": {
    "name": "ipython",
    "version": 3
   },
   "file_extension": ".py",
   "mimetype": "text/x-python",
   "name": "python",
   "nbconvert_exporter": "python",
   "pygments_lexer": "ipython3",
   "version": "3.6.5"
  }
 },
 "nbformat": 4,
 "nbformat_minor": 2
}
