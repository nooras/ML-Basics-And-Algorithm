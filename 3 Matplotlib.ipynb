{
 "cells": [
  {
   "cell_type": "markdown",
   "metadata": {},
   "source": [
    "# matplotlib\n"
   ]
  },
  {
   "cell_type": "code",
   "execution_count": 1,
   "metadata": {},
   "outputs": [],
   "source": [
    "# Using matplotlib you can create any type of plot to visulaize the data\n",
    "# Grand father library of data visualization along with seaaborn and plotly\n",
    "# It was created by john hunter"
   ]
  },
  {
   "cell_type": "code",
   "execution_count": 2,
   "metadata": {},
   "outputs": [],
   "source": [
    "import matplotlib.pyplot as plt \n",
    "import numpy as np\n",
    "from numpy.random import randint"
   ]
  },
  {
   "cell_type": "code",
   "execution_count": 3,
   "metadata": {},
   "outputs": [],
   "source": [
    "%matplotlib inline        \n",
    "#It will directly show the plot or else we have to show every time show plot "
   ]
  },
  {
   "cell_type": "code",
   "execution_count": 4,
   "metadata": {},
   "outputs": [
    {
     "data": {
      "text/plain": [
       "array([ 1.        ,  1.47368421,  1.94736842,  2.42105263,  2.89473684,\n",
       "        3.36842105,  3.84210526,  4.31578947,  4.78947368,  5.26315789,\n",
       "        5.73684211,  6.21052632,  6.68421053,  7.15789474,  7.63157895,\n",
       "        8.10526316,  8.57894737,  9.05263158,  9.52631579, 10.        ])"
      ]
     },
     "execution_count": 4,
     "metadata": {},
     "output_type": "execute_result"
    }
   ],
   "source": [
    "#x = np.linspace(0,10,20)\n",
    "x = np.linspace(1,10,20)\n",
    "x"
   ]
  },
  {
   "cell_type": "code",
   "execution_count": 5,
   "metadata": {},
   "outputs": [
    {
     "data": {
      "text/plain": [
       "array([35, 45, 48, 29,  4, 19, 15, 32, 24, 13, 32, 42, 13, 11, 28, 13,  4,\n",
       "       48, 12, 44])"
      ]
     },
     "execution_count": 5,
     "metadata": {},
     "output_type": "execute_result"
    }
   ],
   "source": [
    "y = randint(1,50,20)\n",
    "y"
   ]
  },
  {
   "cell_type": "code",
   "execution_count": 6,
   "metadata": {},
   "outputs": [
    {
     "data": {
      "text/plain": [
       "20"
      ]
     },
     "execution_count": 6,
     "metadata": {},
     "output_type": "execute_result"
    }
   ],
   "source": [
    "y.size"
   ]
  },
  {
   "cell_type": "code",
   "execution_count": 7,
   "metadata": {},
   "outputs": [
    {
     "data": {
      "text/plain": [
       "<module 'matplotlib.pyplot' from '/home/ansari/anaconda3/lib/python3.6/site-packages/matplotlib/pyplot.py'>"
      ]
     },
     "execution_count": 7,
     "metadata": {},
     "output_type": "execute_result"
    }
   ],
   "source": [
    "plt"
   ]
  },
  {
   "cell_type": "code",
   "execution_count": 8,
   "metadata": {},
   "outputs": [
    {
     "data": {
      "text/plain": [
       "['Annotation',\n",
       " 'Arrow',\n",
       " 'Artist',\n",
       " 'AutoLocator',\n",
       " 'Axes',\n",
       " 'Button',\n",
       " 'Circle',\n",
       " 'Figure',\n",
       " 'FigureCanvasBase',\n",
       " 'FixedFormatter',\n",
       " 'FixedLocator',\n",
       " 'FormatStrFormatter',\n",
       " 'Formatter',\n",
       " 'FuncFormatter',\n",
       " 'GridSpec',\n",
       " 'IndexLocator',\n",
       " 'Line2D',\n",
       " 'LinearLocator',\n",
       " 'Locator',\n",
       " 'LogFormatter',\n",
       " 'LogFormatterExponent',\n",
       " 'LogFormatterMathtext',\n",
       " 'LogLocator',\n",
       " 'MaxNLocator',\n",
       " 'MultipleLocator',\n",
       " 'Normalize',\n",
       " 'NullFormatter',\n",
       " 'NullLocator',\n",
       " 'PolarAxes',\n",
       " 'Polygon',\n",
       " 'Rectangle',\n",
       " 'ScalarFormatter',\n",
       " 'Slider',\n",
       " 'Subplot',\n",
       " 'SubplotTool',\n",
       " 'Text',\n",
       " 'TickHelper',\n",
       " 'Widget',\n",
       " '_INSTALL_FIG_OBSERVER',\n",
       " '_IP_REGISTERED',\n",
       " '__builtins__',\n",
       " '__cached__',\n",
       " '__doc__',\n",
       " '__file__',\n",
       " '__loader__',\n",
       " '__name__',\n",
       " '__package__',\n",
       " '__spec__',\n",
       " '_auto_draw_if_interactive',\n",
       " '_autogen_docstring',\n",
       " '_backend_mod',\n",
       " '_backend_selection',\n",
       " '_hold_msg',\n",
       " '_imread',\n",
       " '_imsave',\n",
       " '_interactive_bk',\n",
       " '_pylab_helpers',\n",
       " '_setp',\n",
       " '_setup_pyplot_info_docstrings',\n",
       " '_show',\n",
       " '_string_to_bool',\n",
       " 'absolute_import',\n",
       " 'acorr',\n",
       " 'angle_spectrum',\n",
       " 'annotate',\n",
       " 'arrow',\n",
       " 'autoscale',\n",
       " 'autumn',\n",
       " 'axes',\n",
       " 'axhline',\n",
       " 'axhspan',\n",
       " 'axis',\n",
       " 'axvline',\n",
       " 'axvspan',\n",
       " 'bar',\n",
       " 'barbs',\n",
       " 'barh',\n",
       " 'bone',\n",
       " 'box',\n",
       " 'boxplot',\n",
       " 'broken_barh',\n",
       " 'cla',\n",
       " 'clabel',\n",
       " 'clf',\n",
       " 'clim',\n",
       " 'close',\n",
       " 'cm',\n",
       " 'cohere',\n",
       " 'colorbar',\n",
       " 'colormaps',\n",
       " 'colors',\n",
       " 'connect',\n",
       " 'contour',\n",
       " 'contourf',\n",
       " 'cool',\n",
       " 'copper',\n",
       " 'csd',\n",
       " 'cycler',\n",
       " 'dedent',\n",
       " 'delaxes',\n",
       " 'deprecated',\n",
       " 'disconnect',\n",
       " 'division',\n",
       " 'docstring',\n",
       " 'draw',\n",
       " 'draw_all',\n",
       " 'draw_if_interactive',\n",
       " 'errorbar',\n",
       " 'eventplot',\n",
       " 'figaspect',\n",
       " 'figimage',\n",
       " 'figlegend',\n",
       " 'fignum_exists',\n",
       " 'figtext',\n",
       " 'figure',\n",
       " 'fill',\n",
       " 'fill_between',\n",
       " 'fill_betweenx',\n",
       " 'findobj',\n",
       " 'flag',\n",
       " 'gca',\n",
       " 'gcf',\n",
       " 'gci',\n",
       " 'get',\n",
       " 'get_backend',\n",
       " 'get_cmap',\n",
       " 'get_current_fig_manager',\n",
       " 'get_figlabels',\n",
       " 'get_fignums',\n",
       " 'get_plot_commands',\n",
       " 'get_scale_docs',\n",
       " 'get_scale_names',\n",
       " 'getp',\n",
       " 'ginput',\n",
       " 'gray',\n",
       " 'grid',\n",
       " 'hexbin',\n",
       " 'hist',\n",
       " 'hist2d',\n",
       " 'hlines',\n",
       " 'hold',\n",
       " 'hot',\n",
       " 'hsv',\n",
       " 'imread',\n",
       " 'imsave',\n",
       " 'imshow',\n",
       " 'inferno',\n",
       " 'install_repl_displayhook',\n",
       " 'interactive',\n",
       " 'ioff',\n",
       " 'ion',\n",
       " 'is_numlike',\n",
       " 'ishold',\n",
       " 'isinteractive',\n",
       " 'jet',\n",
       " 'legend',\n",
       " 'locator_params',\n",
       " 'loglog',\n",
       " 'magma',\n",
       " 'magnitude_spectrum',\n",
       " 'margins',\n",
       " 'matplotlib',\n",
       " 'matshow',\n",
       " 'minorticks_off',\n",
       " 'minorticks_on',\n",
       " 'mlab',\n",
       " 'new_figure_manager',\n",
       " 'nipy_spectral',\n",
       " 'np',\n",
       " 'over',\n",
       " 'pause',\n",
       " 'pcolor',\n",
       " 'pcolormesh',\n",
       " 'phase_spectrum',\n",
       " 'pie',\n",
       " 'pink',\n",
       " 'plasma',\n",
       " 'plot',\n",
       " 'plot_date',\n",
       " 'plotfile',\n",
       " 'plotting',\n",
       " 'polar',\n",
       " 'print_function',\n",
       " 'prism',\n",
       " 'psd',\n",
       " 'pylab_setup',\n",
       " 'quiver',\n",
       " 'quiverkey',\n",
       " 'rc',\n",
       " 'rcParams',\n",
       " 'rcParamsDefault',\n",
       " 'rc_context',\n",
       " 'rcdefaults',\n",
       " 'register_cmap',\n",
       " 'rgrids',\n",
       " 'savefig',\n",
       " 'sca',\n",
       " 'scatter',\n",
       " 'sci',\n",
       " 'semilogx',\n",
       " 'semilogy',\n",
       " 'set_cmap',\n",
       " 'setp',\n",
       " 'show',\n",
       " 'silent_list',\n",
       " 'six',\n",
       " 'specgram',\n",
       " 'spectral',\n",
       " 'spring',\n",
       " 'spy',\n",
       " 'stackplot',\n",
       " 'stem',\n",
       " 'step',\n",
       " 'streamplot',\n",
       " 'style',\n",
       " 'subplot',\n",
       " 'subplot2grid',\n",
       " 'subplot_tool',\n",
       " 'subplots',\n",
       " 'subplots_adjust',\n",
       " 'summer',\n",
       " 'suptitle',\n",
       " 'switch_backend',\n",
       " 'sys',\n",
       " 'table',\n",
       " 'text',\n",
       " 'thetagrids',\n",
       " 'tick_params',\n",
       " 'ticklabel_format',\n",
       " 'tight_layout',\n",
       " 'time',\n",
       " 'title',\n",
       " 'tricontour',\n",
       " 'tricontourf',\n",
       " 'tripcolor',\n",
       " 'triplot',\n",
       " 'twinx',\n",
       " 'twiny',\n",
       " 'unicode_literals',\n",
       " 'uninstall_repl_displayhook',\n",
       " 'violinplot',\n",
       " 'viridis',\n",
       " 'vlines',\n",
       " 'waitforbuttonpress',\n",
       " 'warn_deprecated',\n",
       " 'warnings',\n",
       " 'winter',\n",
       " 'xcorr',\n",
       " 'xkcd',\n",
       " 'xlabel',\n",
       " 'xlim',\n",
       " 'xscale',\n",
       " 'xticks',\n",
       " 'ylabel',\n",
       " 'ylim',\n",
       " 'yscale',\n",
       " 'yticks']"
      ]
     },
     "execution_count": 8,
     "metadata": {},
     "output_type": "execute_result"
    }
   ],
   "source": [
    "dir(plt)"
   ]
  },
  {
   "cell_type": "markdown",
   "metadata": {},
   "source": [
    "# plot"
   ]
  },
  {
   "cell_type": "code",
   "execution_count": 9,
   "metadata": {},
   "outputs": [
    {
     "data": {
      "text/plain": [
       "[<matplotlib.lines.Line2D at 0x7fe8fded9d30>]"
      ]
     },
     "execution_count": 9,
     "metadata": {},
     "output_type": "execute_result"
    },
    {
     "data": {
      "image/png": "[encoded data removed]",
      "text/plain": [
       "<Figure size 432x288 with 1 Axes>"
      ]
     },
     "metadata": {},
     "output_type": "display_data"
    }
   ],
   "source": [
    "plt.plot(y)"
   ]
  },
  {
   "cell_type": "code",
   "execution_count": 10,
   "metadata": {},
   "outputs": [
    {
     "data": {
      "text/plain": [
       "array([35, 45, 48, 29,  4, 19, 15, 32, 24, 13, 32, 42, 13, 11, 28, 13,  4,\n",
       "       48, 12, 44])"
      ]
     },
     "execution_count": 10,
     "metadata": {},
     "output_type": "execute_result"
    }
   ],
   "source": [
    "y"
   ]
  },
  {
   "cell_type": "code",
   "execution_count": 11,
   "metadata": {},
   "outputs": [],
   "source": [
    "y = np.sort(y)"
   ]
  },
  {
   "cell_type": "code",
   "execution_count": 12,
   "metadata": {},
   "outputs": [
    {
     "data": {
      "text/plain": [
       "array([ 4,  4, 11, 12, 13, 13, 13, 15, 19, 24, 28, 29, 32, 32, 35, 42, 44,\n",
       "       45, 48, 48])"
      ]
     },
     "execution_count": 12,
     "metadata": {},
     "output_type": "execute_result"
    }
   ],
   "source": [
    "y"
   ]
  },
  {
   "cell_type": "code",
   "execution_count": 13,
   "metadata": {},
   "outputs": [
    {
     "data": {
      "text/plain": [
       "[<matplotlib.lines.Line2D at 0x7fe8fdded400>]"
      ]
     },
     "execution_count": 13,
     "metadata": {},
     "output_type": "execute_result"
    },
    {
     "data": {
      "image/png": "[encoded data removed]",
      "text/plain": [
       "<Figure size 432x288 with 1 Axes>"
      ]
     },
     "metadata": {},
     "output_type": "display_data"
    }
   ],
   "source": [
    "plt.plot(y)"
   ]
  },
  {
   "cell_type": "code",
   "execution_count": 14,
   "metadata": {},
   "outputs": [
    {
     "data": {
      "text/plain": [
       "[<matplotlib.lines.Line2D at 0x7fe8fddce630>]"
      ]
     },
     "execution_count": 14,
     "metadata": {},
     "output_type": "execute_result"
    },
    {
     "data": {
      "image/png": "[encoded data removed]",
      "text/plain": [
       "<Figure size 432x288 with 1 Axes>"
      ]
     },
     "metadata": {},
     "output_type": "display_data"
    }
   ],
   "source": [
    "plt.plot(x,y)"
   ]
  },
  {
   "cell_type": "code",
   "execution_count": 15,
   "metadata": {},
   "outputs": [
    {
     "data": {
      "text/plain": [
       "Text(0.5,1,'Plot x and y')"
      ]
     },
     "execution_count": 15,
     "metadata": {},
     "output_type": "execute_result"
    },
    {
     "data": {
      "image/png": "[encoded data removed]",
      "text/plain": [
       "<Figure size 432x288 with 1 Axes>"
      ]
     },
     "metadata": {},
     "output_type": "display_data"
    }
   ],
   "source": [
    "plt.plot( x , y , color = 'r')\n",
    "plt.xlabel(\"X axis\")\n",
    "plt.ylabel(\"Y axis\")\n",
    "plt.title(\"Plot x and y\")\n"
   ]
  },
  {
   "cell_type": "code",
   "execution_count": 16,
   "metadata": {},
   "outputs": [],
   "source": [
    "y2 = x*y"
   ]
  },
  {
   "cell_type": "markdown",
   "metadata": {},
   "source": [
    "# subplot"
   ]
  },
  {
   "cell_type": "code",
   "execution_count": 17,
   "metadata": {},
   "outputs": [
    {
     "data": {
      "text/plain": [
       "[<matplotlib.lines.Line2D at 0x7fe8fdd00048>]"
      ]
     },
     "execution_count": 17,
     "metadata": {},
     "output_type": "execute_result"
    },
    {
     "data": {
      "image/png": "[encoded data removed]",
      "text/plain": [
       "<Figure size 432x288 with 2 Axes>"
      ]
     },
     "metadata": {},
     "output_type": "display_data"
    }
   ],
   "source": [
    "plt.subplot(1,2,1)\n",
    "plt.plot( x , y , 'ro-', markersize = 15) #r is color ,o is marker and - is line\n",
    "plt.subplot(1,2,2)\n",
    "plt.plot(x,y2,'g*--')"
   ]
  },
  {
   "cell_type": "markdown",
   "metadata": {},
   "source": [
    "# matlab vs matplotlib"
   ]
  },
  {
   "cell_type": "code",
   "execution_count": 18,
   "metadata": {},
   "outputs": [],
   "source": [
    "# Object oriented method - matplotlib"
   ]
  },
  {
   "cell_type": "code",
   "execution_count": 19,
   "metadata": {},
   "outputs": [
    {
     "data": {
      "text/plain": [
       "Text(0.5,1,'Plot X Y')"
      ]
     },
     "execution_count": 19,
     "metadata": {},
     "output_type": "execute_result"
    },
    {
     "data": {
      "image/png": "[encoded data removed]",
      "text/plain": [
       "<Figure size 432x288 with 1 Axes>"
      ]
     },
     "metadata": {},
     "output_type": "display_data"
    }
   ],
   "source": [
    "fig = plt.figure()\n",
    "axes = fig.add_axes([0.1,0.1,1,1])\n",
    "\n",
    "axes.plot(x,y,'r')\n",
    "axes.set_xlabel(\"X\")\n",
    "axes.set_ylabel(\"Y\")\n",
    "axes.set_title(\"Plot X Y\")"
   ]
  },
  {
   "cell_type": "code",
   "execution_count": 20,
   "metadata": {},
   "outputs": [
    {
     "data": {
      "text/plain": [
       "['__class__',\n",
       " '__delattr__',\n",
       " '__dict__',\n",
       " '__dir__',\n",
       " '__doc__',\n",
       " '__eq__',\n",
       " '__format__',\n",
       " '__ge__',\n",
       " '__getattribute__',\n",
       " '__getstate__',\n",
       " '__gt__',\n",
       " '__hash__',\n",
       " '__init__',\n",
       " '__init_subclass__',\n",
       " '__le__',\n",
       " '__lt__',\n",
       " '__module__',\n",
       " '__ne__',\n",
       " '__new__',\n",
       " '__reduce__',\n",
       " '__reduce_ex__',\n",
       " '__repr__',\n",
       " '__setattr__',\n",
       " '__setstate__',\n",
       " '__sizeof__',\n",
       " '__str__',\n",
       " '__subclasshook__',\n",
       " '__weakref__',\n",
       " '_add_text',\n",
       " '_adjustable',\n",
       " '_agg_filter',\n",
       " '_alpha',\n",
       " '_anchor',\n",
       " '_animated',\n",
       " '_aspect',\n",
       " '_autoscaleXon',\n",
       " '_autoscaleYon',\n",
       " '_axes',\n",
       " '_axes_locator',\n",
       " '_axisbelow',\n",
       " '_cachedRenderer',\n",
       " '_clipon',\n",
       " '_clippath',\n",
       " '_connected',\n",
       " '_contains',\n",
       " '_current_image',\n",
       " '_facecolor',\n",
       " '_frameon',\n",
       " '_gci',\n",
       " '_gen_axes_patch',\n",
       " '_gen_axes_spines',\n",
       " '_get_axis_list',\n",
       " '_get_lines',\n",
       " '_get_patches_for_fill',\n",
       " '_get_view',\n",
       " '_gid',\n",
       " '_gridOn',\n",
       " '_hold',\n",
       " '_init_axis',\n",
       " '_label',\n",
       " '_layoutbox',\n",
       " '_left_title',\n",
       " '_make_twin_axes',\n",
       " '_mouseover',\n",
       " '_navigate',\n",
       " '_navigate_mode',\n",
       " '_oid',\n",
       " '_on_units_changed',\n",
       " '_originalPosition',\n",
       " '_path_effects',\n",
       " '_pcolorargs',\n",
       " '_picker',\n",
       " '_position',\n",
       " '_poslayoutbox',\n",
       " '_process_unit_info',\n",
       " '_prop_order',\n",
       " '_propobservers',\n",
       " '_quiver_units',\n",
       " '_rasterization_zorder',\n",
       " '_rasterized',\n",
       " '_remove_method',\n",
       " '_right_title',\n",
       " '_sci',\n",
       " '_set_artist_props',\n",
       " '_set_gc_clip',\n",
       " '_set_lim_and_transforms',\n",
       " '_set_position',\n",
       " '_set_title_offset_trans',\n",
       " '_set_view',\n",
       " '_set_view_from_bbox',\n",
       " '_shared_x_axes',\n",
       " '_shared_y_axes',\n",
       " '_sharex',\n",
       " '_sharey',\n",
       " '_sketch',\n",
       " '_snap',\n",
       " '_stale',\n",
       " '_sticky_edges',\n",
       " '_tight',\n",
       " '_transform',\n",
       " '_transformSet',\n",
       " '_twinned_axes',\n",
       " '_update_image_limits',\n",
       " '_update_line_limits',\n",
       " '_update_patch_limits',\n",
       " '_update_transScale',\n",
       " '_url',\n",
       " '_use_sticky_edges',\n",
       " '_validate_converted_limits',\n",
       " '_visible',\n",
       " '_xaxis_transform',\n",
       " '_xcid',\n",
       " '_xmargin',\n",
       " '_yaxis_transform',\n",
       " '_ycid',\n",
       " '_ymargin',\n",
       " 'acorr',\n",
       " 'add_artist',\n",
       " 'add_callback',\n",
       " 'add_collection',\n",
       " 'add_container',\n",
       " 'add_image',\n",
       " 'add_line',\n",
       " 'add_patch',\n",
       " 'add_table',\n",
       " 'aname',\n",
       " 'angle_spectrum',\n",
       " 'annotate',\n",
       " 'apply_aspect',\n",
       " 'arrow',\n",
       " 'artists',\n",
       " 'autoscale',\n",
       " 'autoscale_view',\n",
       " 'axes',\n",
       " 'axesPatch',\n",
       " 'axhline',\n",
       " 'axhspan',\n",
       " 'axis',\n",
       " 'axison',\n",
       " 'axvline',\n",
       " 'axvspan',\n",
       " 'bar',\n",
       " 'barbs',\n",
       " 'barh',\n",
       " 'bbox',\n",
       " 'boxplot',\n",
       " 'broken_barh',\n",
       " 'bxp',\n",
       " 'callbacks',\n",
       " 'can_pan',\n",
       " 'can_zoom',\n",
       " 'cla',\n",
       " 'clabel',\n",
       " 'clear',\n",
       " 'clipbox',\n",
       " 'cohere',\n",
       " 'collections',\n",
       " 'containers',\n",
       " 'contains',\n",
       " 'contains_point',\n",
       " 'contour',\n",
       " 'contourf',\n",
       " 'convert_xunits',\n",
       " 'convert_yunits',\n",
       " 'csd',\n",
       " 'dataLim',\n",
       " 'drag_pan',\n",
       " 'draw',\n",
       " 'draw_artist',\n",
       " 'end_pan',\n",
       " 'errorbar',\n",
       " 'eventplot',\n",
       " 'eventson',\n",
       " 'figure',\n",
       " 'fill',\n",
       " 'fill_between',\n",
       " 'fill_betweenx',\n",
       " 'findobj',\n",
       " 'fmt_xdata',\n",
       " 'fmt_ydata',\n",
       " 'format_coord',\n",
       " 'format_cursor_data',\n",
       " 'format_xdata',\n",
       " 'format_ydata',\n",
       " 'get_adjustable',\n",
       " 'get_agg_filter',\n",
       " 'get_alpha',\n",
       " 'get_anchor',\n",
       " 'get_animated',\n",
       " 'get_aspect',\n",
       " 'get_autoscale_on',\n",
       " 'get_autoscalex_on',\n",
       " 'get_autoscaley_on',\n",
       " 'get_axes_locator',\n",
       " 'get_axisbelow',\n",
       " 'get_children',\n",
       " 'get_clip_box',\n",
       " 'get_clip_on',\n",
       " 'get_clip_path',\n",
       " 'get_contains',\n",
       " 'get_cursor_data',\n",
       " 'get_cursor_props',\n",
       " 'get_data_ratio',\n",
       " 'get_data_ratio_log',\n",
       " 'get_default_bbox_extra_artists',\n",
       " 'get_facecolor',\n",
       " 'get_fc',\n",
       " 'get_figure',\n",
       " 'get_frame_on',\n",
       " 'get_gid',\n",
       " 'get_images',\n",
       " 'get_label',\n",
       " 'get_legend',\n",
       " 'get_legend_handles_labels',\n",
       " 'get_lines',\n",
       " 'get_navigate',\n",
       " 'get_navigate_mode',\n",
       " 'get_path_effects',\n",
       " 'get_picker',\n",
       " 'get_position',\n",
       " 'get_rasterization_zorder',\n",
       " 'get_rasterized',\n",
       " 'get_renderer_cache',\n",
       " 'get_shared_x_axes',\n",
       " 'get_shared_y_axes',\n",
       " 'get_sketch_params',\n",
       " 'get_snap',\n",
       " 'get_tightbbox',\n",
       " 'get_title',\n",
       " 'get_transform',\n",
       " 'get_transformed_clip_path_and_affine',\n",
       " 'get_url',\n",
       " 'get_visible',\n",
       " 'get_window_extent',\n",
       " 'get_xaxis',\n",
       " 'get_xaxis_text1_transform',\n",
       " 'get_xaxis_text2_transform',\n",
       " 'get_xaxis_transform',\n",
       " 'get_xbound',\n",
       " 'get_xgridlines',\n",
       " 'get_xlabel',\n",
       " 'get_xlim',\n",
       " 'get_xmajorticklabels',\n",
       " 'get_xminorticklabels',\n",
       " 'get_xscale',\n",
       " 'get_xticklabels',\n",
       " 'get_xticklines',\n",
       " 'get_xticks',\n",
       " 'get_yaxis',\n",
       " 'get_yaxis_text1_transform',\n",
       " 'get_yaxis_text2_transform',\n",
       " 'get_yaxis_transform',\n",
       " 'get_ybound',\n",
       " 'get_ygridlines',\n",
       " 'get_ylabel',\n",
       " 'get_ylim',\n",
       " 'get_ymajorticklabels',\n",
       " 'get_yminorticklabels',\n",
       " 'get_yscale',\n",
       " 'get_yticklabels',\n",
       " 'get_yticklines',\n",
       " 'get_yticks',\n",
       " 'get_zorder',\n",
       " 'grid',\n",
       " 'has_data',\n",
       " 'have_units',\n",
       " 'hexbin',\n",
       " 'hist',\n",
       " 'hist2d',\n",
       " 'hitlist',\n",
       " 'hlines',\n",
       " 'hold',\n",
       " 'ignore_existing_data_limits',\n",
       " 'images',\n",
       " 'imshow',\n",
       " 'in_axes',\n",
       " 'invert_xaxis',\n",
       " 'invert_yaxis',\n",
       " 'is_figure_set',\n",
       " 'is_transform_set',\n",
       " 'ishold',\n",
       " 'legend',\n",
       " 'legend_',\n",
       " 'lines',\n",
       " 'locator_params',\n",
       " 'loglog',\n",
       " 'magnitude_spectrum',\n",
       " 'margins',\n",
       " 'matshow',\n",
       " 'minorticks_off',\n",
       " 'minorticks_on',\n",
       " 'mouseover',\n",
       " 'mouseover_set',\n",
       " 'name',\n",
       " 'patch',\n",
       " 'patches',\n",
       " 'pchanged',\n",
       " 'pcolor',\n",
       " 'pcolorfast',\n",
       " 'pcolormesh',\n",
       " 'phase_spectrum',\n",
       " 'pick',\n",
       " 'pickable',\n",
       " 'pie',\n",
       " 'plot',\n",
       " 'plot_date',\n",
       " 'properties',\n",
       " 'psd',\n",
       " 'quiver',\n",
       " 'quiverkey',\n",
       " 'redraw_in_frame',\n",
       " 'relim',\n",
       " 'remove',\n",
       " 'remove_callback',\n",
       " 'reset_position',\n",
       " 'scatter',\n",
       " 'semilogx',\n",
       " 'semilogy',\n",
       " 'set',\n",
       " 'set_adjustable',\n",
       " 'set_agg_filter',\n",
       " 'set_alpha',\n",
       " 'set_anchor',\n",
       " 'set_animated',\n",
       " 'set_aspect',\n",
       " 'set_autoscale_on',\n",
       " 'set_autoscalex_on',\n",
       " 'set_autoscaley_on',\n",
       " 'set_axes_locator',\n",
       " 'set_axis_off',\n",
       " 'set_axis_on',\n",
       " 'set_axisbelow',\n",
       " 'set_clip_box',\n",
       " 'set_clip_on',\n",
       " 'set_clip_path',\n",
       " 'set_color_cycle',\n",
       " 'set_contains',\n",
       " 'set_cursor_props',\n",
       " 'set_facecolor',\n",
       " 'set_fc',\n",
       " 'set_figure',\n",
       " 'set_frame_on',\n",
       " 'set_gid',\n",
       " 'set_label',\n",
       " 'set_navigate',\n",
       " 'set_navigate_mode',\n",
       " 'set_path_effects',\n",
       " 'set_picker',\n",
       " 'set_position',\n",
       " 'set_prop_cycle',\n",
       " 'set_rasterization_zorder',\n",
       " 'set_rasterized',\n",
       " 'set_sketch_params',\n",
       " 'set_snap',\n",
       " 'set_title',\n",
       " 'set_transform',\n",
       " 'set_url',\n",
       " 'set_visible',\n",
       " 'set_xbound',\n",
       " 'set_xlabel',\n",
       " 'set_xlim',\n",
       " 'set_xmargin',\n",
       " 'set_xscale',\n",
       " 'set_xticklabels',\n",
       " 'set_xticks',\n",
       " 'set_ybound',\n",
       " 'set_ylabel',\n",
       " 'set_ylim',\n",
       " 'set_ymargin',\n",
       " 'set_yscale',\n",
       " 'set_yticklabels',\n",
       " 'set_yticks',\n",
       " 'set_zorder',\n",
       " 'specgram',\n",
       " 'spines',\n",
       " 'spy',\n",
       " 'stackplot',\n",
       " 'stale',\n",
       " 'stale_callback',\n",
       " 'start_pan',\n",
       " 'stem',\n",
       " 'step',\n",
       " 'sticky_edges',\n",
       " 'streamplot',\n",
       " 'table',\n",
       " 'tables',\n",
       " 'text',\n",
       " 'texts',\n",
       " 'tick_params',\n",
       " 'ticklabel_format',\n",
       " 'title',\n",
       " 'titleOffsetTrans',\n",
       " 'transAxes',\n",
       " 'transData',\n",
       " 'transLimits',\n",
       " 'transScale',\n",
       " 'tricontour',\n",
       " 'tricontourf',\n",
       " 'tripcolor',\n",
       " 'triplot',\n",
       " 'twinx',\n",
       " 'twiny',\n",
       " 'update',\n",
       " 'update_datalim',\n",
       " 'update_datalim_bounds',\n",
       " 'update_from',\n",
       " 'use_sticky_edges',\n",
       " 'viewLim',\n",
       " 'violin',\n",
       " 'violinplot',\n",
       " 'vlines',\n",
       " 'xaxis',\n",
       " 'xaxis_date',\n",
       " 'xaxis_inverted',\n",
       " 'xcorr',\n",
       " 'yaxis',\n",
       " 'yaxis_date',\n",
       " 'yaxis_inverted',\n",
       " 'zorder']"
      ]
     },
     "execution_count": 20,
     "metadata": {},
     "output_type": "execute_result"
    }
   ],
   "source": [
    "dir(axes)"
   ]
  },
  {
   "cell_type": "code",
   "execution_count": 21,
   "metadata": {},
   "outputs": [
    {
     "data": {
      "text/plain": [
       "Text(0.5,1,'X x Y2')"
      ]
     },
     "execution_count": 21,
     "metadata": {},
     "output_type": "execute_result"
    },
    {
     "data": {
      "image/png": "[encoded data removed]",
      "text/plain": [
       "<Figure size 432x288 with 2 Axes>"
      ]
     },
     "metadata": {},
     "output_type": "display_data"
    }
   ],
   "source": [
    "fig = plt.figure()\n",
    "axes1 = fig.add_axes([0,0,1,1])\n",
    "axes2 = fig.add_axes([0.1,0.6,0.4,0.3])\n",
    "axes1.plot(x,y,'r')\n",
    "axes1.set_xlabel(\"X\")\n",
    "axes1.set_ylabel(\"Y\")\n",
    "axes1.set_title(\"X x Y\")\n",
    "\n",
    "axes2.plot(x,y2,'g')\n",
    "axes2.set_xlabel(\"X\")\n",
    "axes2.set_ylabel(\"Y2\")\n",
    "axes2.set_title(\"X x Y2\")"
   ]
  },
  {
   "cell_type": "markdown",
   "metadata": {},
   "source": [
    "# subplots"
   ]
  },
  {
   "cell_type": "code",
   "execution_count": 22,
   "metadata": {},
   "outputs": [],
   "source": [
    "#plot.subplot()\n",
    "#plot.subplots()"
   ]
  },
  {
   "cell_type": "code",
   "execution_count": 23,
   "metadata": {},
   "outputs": [
    {
     "data": {
      "text/plain": [
       "[<matplotlib.lines.Line2D at 0x7fe8fd9f25c0>]"
      ]
     },
     "execution_count": 23,
     "metadata": {},
     "output_type": "execute_result"
    },
    {
     "data": {
      "image/png": "[encoded data removed]",
      "text/plain": [
       "<Figure size 432x288 with 2 Axes>"
      ]
     },
     "metadata": {},
     "output_type": "display_data"
    }
   ],
   "source": [
    "fig,ax = plt.subplots(1,2)   #object\n",
    "ax[0].plot( x, y, 'b')\n",
    "ax[1].plot( x, y, 'g')"
   ]
  },
  {
   "cell_type": "code",
   "execution_count": 24,
   "metadata": {},
   "outputs": [
    {
     "data": {
      "image/png": "[encoded data removed]",
      "text/plain": [
       "<Figure size 432x288 with 2 Axes>"
      ]
     },
     "execution_count": 24,
     "metadata": {},
     "output_type": "execute_result"
    }
   ],
   "source": [
    "fig"
   ]
  },
  {
   "cell_type": "code",
   "execution_count": 25,
   "metadata": {},
   "outputs": [
    {
     "data": {
      "text/plain": [
       "array([<matplotlib.axes._subplots.AxesSubplot object at 0x7fe8fdb42a20>,\n",
       "       <matplotlib.axes._subplots.AxesSubplot object at 0x7fe8fdae7f28>],\n",
       "      dtype=object)"
      ]
     },
     "execution_count": 25,
     "metadata": {},
     "output_type": "execute_result"
    }
   ],
   "source": [
    "ax"
   ]
  },
  {
   "cell_type": "code",
   "execution_count": 26,
   "metadata": {},
   "outputs": [
    {
     "data": {
      "image/png": "[encoded data removed]",
      "text/plain": [
       "<Figure size 432x288 with 2 Axes>"
      ]
     },
     "metadata": {},
     "output_type": "display_data"
    }
   ],
   "source": [
    "fig,ax = plt.subplots(1,2)   #object\n",
    "for axes in ax:\n",
    "    axes.plot(x,y,'c')"
   ]
  },
  {
   "cell_type": "code",
   "execution_count": 27,
   "metadata": {},
   "outputs": [
    {
     "data": {
      "image/png": "[encoded data removed]",
      "text/plain": [
       "<Figure size 432x288 with 2 Axes>"
      ]
     },
     "metadata": {},
     "output_type": "display_data"
    }
   ],
   "source": [
    "fig,ax = plt.subplots(1,2)   #object\n",
    "col = ['r','c']\n",
    "data = [y,y2]\n",
    "ylab = ['Y','Y2']\n",
    "for i,axes in enumerate(ax):\n",
    "    axes.plot(x,data[i],col[i])\n",
    "    axes.set_xlabel('X')\n",
    "    axes.set_ylabel(ylab[i])\n",
    "    axes.set_title('X x ' + ylab[i])\n",
    "fig.tight_layout() #Adjust the layout"
   ]
  },
  {
   "cell_type": "markdown",
   "metadata": {},
   "source": [
    "# change figure size"
   ]
  },
  {
   "cell_type": "code",
   "execution_count": 28,
   "metadata": {},
   "outputs": [
    {
     "data": {
      "text/plain": [
       "Text(0.5,1,'Random Number Plot')"
      ]
     },
     "execution_count": 28,
     "metadata": {},
     "output_type": "execute_result"
    },
    {
     "data": {
      "image/png": "[encoded data removed]",
      "text/plain": [
       "<Figure size 720x720 with 1 Axes>"
      ]
     },
     "metadata": {},
     "output_type": "display_data"
    }
   ],
   "source": [
    "fig,ax = plt.subplots(figsize=(10,10))\n",
    "ax.plot(x,y,'c+-',label = 'X x Y', markersize = 12, linewidth = 0.5)\n",
    "ax.plot(x,y2,'r*-',label = 'X x Y2', markersize = 12)\n",
    "ax.plot(x,y2*2,'go--',label = 'X x Y2*2', markersize = 12)\n",
    "ax.set_xlabel('X')\n",
    "ax.set_ylabel('Y')\n",
    "ax.legend(loc=0)\n",
    "ax.set_title('Random Number Plot')\n",
    "#fig.savefig('random plt.png' , dpi = 100)"
   ]
  },
  {
   "cell_type": "markdown",
   "metadata": {},
   "source": [
    "# plot range"
   ]
  },
  {
   "cell_type": "code",
   "execution_count": 29,
   "metadata": {},
   "outputs": [
    {
     "data": {
      "text/plain": [
       "(1, 8)"
      ]
     },
     "execution_count": 29,
     "metadata": {},
     "output_type": "execute_result"
    },
    {
     "data": {
      "image/png": "[encoded data removed]",
      "text/plain": [
       "<Figure size 864x288 with 3 Axes>"
      ]
     },
     "metadata": {},
     "output_type": "display_data"
    }
   ],
   "source": [
    "fig,ax2 = plt.subplots(1,3, figsize=(12,4))\n",
    "ax2[0].plot(x,y,x,y2) #simultaneously 2 plot\n",
    "\n",
    "ax2[1].plot(x,y**2,'k')\n",
    "ax2[1].set_ylim([0,500]) #Y limit\n",
    "\n",
    "ax2[2].plot(x,y,x,y2)\n",
    "ax2[2].set_ylim([0,100])\n",
    "ax2[2].set_xlim([1,8])\n"
   ]
  },
  {
   "cell_type": "code",
   "execution_count": 30,
   "metadata": {},
   "outputs": [
    {
     "data": {
      "text/plain": [
       "<matplotlib.collections.PathCollection at 0x7fe8fd7b7c50>"
      ]
     },
     "execution_count": 30,
     "metadata": {},
     "output_type": "execute_result"
    },
    {
     "data": {
      "image/png": "[encoded data removed]",
      "text/plain": [
       "<Figure size 432x288 with 1 Axes>"
      ]
     },
     "metadata": {},
     "output_type": "display_data"
    }
   ],
   "source": [
    "plt.scatter(x,y)"
   ]
  },
  {
   "cell_type": "code",
   "execution_count": 36,
   "metadata": {},
   "outputs": [
    {
     "data": {
      "text/plain": [
       "<BarContainer object of 20 artists>"
      ]
     },
     "execution_count": 36,
     "metadata": {},
     "output_type": "execute_result"
    },
    {
     "data": {
      "image/png": "[encoded data removed]",
      "text/plain": [
       "<Figure size 432x288 with 1 Axes>"
      ]
     },
     "metadata": {},
     "output_type": "display_data"
    }
   ],
   "source": [
    "plt.bar(y,height=10,width=0.5)"
   ]
  },
  {
   "cell_type": "code",
   "execution_count": 37,
   "metadata": {},
   "outputs": [],
   "source": [
    "from random import sample"
   ]
  },
  {
   "cell_type": "code",
   "execution_count": 39,
   "metadata": {},
   "outputs": [
    {
     "data": {
      "text/plain": [
       "[8611, 5038, 260, 3549, 3515, 3514, 2570, 3367, 733, 8465]"
      ]
     },
     "execution_count": 39,
     "metadata": {},
     "output_type": "execute_result"
    }
   ],
   "source": [
    "data = sample(range(1,10000),10)\n",
    "data"
   ]
  },
  {
   "cell_type": "markdown",
   "metadata": {},
   "source": [
    "# histogram"
   ]
  },
  {
   "cell_type": "code",
   "execution_count": 40,
   "metadata": {},
   "outputs": [
    {
     "data": {
      "text/plain": [
       "(array([2., 0., 1., 4., 0., 1., 0., 0., 0., 2.]),\n",
       " array([ 260. , 1095.1, 1930.2, 2765.3, 3600.4, 4435.5, 5270.6, 6105.7,\n",
       "        6940.8, 7775.9, 8611. ]),\n",
       " <a list of 10 Patch objects>)"
      ]
     },
     "execution_count": 40,
     "metadata": {},
     "output_type": "execute_result"
    },
    {
     "data": {
      "image/png": "[encoded data removed]",
      "text/plain": [
       "<Figure size 432x288 with 1 Axes>"
      ]
     },
     "metadata": {},
     "output_type": "display_data"
    }
   ],
   "source": [
    "plt.hist(data)"
   ]
  },
  {
   "cell_type": "code",
   "execution_count": 50,
   "metadata": {},
   "outputs": [
    {
     "data": {
      "text/plain": [
       "[array([-1.03452745, -0.37777329,  0.34472122,  0.25372365, -0.09386784,\n",
       "        -1.39950395,  1.56381862, -0.62009854,  0.87587717,  0.47020521,\n",
       "         1.19959277,  0.76858326,  1.14024676,  0.07102307,  1.46579849,\n",
       "        -0.75051555,  0.99048414, -1.19294874, -1.13454534, -0.03996797,\n",
       "         0.88497993,  1.12479747, -0.34669983, -1.61464499,  0.64062418,\n",
       "        -0.47500955,  1.07644673, -0.69357694,  0.35610463,  2.2728458 ,\n",
       "        -1.63519863, -0.30173329, -0.37627956, -0.88672612, -0.5716703 ,\n",
       "         0.64189632,  0.81685035, -0.18439344, -0.6051466 ,  0.70374925,\n",
       "        -1.32705621,  0.0565441 , -0.66989503, -0.31600679,  1.10333139,\n",
       "        -0.75911727,  0.51432077,  1.44008331, -0.43116109, -1.67316288,\n",
       "        -0.5343898 ,  0.59620278, -1.64427611, -2.12039581, -0.25867797,\n",
       "        -1.85535475, -0.15919983, -1.00168169, -0.20786024,  0.38054434,\n",
       "         0.22599765, -0.10048075, -0.70535299,  1.07159739, -0.55619068,\n",
       "         1.24352842,  0.89579078,  0.84186027, -0.01434852,  1.33338131,\n",
       "        -0.72090446, -0.30792269,  0.39203183,  0.55372603,  0.34322209,\n",
       "        -0.57375334,  0.02274151, -0.15705489, -0.05263191,  0.15161926,\n",
       "         0.54077968,  0.08860989, -0.60803908,  0.19483158, -0.00294388,\n",
       "         0.50148978,  0.84928596, -0.23154495,  1.21544958, -1.59912227,\n",
       "         0.91572086, -1.16148942, -1.41553949,  1.0249942 ,  2.21931316,\n",
       "         1.74036385,  0.03441548, -1.4477888 , -0.82979538, -0.6830597 ]),\n",
       " array([-1.04763061,  1.08283885, -3.84958573,  2.02077209,  1.80075608,\n",
       "        -3.12970811,  0.12159531, -2.71477653, -4.03145938,  1.84924578,\n",
       "         2.21811439,  1.40953697, -3.25304831, -4.81929469,  1.33500135,\n",
       "         1.55824643, -2.67844542,  3.294339  , -1.33067602,  2.10354725,\n",
       "        -0.27497768, -0.07358258,  0.48609572, -3.11660207, -2.47847242,\n",
       "         1.96671436,  2.00221236,  3.98350323, -2.45965794, -0.70795362,\n",
       "         2.0955442 ,  0.61542605, -3.56535363, -0.17742442, -5.15510437,\n",
       "         2.21824482,  0.99109013,  4.08214004, -0.72348784, -1.96494832,\n",
       "        -2.07182073, -2.14914811,  0.21076967,  3.51023346,  2.29355993,\n",
       "         0.19411344,  0.13804615, -0.51404901, -3.02000812,  0.24218079,\n",
       "         2.78513722, -1.89082413, -0.70653469, -1.09467017, -1.80521385,\n",
       "         3.23705847,  0.99677213,  0.63450494,  1.8795995 , -0.8818969 ,\n",
       "        -0.13953792,  1.58493119, -1.59829681,  1.19967328,  0.20088493,\n",
       "        -1.05141008, -0.50902971,  0.01716044, -2.91046227, -0.26639484,\n",
       "        -3.76025182,  0.16253258,  4.36700741, -1.40973656,  0.39352736,\n",
       "        -0.02056023, -0.58962458,  3.43922135,  0.33451126, -0.93530582,\n",
       "        -0.32918575, -1.91502792, -1.49968049,  1.58409257, -0.5278548 ,\n",
       "        -1.0402563 ,  4.75621952,  2.72706439,  0.28265537,  1.03705648,\n",
       "        -2.48475128, -2.0926396 ,  2.01359337, -1.16630499,  1.17159528,\n",
       "        -0.84481095,  2.1081214 ,  0.03692987, -3.11502478, -0.06147944]),\n",
       " array([-3.96927318,  1.39868033, -0.95290363,  9.19121548, -3.42181127,\n",
       "         0.22907825,  4.32353047,  1.01022025, -1.53322297, -3.30984334,\n",
       "        -2.75866078,  1.14673603, -1.52793068, -6.5065096 , -3.42682978,\n",
       "         3.36690185,  2.1291213 , -2.64155869, -4.10060419, -1.63408973,\n",
       "        -0.10972117,  2.98394115,  1.94796119, -1.15367409,  2.5824978 ,\n",
       "        -3.04207654,  0.19547874, -2.22841198, -0.52935222, -4.34551821,\n",
       "         3.34849803,  1.93342045,  1.18130402,  4.25246695, -2.72684797,\n",
       "         0.1889539 , -3.14928482, -0.04886551, -1.35440066,  0.415892  ,\n",
       "         4.38771726,  0.70342267, -2.76654293,  1.07289308, -0.42528753,\n",
       "         0.92086442, -0.32671267,  2.0822214 , -3.70286251,  0.79387935,\n",
       "         0.81711988,  0.50328043, -1.16447399,  1.93250164, -2.23361963,\n",
       "        -7.681815  ,  3.2268185 ,  4.66459052,  3.20596786, -2.33212989,\n",
       "         7.35875747,  5.07829877, -3.73764995,  5.52961985, -2.97109642,\n",
       "         2.46558529,  2.74301708, -2.04067083,  3.11469674,  0.79146387,\n",
       "        -0.31887996, -1.98218393, -2.87538973, -0.74145967,  0.11625101,\n",
       "         3.36678201, -2.36177271, -1.2357473 , -2.09653431, -4.45560317,\n",
       "        -5.18760466, -3.764795  ,  1.51861905, -3.70472221,  3.58267906,\n",
       "         5.30152327,  1.52981931, -4.20294755, -1.11881604, -2.71774501,\n",
       "        -6.99535893,  0.60570917, -1.7498373 ,  1.00924258, -0.3504691 ,\n",
       "        -1.00953786,  1.2119305 ,  0.0441944 ,  1.51866304,  1.59894495]),\n",
       " array([-5.63070245e+00, -4.12799957e+00,  3.24267028e-01,  1.12094721e+00,\n",
       "        -4.66666874e+00,  2.43148902e+00, -1.14283359e+00,  2.06420441e+00,\n",
       "        -6.84915295e+00,  4.20999492e-01, -1.77009980e+00,  2.05158400e-02,\n",
       "         6.78028654e-01, -6.95315154e-01,  3.16785395e+00, -1.07450424e+00,\n",
       "         1.15594593e-01, -7.84366189e+00, -4.71092606e-01, -2.68795151e+00,\n",
       "        -4.76669695e+00, -2.11584220e-03,  3.09436886e+00,  1.04586770e+00,\n",
       "        -6.71422606e-01,  2.95640841e+00, -6.18862398e-01,  5.52667916e-01,\n",
       "        -2.21737415e+00, -1.03284161e+00, -5.46285545e+00, -6.39847377e+00,\n",
       "         1.26961434e+00, -2.78084409e+00, -2.69525450e+00, -2.74254475e+00,\n",
       "         9.92497320e+00, -6.12030056e+00, -2.41107900e+00,  2.23811367e+00,\n",
       "        -4.87043083e-01,  3.03361512e+00,  5.10665235e+00,  4.79092072e+00,\n",
       "         6.94511349e+00,  5.82192005e-01,  7.99120421e-01, -5.26301331e+00,\n",
       "         4.69014991e+00, -2.89755035e+00,  5.82546683e+00,  1.65698125e+00,\n",
       "        -5.84161446e-01, -1.68797853e+00, -7.25783947e+00,  7.49544490e-01,\n",
       "         1.59082497e+00,  4.47454252e+00, -2.84368387e+00, -2.05341209e+00,\n",
       "        -1.10200453e+00, -1.06153458e+01,  2.06407066e+00, -1.93342776e+00,\n",
       "         1.34271491e+00,  1.51759582e+00,  1.61837390e+00,  2.45110115e+00,\n",
       "         5.22661954e-01,  1.65776982e+00,  5.04371120e+00, -2.79032809e+00,\n",
       "         5.25470658e+00, -3.17513270e+00, -3.72244929e+00, -5.97183674e+00,\n",
       "         1.51364045e+00, -1.59173656e+00,  6.66880806e+00,  1.11237647e+00,\n",
       "         1.05196015e+01,  3.29760895e+00, -1.67900856e+00,  9.29406750e+00,\n",
       "         2.89038266e+00,  2.63640504e-01,  1.82206542e+00,  2.47394387e+00,\n",
       "        -4.74942854e-01, -3.35687916e+00,  6.10336601e+00, -3.86854200e+00,\n",
       "        -7.61549149e-01,  1.35702304e-01, -5.77951427e+00,  2.63407802e+00,\n",
       "        -3.28774066e+00,  1.32775494e+00,  1.43180931e+00,  7.39474571e+00]),\n",
       " array([-8.69514426e+00,  3.51571852e+00, -1.34298666e+00, -6.68755456e+00,\n",
       "        -8.00602143e+00,  2.33886255e+00, -5.80414710e+00,  5.20777931e+00,\n",
       "        -2.16821710e+00, -1.00479683e+01,  1.58622258e+00, -1.05659124e+01,\n",
       "        -1.41208660e-02, -2.02218478e+00, -2.55215711e+00,  1.02208956e+01,\n",
       "        -3.60934204e+00, -7.93383670e+00, -3.95291715e+00, -3.76784729e+00,\n",
       "         1.50905886e+00,  5.72731087e+00, -4.54765070e+00, -4.06610340e+00,\n",
       "         8.72083532e+00,  2.92730699e+00, -7.39446231e+00,  4.66606291e-02,\n",
       "         2.25730741e+00, -8.08362562e+00,  7.32201236e+00, -3.10869064e+00,\n",
       "         4.52363785e-01,  5.36325570e-01, -1.78493423e+00, -6.06315430e+00,\n",
       "        -3.96395479e+00, -1.79535582e+00,  3.38519624e+00, -9.50509157e+00,\n",
       "         9.42704056e-01,  5.93983455e+00,  3.08840582e+00,  7.51047589e+00,\n",
       "        -6.52988460e-02, -1.49458638e-01,  5.13299158e+00,  5.26003458e-01,\n",
       "        -1.48010834e+00, -2.90021846e+00, -2.96374570e+00,  1.18876923e+00,\n",
       "        -1.02175392e+01,  4.46899918e+00, -4.83714180e+00,  6.73070793e+00,\n",
       "         5.35484010e+00,  7.77187037e+00,  5.05092935e+00,  6.84938165e+00,\n",
       "         1.76394879e-01,  1.38238431e-01,  1.75477542e-01,  3.15727871e-01,\n",
       "        -1.84894468e+00, -5.36294705e+00, -2.45080072e-01,  1.19286942e+01,\n",
       "        -1.87797951e+00, -2.22355342e+00, -6.71077444e+00, -7.05133703e+00,\n",
       "        -1.27495881e+00, -1.45831933e+00, -1.01135130e+00, -2.35612865e+00,\n",
       "         2.79502668e-01,  5.43745121e+00,  3.39894847e+00,  2.40282682e+00,\n",
       "         1.03075194e+00, -9.34778756e-02, -8.32552412e+00,  5.74976457e+00,\n",
       "         2.44554252e+00, -8.00901315e+00,  4.75384522e+00, -1.34904357e+00,\n",
       "         4.91168273e+00,  7.38584357e+00,  5.51059185e+00, -1.75655215e+00,\n",
       "        -3.41277704e+00, -5.52307867e+00, -4.42840222e+00,  1.19074809e+01,\n",
       "         1.52982724e+01, -1.41166135e+01,  6.08918161e+00,  1.33885117e+00]),\n",
       " array([  5.1190703 ,   6.31486041,   4.24632936,  -4.49942624,\n",
       "         -3.74779728,  -2.88089236,  -3.26509909,   4.52683985,\n",
       "          3.93731726,   1.21484637,  -9.36921586,   0.1089026 ,\n",
       "         -1.04233989,  -2.46047393,   8.29976111,  17.45118985,\n",
       "          5.12333863,   7.08922019,  -5.29960522,  -1.08074654,\n",
       "        -10.18770676,   0.67679683, -11.71056413,  -1.94337908,\n",
       "          4.07123386,  -1.11928491,  -9.40639412,  -9.88087249,\n",
       "          3.51606366,   8.80025764,  -5.14338106,   3.51094382,\n",
       "         -4.52783494,  -3.65999715,   1.51994703,   6.27309315,\n",
       "         12.02065629,  -0.37824293,   5.13085237,   0.89472266,\n",
       "         -1.31326054,   3.5186804 ,  -2.89348357,   9.09872261,\n",
       "          7.1566475 ,   2.34669747,   4.60483227,   7.63092844,\n",
       "          3.28160111,   0.43607616,  -0.26116855,   9.6421822 ,\n",
       "          4.0490652 ,   1.37752146,   3.8381323 ,  -0.55306571,\n",
       "         -0.11145995,   5.59193098,  -2.08263577,   7.07438959,\n",
       "          0.58076223,  -8.14850236,   5.09840873,  -3.47508378,\n",
       "         10.98108812,  -0.02165331,   0.15897929,  -6.14325061,\n",
       "          0.12827592,   1.69339505,   3.88846712,  -2.17179315,\n",
       "          4.91401153,   1.30649749,   5.39426521,  -1.65284033,\n",
       "         -1.7502792 ,  -0.88428261,   4.79312725,  -5.82632396,\n",
       "          5.26020713,  -6.15940876,  -6.31353008,  -8.09662484,\n",
       "          6.94681077,  10.58009226,   4.25990774,  -4.62258397,\n",
       "         -2.24367599,   2.41406223,   7.7846725 ,   1.93160631,\n",
       "          7.54886884,   7.028102  ,  -1.8885258 ,  -5.25326769,\n",
       "         -5.97885175,   1.37576316,   9.10661556,  -1.47917654]),\n",
       " array([ 15.88831172,   8.21454459,  -5.49861695,   5.21364118,\n",
       "          8.49671931,  -4.97973322, -16.96301781, -10.15696316,\n",
       "          5.0848298 ,  -4.27906061,   4.95861033,  -0.82716209,\n",
       "         -2.13515266, -10.59010481,  -8.30219589, -17.58788988,\n",
       "         -8.94233307,   1.23458153,   1.61548921,   4.71770247,\n",
       "         -6.84074315,   0.36443319,   0.84070334,  -2.58377029,\n",
       "          6.4517916 ,  -2.3415894 ,  -8.59163669,   4.09835479,\n",
       "          1.05177493,   6.52268562,  -3.12886872,   5.99111131,\n",
       "         -3.26973926,   4.94236145,  -9.5790653 ,   1.89547897,\n",
       "         -9.56470834,   7.6793825 , -11.66775839,   2.99494331,\n",
       "        -10.66490844,   2.37814074,   0.07936427,   0.57300818,\n",
       "         -8.09818621,   5.00915213, -15.65600922,  -5.78785048,\n",
       "         -8.94772939,  -0.32218684,  -6.89194938,  -7.9148868 ,\n",
       "         -3.91473566,   8.0284598 ,   4.55062898,   0.67598031,\n",
       "          8.99691651,   3.4824326 ,   4.30206293,   5.17339834,\n",
       "         -2.51492296, -18.47233111,  -2.21640958,   0.06369437,\n",
       "          1.63881668,   0.12089605,  -2.13878973,  -3.42282739,\n",
       "          8.51558061,   0.16735293,   5.68180971,  -0.40368454,\n",
       "          3.76950685,   2.50571439,   0.04742833, -10.61580252,\n",
       "        -13.29220866,  13.87382283,   2.8021995 ,  -4.38992517,\n",
       "          4.48943011,   7.87000175,   2.99259625,  -8.95925341,\n",
       "         -1.29179434,  -4.81876027,  -4.71785648,  -6.1534518 ,\n",
       "          5.65666845,   1.47056329,   7.98885827,  10.78991925,\n",
       "          1.61522055,  -1.5414753 ,  -0.4952276 ,   7.23924045,\n",
       "          6.93779641,  -5.88831639,   1.82752986, -12.0548689 ]),\n",
       " array([  8.12431652,   7.92834818,   4.05357539,   2.35028079,\n",
       "         -5.03546619,   9.9570857 ,   7.71967468,  -3.71914985,\n",
       "         -1.98113721, -15.93074832, -17.65957794,  -3.19666271,\n",
       "         -8.53060873,   1.34775625,  11.69634394,  -1.94702433,\n",
       "         -5.58534469,  11.83896729, -10.32108247,  -6.37654763,\n",
       "         -0.53167784,   6.61075349,   1.24012269,  -2.04851746,\n",
       "         -3.10153402,   4.8924152 ,   4.09266692,  -2.0120052 ,\n",
       "          1.03133718,   5.32173068,   1.78144472,   3.02130596,\n",
       "         -7.99807621,   0.95816318,   4.26436445,  -3.82187925,\n",
       "          8.8284471 ,   0.58923734,  -1.63292561,   0.54241569,\n",
       "         -1.21817689,   0.30557643,  -1.00700563,  10.25999594,\n",
       "        -11.18604284, -15.99704717,   4.87683839,  -7.58129919,\n",
       "          2.4881011 ,   1.29393492,  -0.21706619,  -1.57096756,\n",
       "          4.67811756,  -2.67702468,   1.44463536,   1.24435881,\n",
       "        -15.78937023,   2.42933445,  -0.8287469 ,  -2.79218561,\n",
       "         -3.72122693,  -1.81998076,  -0.38326467,   2.10076947,\n",
       "          5.07433536,  -5.25659168, -13.46783879,  -2.56815593,\n",
       "         -0.17043342,  -1.63263795,  -2.70116259,   6.12263032,\n",
       "          4.05429698,  -0.80630633,  -8.92492413,  -6.74161988,\n",
       "        -13.8853032 ,  -6.25863231,   2.55953328,  -5.19267498,\n",
       "         -1.3541997 ,  -6.85059187,  -3.75866299, -12.57617065,\n",
       "         -6.45888502,  -3.57989576,  -0.71365847,  -1.45965819,\n",
       "         -5.72209681,   5.81591872,   6.3945076 ,  -2.95144287,\n",
       "         -5.72608718,   0.66793016,   5.36145424,  -9.33668599,\n",
       "         -3.9453537 ,  -5.79165693,   0.66108575,  -9.03129526]),\n",
       " array([  3.09235074,  -5.96478458,  -7.77452669,   0.05255517,\n",
       "        -15.59742099,   9.4772366 , -22.91031218,  -6.55458392,\n",
       "          5.34497856, -16.8536228 ,  10.77180842,  -0.35025971,\n",
       "         -2.40024442,  -1.44997772,   4.68038495,  -6.96173809,\n",
       "          7.60555731,   5.14979441, -14.50772624,   2.79705375,\n",
       "          0.54146629,   8.09398492,   5.40126673, -17.68072596,\n",
       "        -21.9999225 ,  -3.46727011, -14.80937226,   4.4610909 ,\n",
       "         -8.84450231,  10.11461074,   1.1292528 ,  11.87728458,\n",
       "         13.43487006,  -6.11064022,  -4.40402717,  -4.02771336,\n",
       "          3.4651089 ,  12.94601674,   3.77562781,   8.12415398,\n",
       "          4.47849944,  -2.79859572,  -5.33164507, -11.76668032,\n",
       "          3.61668917, -18.57618027,   8.18479693,   6.23449079,\n",
       "         15.44653952,   5.23261595,  -4.34554998, -11.12246731,\n",
       "         -5.71351079,   2.31166603,  18.58938651,  -9.51308204,\n",
       "          2.09912471, -15.09889858, -14.79193896,  -2.34200537,\n",
       "         -3.22987326, -13.96600463,   9.22162018,  -5.73657529,\n",
       "         -4.83945518,   8.1219529 , -17.06898077,   5.02057035,\n",
       "        -20.85969386,  17.63885437,  -1.09909409,   5.17862465,\n",
       "         -2.76475213,   4.10087027,   6.24820234,   5.75485837,\n",
       "         -1.68996447,  -6.35543765,  -1.87963208, -12.78136786,\n",
       "         -2.61987529,  -2.36309889,  -8.40651601, -13.34705915,\n",
       "          9.84231514,   3.06593736,  -1.27289467,  -7.54691617,\n",
       "         -3.60006156, -13.7438547 ,   7.87208218,   1.31308064,\n",
       "          3.72128687,  -2.21182637,   5.41117958,  -5.8420217 ,\n",
       "         -6.63188272,  -4.59124232, -11.43748378,  -1.68579935])]"
      ]
     },
     "execution_count": 50,
     "metadata": {},
     "output_type": "execute_result"
    }
   ],
   "source": [
    "da = [np.random.normal(0,std,100) for std in range(1,10)]\n",
    "da"
   ]
  },
  {
   "cell_type": "markdown",
   "metadata": {},
   "source": [
    "# boxplot"
   ]
  },
  {
   "cell_type": "code",
   "execution_count": 53,
   "metadata": {},
   "outputs": [
    {
     "data": {
      "image/png": "[encoded data removed]",
      "text/plain": [
       "<Figure size 432x288 with 1 Axes>"
      ]
     },
     "metadata": {},
     "output_type": "display_data"
    }
   ],
   "source": [
    "plt.boxplot(da,vert = True , patch_artist=True ,notch=True,labels=[1,2,3,4,5,6,7,8,9])\n",
    "plt.show()"
   ]
  },
  {
   "cell_type": "code",
   "execution_count": 54,
   "metadata": {},
   "outputs": [
    {
     "data": {
      "image/png": "[encoded data removed]",
      "text/plain": [
       "<Figure size 432x288 with 1 Axes>"
      ]
     },
     "metadata": {},
     "output_type": "display_data"
    }
   ],
   "source": [
    "value1 = [82,76,24,40,67,62,75,78,71,32,98,89,78,67,72,82,87,66,56,52]\n",
    "value2=[62,5,91,25,36,32,96,95,3,90,95,32,27,55,100,15,71,11,37,21]\n",
    "value3=[23,89,12,78,72,89,25,69,68,86,19,49,15,16,16,75,65,31,25,52]\n",
    "value4=[59,73,70,16,81,61,88,98,10,87,29,72,16,23,72,88,78,99,75,30]\n",
    " \n",
    "box_plot_data=[value1,value2,value3,value4]\n",
    "plt.boxplot(box_plot_data)\n",
    "plt.show()"
   ]
  },
  {
   "cell_type": "markdown",
   "metadata": {},
   "source": [
    "# log scale"
   ]
  },
  {
   "cell_type": "code",
   "execution_count": 58,
   "metadata": {},
   "outputs": [
    {
     "data": {
      "image/png": "[encoded data removed]",
      "text/plain": [
       "<Figure size 720x288 with 2 Axes>"
      ]
     },
     "metadata": {},
     "output_type": "display_data"
    }
   ],
   "source": [
    "#Log scale\n",
    "fix,ax = plt.subplots(1,2,figsize=(10,4))\n",
    "\n",
    "ax[0].plot(x,y,x,y*2)\n",
    "\n",
    "ax[1].plot(x,np.exp(x))  # exponential of x\n",
    "ax[1].set_yscale('log')  # if y axis is log then exp of x becomes straight line\n",
    "\n",
    "fix.tight_layout()"
   ]
  },
  {
   "cell_type": "markdown",
   "metadata": {},
   "source": [
    "# tick"
   ]
  },
  {
   "cell_type": "code",
   "execution_count": 69,
   "metadata": {},
   "outputs": [
    {
     "data": {
      "text/plain": [
       "[<matplotlib.axis.YTick at 0x7fe8fc9bb978>,\n",
       " <matplotlib.axis.YTick at 0x7fe8fc9bb5c0>,\n",
       " <matplotlib.axis.YTick at 0x7fe8fc9d7ac8>]"
      ]
     },
     "execution_count": 69,
     "metadata": {},
     "output_type": "execute_result"
    },
    {
     "data": {
      "image/png": "[encoded data removed]",
      "text/plain": [
       "<Figure size 720x288 with 1 Axes>"
      ]
     },
     "metadata": {},
     "output_type": "display_data"
    }
   ],
   "source": [
    "fix,ax = plt.subplots(figsize=(10,4))\n",
    "\n",
    "ax.plot(x,y2)\n",
    "#ax.set_xticks([1,2,3,4,5,6,7,8,9,10])\n",
    "#ax.set_xticks(x)\n",
    "ax.set_xticks([1,3,5,10])\n",
    "ax.set_xticklabels([r'a',r'b',r'b',r'd'])\n",
    "ax.set_xticklabels([r'$\\alpha$',r'$\\beta$',r'$\\gamma$',r'$\\delta$'],fontsize=20)\n",
    "ax.set_yticks([0,250,500])\n"
   ]
  },
  {
   "cell_type": "markdown",
   "metadata": {},
   "source": [
    "# formatter ticker"
   ]
  },
  {
   "cell_type": "code",
   "execution_count": 70,
   "metadata": {},
   "outputs": [],
   "source": [
    "from matplotlib import ticker"
   ]
  },
  {
   "cell_type": "code",
   "execution_count": 71,
   "metadata": {},
   "outputs": [
    {
     "data": {
      "image/png": "[encoded data removed]",
      "text/plain": [
       "<Figure size 432x288 with 1 Axes>"
      ]
     },
     "metadata": {},
     "output_type": "display_data"
    }
   ],
   "source": [
    "fig,ax = plt.subplots()\n",
    "ax.plot(x,y2)\n",
    "ax.set_title(\"Scientific Notations\")\n",
    "\n",
    "formatter = ticker.ScalarFormatter(useMathText=True)\n",
    "formatter.set_scientific(True)\n",
    "formatter.set_powerlimits((-1,-1))\n",
    "ax.yaxis.set_major_formatter(formatter)"
   ]
  },
  {
   "cell_type": "code",
   "execution_count": null,
   "metadata": {},
   "outputs": [],
   "source": []
  }
 ],
 "metadata": {
  "kernelspec": {
   "display_name": "Python 3",
   "language": "python",
   "name": "python3"
  },
  "language_info": {
   "codemirror_mode": {
    "name": "ipython",
    "version": 3
   },
   "file_extension": ".py",
   "mimetype": "text/x-python",
   "name": "python",
   "nbconvert_exporter": "python",
   "pygments_lexer": "ipython3",
   "version": "3.6.5"
  }
 },
 "nbformat": 4,
 "nbformat_minor": 2
}
